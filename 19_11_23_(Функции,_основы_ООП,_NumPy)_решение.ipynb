{
  "nbformat": 4,
  "nbformat_minor": 0,
  "metadata": {
    "colab": {
      "provenance": [],
      "include_colab_link": true
    },
    "kernelspec": {
      "name": "python3",
      "display_name": "Python 3"
    },
    "language_info": {
      "name": "python"
    }
  },
  "cells": [
    {
      "cell_type": "markdown",
      "metadata": {
        "id": "view-in-github",
        "colab_type": "text"
      },
      "source": [
        "<a href=\"https://colab.research.google.com/github/DarkAngel285/GoogleCoLab/blob/main/Copy_of_19_11_23_(%D0%A4%D1%83%D0%BD%D0%BA%D1%86%D0%B8%D0%B8%2C_%D0%BE%D1%81%D0%BD%D0%BE%D0%B2%D1%8B_%D0%9E%D0%9E%D0%9F%2C_NumPy)_%D1%80%D0%B5%D1%88%D0%B5%D0%BD%D0%B8%D0%B5.ipynb\" target=\"_parent\"><img src=\"https://colab.research.google.com/assets/colab-badge.svg\" alt=\"Open In Colab\"/></a>"
      ]
    },
    {
      "cell_type": "markdown",
      "source": [
        "# **Функции**"
      ],
      "metadata": {
        "id": "L2fkkU_JeiVM"
      }
    },
    {
      "cell_type": "code",
      "source": [
        "def F1(a,b):\n",
        "  return a**b\n",
        "\n",
        "print(F1(2,3))\n",
        "print(F1(10,5))"
      ],
      "metadata": {
        "colab": {
          "base_uri": "https://localhost:8080/"
        },
        "id": "RvLcUT2_eolU",
        "outputId": "3c407cec-13a9-494e-e1b9-58ffc6f08f3c"
      },
      "execution_count": null,
      "outputs": [
        {
          "output_type": "stream",
          "name": "stdout",
          "text": [
            "8\n",
            "100000\n"
          ]
        }
      ]
    },
    {
      "cell_type": "code",
      "source": [
        "# Вспомним, как реализуется генерация списка\n",
        "my_list = [x for x in range(25)]\n",
        "print(my_list)"
      ],
      "metadata": {
        "colab": {
          "base_uri": "https://localhost:8080/"
        },
        "id": "0Atpq1p_es3a",
        "outputId": "7f1f42e7-99a9-48d3-86d0-ea55ca5d7ff4"
      },
      "execution_count": null,
      "outputs": [
        {
          "output_type": "stream",
          "name": "stdout",
          "text": [
            "[0, 1, 2, 3, 4, 5, 6, 7, 8, 9, 10, 11, 12, 13, 14, 15, 16, 17, 18, 19, 20, 21, 22, 23, 24]\n"
          ]
        }
      ]
    },
    {
      "cell_type": "code",
      "source": [
        "# А теперь создадим функцию, генерирующие списки\n",
        "\n",
        "def list_gen(A):\n",
        "  list_1 = [x for x in range(A)]\n",
        "  return list_1"
      ],
      "metadata": {
        "id": "sSLRpqpZfa48"
      },
      "execution_count": null,
      "outputs": []
    },
    {
      "cell_type": "code",
      "source": [
        "print(list_gen(25))"
      ],
      "metadata": {
        "colab": {
          "base_uri": "https://localhost:8080/"
        },
        "id": "EdOu81Qcf38e",
        "outputId": "44260e98-9736-422a-fcc0-1392a3832a06"
      },
      "execution_count": null,
      "outputs": [
        {
          "output_type": "stream",
          "name": "stdout",
          "text": [
            "[0, 1, 2, 3, 4, 5, 6, 7, 8, 9, 10, 11, 12, 13, 14, 15, 16, 17, 18, 19, 20, 21, 22, 23, 24]\n"
          ]
        }
      ]
    },
    {
      "cell_type": "code",
      "source": [
        "for i in range(10):\n",
        "  print(list_gen(i))"
      ],
      "metadata": {
        "colab": {
          "base_uri": "https://localhost:8080/"
        },
        "id": "FOijEdMcg8y4",
        "outputId": "b4767e3d-e056-4ac8-f4b9-edaa10374dcb"
      },
      "execution_count": null,
      "outputs": [
        {
          "output_type": "stream",
          "name": "stdout",
          "text": [
            "[]\n",
            "[0]\n",
            "[0, 1]\n",
            "[0, 1, 2]\n",
            "[0, 1, 2, 3]\n",
            "[0, 1, 2, 3, 4]\n",
            "[0, 1, 2, 3, 4, 5]\n",
            "[0, 1, 2, 3, 4, 5, 6]\n",
            "[0, 1, 2, 3, 4, 5, 6, 7]\n",
            "[0, 1, 2, 3, 4, 5, 6, 7, 8]\n"
          ]
        }
      ]
    },
    {
      "cell_type": "code",
      "source": [
        "# Необязательные параметры\n",
        "def F2(x, k =2, b = 9):\n",
        "  return k*x + b\n",
        "\n",
        "print(F2(2,3))\n",
        "print(F2(2))"
      ],
      "metadata": {
        "colab": {
          "base_uri": "https://localhost:8080/"
        },
        "id": "bfw0MIqghCO3",
        "outputId": "7960c60a-c7cc-47a1-82e3-aa6bee3fc840"
      },
      "execution_count": null,
      "outputs": [
        {
          "output_type": "stream",
          "name": "stdout",
          "text": [
            "15\n",
            "13\n"
          ]
        }
      ]
    },
    {
      "cell_type": "code",
      "source": [
        "a = 9 # глобальная переменная\n",
        "\n",
        "def sum_(a,b):          # a,b локальные переменные\n",
        "  return int(a*2 + b)\n",
        "\n",
        "print(sum_(34,2))\n",
        "print(a)"
      ],
      "metadata": {
        "colab": {
          "base_uri": "https://localhost:8080/"
        },
        "id": "qeCAGb3gj4of",
        "outputId": "f6d660a5-f97c-4724-9a9b-1f4bbbd79c13"
      },
      "execution_count": null,
      "outputs": [
        {
          "output_type": "stream",
          "name": "stdout",
          "text": [
            "70\n",
            "9\n"
          ]
        }
      ]
    },
    {
      "cell_type": "markdown",
      "source": [
        "## Задания"
      ],
      "metadata": {
        "id": "_ybe1zxOhRBl"
      }
    },
    {
      "cell_type": "markdown",
      "source": [
        "1) Постройте функцию get_average, которая принимает на вход список чисел и возвращает среднее арифметическое. Например, для списка [5, 2, 1, 3, 4] функция должна вернуть 3."
      ],
      "metadata": {
        "id": "_FcYAAJzhVkz"
      }
    },
    {
      "cell_type": "code",
      "source": [
        "def get_average(a):\n",
        "  rez = sum(a) / len(a)\n",
        "  return rez\n",
        "\n",
        "get_average([1,2,3,3,4])"
      ],
      "metadata": {
        "colab": {
          "base_uri": "https://localhost:8080/"
        },
        "id": "-oXe3bByhUzy",
        "outputId": "b0625197-1c96-4b67-f8c8-93bebcd24bcf"
      },
      "execution_count": null,
      "outputs": [
        {
          "output_type": "execute_result",
          "data": {
            "text/plain": [
              "2.6"
            ]
          },
          "metadata": {},
          "execution_count": 2
        }
      ]
    },
    {
      "cell_type": "code",
      "source": [
        "def get_average(a):\n",
        "  return sum(a) / len(a)\n",
        "\n",
        "get_average([5, 2, 1, 3, 4])"
      ],
      "metadata": {
        "colab": {
          "base_uri": "https://localhost:8080/"
        },
        "id": "olmtSSD6ifk_",
        "outputId": "7d6e1aac-97a7-466a-ace3-2c5189fb32ea"
      },
      "execution_count": null,
      "outputs": [
        {
          "output_type": "execute_result",
          "data": {
            "text/plain": [
              "2.6"
            ]
          },
          "metadata": {},
          "execution_count": 8
        }
      ]
    },
    {
      "cell_type": "markdown",
      "source": [
        "# **Основы объектно-ориентированного программирования**"
      ],
      "metadata": {
        "id": "T9WaHchLjPt3"
      }
    },
    {
      "cell_type": "code",
      "source": [
        "class cat():\n",
        "\n",
        "  def __init__(self, breed, color, age):\n",
        "    self.breed = breed\n",
        "    self.color = color\n",
        "    self.age = age\n",
        "    self.legs = 4 #\n",
        "\n",
        "  def meow(self):\n",
        "    print('Мяу!')\n",
        "\n",
        "  def purr(self):\n",
        "    print('Мурррр')\n",
        "\n",
        "  def year(self):\n",
        "    self.age += 1\n",
        "    print('Прошёл ещё один год...Теперь мне ', self.age)\n",
        "\n",
        "Cat_1 = cat('дворняга','рыжая',2)\n",
        "Cat_2 = cat('шотландец','серый',4)\n",
        "Cat_3 = cat('сфинкс','лысый',1)\n",
        "\n",
        "print(Cat_3.color)\n",
        "Cat_3.color = 'чёрный'\n",
        "print(Cat_3.color)\n",
        "\n",
        "cat_list = [Cat_1, Cat_2, Cat_3] # пройтись по животным в цикле\n",
        "for cat in cat_list:\n",
        "  print('Привет, я ' + cat.breed + '!')\n",
        "\n",
        "for i in range(5):\n",
        "  Cat_1.year()\n"
      ],
      "metadata": {
        "id": "2uP1-ZsFs_A8",
        "colab": {
          "base_uri": "https://localhost:8080/"
        },
        "outputId": "dbd9c35a-9f33-486e-e1e0-edf16b7cd77f"
      },
      "execution_count": null,
      "outputs": [
        {
          "output_type": "stream",
          "name": "stdout",
          "text": [
            "лысый\n",
            "чёрный\n",
            "Привет, я дворняга!\n",
            "Привет, я шотландец!\n",
            "Привет, я сфинкс!\n",
            "Прошёл ещё один год...Теперь мне  3\n",
            "Прошёл ещё один год...Теперь мне  4\n",
            "Прошёл ещё один год...Теперь мне  5\n",
            "Прошёл ещё один год...Теперь мне  6\n",
            "Прошёл ещё один год...Теперь мне  7\n"
          ]
        }
      ]
    },
    {
      "cell_type": "markdown",
      "source": [
        "# **Библиотека Numpy**"
      ],
      "metadata": {
        "id": "sIPTEF2ODnlc"
      }
    },
    {
      "cell_type": "code",
      "source": [],
      "metadata": {
        "id": "SmaF7dEJDtk7"
      },
      "execution_count": null,
      "outputs": []
    },
    {
      "cell_type": "code",
      "source": [],
      "metadata": {
        "id": "8nd_nb5ZDtrQ"
      },
      "execution_count": null,
      "outputs": []
    },
    {
      "cell_type": "code",
      "source": [],
      "metadata": {
        "id": "pf5Hl56KDtzX"
      },
      "execution_count": null,
      "outputs": []
    },
    {
      "cell_type": "markdown",
      "source": [
        "# **Домашнее задание**"
      ],
      "metadata": {
        "id": "lLinM8nnnLf1"
      }
    },
    {
      "cell_type": "markdown",
      "source": [
        "1) Построй функцию get_median, которая принимает на вход список чисел и возвращает медиану. Результат необходимо вывести с помощью print(). Тест производится на списке [5, 2, 1, 3, 4], функция должна вернуть 3.\n",
        "\n",
        "*Примечание*: медиана - это такое число, что половина из элементов выборки больше него, а другая половина меньше.\n",
        "\n",
        "Например:\n",
        "- в упорядоченном списке чисел [1,3,3,**6**,7,8,9] медиана - число 6.\n",
        "- в упорядоченном списке чисел [1,2,3,**4,5**,6,8,9] медиана - (4+5)/2 = 4.5.\n"
      ],
      "metadata": {
        "id": "TZRat0OpnP-_"
      }
    },
    {
      "cell_type": "code",
      "source": [
        "def get_median(my_list):\n",
        "  my_list.sort()\n",
        "  median = 0\n",
        "\n",
        "  if len(my_list) % 2 == 0:\n",
        "    median = (my_list[len(my_list)//2] + my_list[len(my_list)//2+1])/2\n",
        "  else:\n",
        "    median = my_list[len(my_list)//2]\n",
        "\n",
        "  return median\n",
        "print(get_median([5,2,1,3,4]))"
      ],
      "metadata": {
        "id": "XGZ0bhg8pBcX",
        "colab": {
          "base_uri": "https://localhost:8080/"
        },
        "outputId": "c73efab5-f9c6-47c2-93a9-48eb4e912ef4"
      },
      "execution_count": null,
      "outputs": [
        {
          "output_type": "stream",
          "name": "stdout",
          "text": [
            "3\n"
          ]
        }
      ]
    },
    {
      "cell_type": "markdown",
      "source": [
        "2) Напиши класс Dog, в котором опиши свою собаку: пусть у собаки можно будет задать породу, имя, цвет, возраст, дрессированная она или нет.\n",
        "\n",
        "Методы: поменять имя питомцу, дать лапу, выполнить команду «Голос», начать дрессировать собаку, напечатать информацию о собаке на экран.\n",
        "\n",
        "А затем создай экземпляр класса и выведи информацию о нём на экран."
      ],
      "metadata": {
        "id": "2OMipNRV-fzi"
      }
    },
    {
      "cell_type": "code",
      "source": [
        "class Dog():\n",
        "    def __init__(self, breed, name, color, age, trained):\n",
        "        self.breed = breed\n",
        "        self.name = name\n",
        "        self.color = color\n",
        "        self.age = age\n",
        "        self.trained = trained\n",
        "\n",
        "    def change_name(self, new_name):\n",
        "        self.name = new_name\n",
        "\n",
        "    def give_paw(self):\n",
        "        print(\"*Собака дала лапу*\")\n",
        "\n",
        "    def voice(self):\n",
        "        print(\"Гав!\")\n",
        "\n",
        "    def train(self):\n",
        "        if (self.trained == True): print(\"*Собака уже дрессированна*\")\n",
        "        else: print(\"*Теперь собака дрессированна*\")\n",
        "\n",
        "    def info(self):\n",
        "        print(self.breed, self.name, self.color, self.age, self.trained, sep=\", \")\n",
        "\n",
        "Dog_1 = Dog(\"Сиба ину\", \"Пушок\", \"Белый\", 2, True)\n",
        "Dog_2 = Dog(\"Шпиц\", \"Цея\", \"Черный\", 4, False)\n",
        "\n",
        "Dog_1.info()\n",
        "Dog_2.info()"
      ],
      "metadata": {
        "id": "hEk7aGlI-jUp",
        "colab": {
          "base_uri": "https://localhost:8080/"
        },
        "outputId": "2c4aa577-9408-4a6e-95d1-d85e5cdf19e9"
      },
      "execution_count": 3,
      "outputs": [
        {
          "output_type": "stream",
          "name": "stdout",
          "text": [
            "Сиба ину, Пушок, Белый, 2, True\n",
            "Шпиц, Цея, Черный, 4, False\n"
          ]
        }
      ]
    },
    {
      "cell_type": "markdown",
      "source": [
        "3)\n",
        "- Иногда целого динозавра в музее собирают из костей разных представителей одного вида, поэтому и массу записывают для отдельно найденных частей: голова, корпус, передние лапы, задние лапы и хвост. Все эти показатели хранятся в виде векторов. Твоя первая задача - найти общую массу костей динозавров (стегозавра, тиранозавра и диплодока), если масса отдельных частей задана векторами Stegosaurus, Tyrannosaur и Diplodocus. Масса выражена в сотнях килограмм.\n",
        "Полученную сумму веса костей сохрани в переменной Mass.\n",
        "\n",
        "- Руководитель выставки выяснил, что обычно на 1 кг костей динозавра приходилось примерно 3 кг его реальной массы. Значит, реальная масса динозавра в 3 раза больше, чем масса его костей. Помоги определить вектор с реальным весом различных частей тела стегозавра, чтобы подготовить инфографику.\n",
        "Полученный вектор сохрани в переменной RealMass.\n",
        "\n",
        "- В музей пришли новые окаменелости с раскопок в Греции. Многие из них принадлежат уже представленным в музее динозаврам. Вся информация о костях на выставке и о новых костях записывается в виде матриц, где каждая строка — отдельный вид динозавра, а каждый столбец — часть тела, к которой относятся кости. Напиши программу, чтобы объединить эти две таблицы с информацией о новых окаменелостях и тех, что уже были, и посчитать, сколько теперь в музее костей.\n",
        "\n",
        "Найди сумму матриц museum и new и сохрани результат в переменную SumMatrix. Затем найди сумму элементов этой матрицы, чтобы узнать суммарное количество костей в музее.\n",
        "\n",
        "Полученную сумму костей запиши в переменной bonesCount.\n",
        "Выведи результаты работы кода через пробел: Mass, RealMass, bonesCount."
      ],
      "metadata": {
        "id": "kN8AqzNtGmAo"
      }
    },
    {
      "cell_type": "code",
      "source": [
        "import numpy as np\n",
        "\n",
        "Stegosaurus = np.array([2, 12, 3, 6, 5])\n",
        "Tyrannosaur = np.array([5, 23, 4, 18, 15])\n",
        "Diplodocus = np.array([7, 20, 10, 13, 12])\n",
        "\n",
        "museum = np.array([[10, 12, 4, 15, 5],[25, 13, 18, 17, 22],\n",
        "[17, 23, 19, 13, 11],[26, 25, 16, 14, 31]])\n",
        "new = np.array([[2, 3, 3, 1, 4],[5, 2, 4, 4, 7],[2, 7, 6, 8, 3],[6, 1, 6, 4, 8]])\n",
        "\n",
        "Mass = sum(Stegosaurus) + sum(Tyrannosaur) + sum(Diplodocus)\n",
        "RealMass = Stegosaurus * 3\n",
        "SumMatrix = museum + new\n",
        "bonesCount = sum(sum(SumMatrix))\n",
        "print(Mass, RealMass, bonesCount)"
      ],
      "metadata": {
        "id": "9QmJmJC2GutB",
        "colab": {
          "base_uri": "https://localhost:8080/"
        },
        "outputId": "8f981046-304b-4046-e4d7-0fad86e7817d"
      },
      "execution_count": 16,
      "outputs": [
        {
          "output_type": "stream",
          "name": "stdout",
          "text": [
            "155 [ 6 36  9 18 15] 422\n"
          ]
        }
      ]
    }
  ]
}
