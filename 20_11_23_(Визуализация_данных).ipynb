{
  "nbformat": 4,
  "nbformat_minor": 0,
  "metadata": {
    "colab": {
      "provenance": [],
      "include_colab_link": true
    },
    "kernelspec": {
      "name": "python3",
      "display_name": "Python 3"
    },
    "language_info": {
      "name": "python"
    }
  },
  "cells": [
    {
      "cell_type": "markdown",
      "metadata": {
        "id": "view-in-github",
        "colab_type": "text"
      },
      "source": [
        "<a href=\"https://colab.research.google.com/github/DarkAngel285/GoogleCoLab/blob/main/20_11_23_(%D0%92%D0%B8%D0%B7%D1%83%D0%B0%D0%BB%D0%B8%D0%B7%D0%B0%D1%86%D0%B8%D1%8F_%D0%B4%D0%B0%D0%BD%D0%BD%D1%8B%D1%85).ipynb\" target=\"_parent\"><img src=\"https://colab.research.google.com/assets/colab-badge.svg\" alt=\"Open In Colab\"/></a>"
      ]
    },
    {
      "cell_type": "markdown",
      "source": [
        "# **Библиотека Pandas**"
      ],
      "metadata": {
        "id": "uWijapjxYPrK"
      }
    },
    {
      "cell_type": "code",
      "source": [],
      "metadata": {
        "id": "YVL1CD_9YYii"
      },
      "execution_count": null,
      "outputs": []
    },
    {
      "cell_type": "code",
      "source": [],
      "metadata": {
        "id": "-4IaeQb6YYqC"
      },
      "execution_count": null,
      "outputs": []
    },
    {
      "cell_type": "code",
      "source": [],
      "metadata": {
        "id": "dHgIfDIVYYt5"
      },
      "execution_count": null,
      "outputs": []
    },
    {
      "cell_type": "markdown",
      "source": [
        "# **Библиотека Matplotlib**"
      ],
      "metadata": {
        "id": "cq8dCA_4YZUF"
      }
    },
    {
      "cell_type": "code",
      "source": [],
      "metadata": {
        "id": "w30JLuCaYgmO"
      },
      "execution_count": null,
      "outputs": []
    },
    {
      "cell_type": "code",
      "source": [],
      "metadata": {
        "id": "47jgVMyAYgtv"
      },
      "execution_count": null,
      "outputs": []
    },
    {
      "cell_type": "code",
      "source": [],
      "metadata": {
        "id": "ZFhPZS0GYgy-"
      },
      "execution_count": null,
      "outputs": []
    },
    {
      "cell_type": "markdown",
      "source": [
        "# **Библиотека Pyplot**"
      ],
      "metadata": {
        "id": "w1DlgSqxYhP1"
      }
    },
    {
      "cell_type": "code",
      "source": [],
      "metadata": {
        "id": "seRwQO7pYnNo"
      },
      "execution_count": null,
      "outputs": []
    },
    {
      "cell_type": "code",
      "source": [],
      "metadata": {
        "id": "-SaUs6U7YnRj"
      },
      "execution_count": null,
      "outputs": []
    },
    {
      "cell_type": "code",
      "source": [],
      "metadata": {
        "id": "IRDVO6xXYnV0"
      },
      "execution_count": null,
      "outputs": []
    },
    {
      "cell_type": "markdown",
      "source": [
        "# **Задание**"
      ],
      "metadata": {
        "id": "xlUHr2IsYllH"
      }
    },
    {
      "cell_type": "markdown",
      "source": [
        "Продолжим работу с дата фрэйм школы чародейства и волшебства “Магистериус”!\n",
        "Все упражнения мы будем выполнять на примере файла [StudentsPerformance.csv](https://disk.yandex.ru/d/7hQvwKr9KNp1Nw)!\n",
        "\n",
        "Для этого скачай дата фрэйм и загрузи его в проект блокнота.\n",
        "\n",
        "*Примечание*: по желанию, можете строить интерактивные графики с помощью библиотеки plotly."
      ],
      "metadata": {
        "id": "uOp_sclYYt-e"
      }
    },
    {
      "cell_type": "markdown",
      "source": [
        "1) Считай файл StudentsPerformance.csv с помощью библиотеки pandas и выведи первые 5 строк таблицы."
      ],
      "metadata": {
        "id": "ZKkWYxcXYyKW"
      }
    },
    {
      "cell_type": "code",
      "source": [],
      "metadata": {
        "id": "oe5ti-P5YswQ"
      },
      "execution_count": null,
      "outputs": []
    },
    {
      "cell_type": "markdown",
      "source": [
        "2) Построй столбчатую диаграмму, отображающую кол-во студентов каждого факультета школы. Добавь заголовок \"Студенты школы 'Магистериус'\".\n",
        "\n",
        "Студентов какого факультета больше?"
      ],
      "metadata": {
        "id": "GUXqAXueYuir"
      }
    },
    {
      "cell_type": "code",
      "source": [],
      "metadata": {
        "id": "kswl1OzwYs3-"
      },
      "execution_count": null,
      "outputs": []
    },
    {
      "cell_type": "markdown",
      "source": [
        "3) Какая связь между результатами оценок по предметам 'заклинание' ('charms score') и 'зельеварение' ('potions score')?\n",
        "\n",
        "Сделайте вывод, построив график с помощью метода scatter. Подпиши Ox и Oy, добавь заголовок."
      ],
      "metadata": {
        "id": "55gb30IRYvF5"
      }
    },
    {
      "cell_type": "code",
      "source": [],
      "metadata": {
        "id": "ZPmDKTtxYvNn"
      },
      "execution_count": null,
      "outputs": []
    }
  ]
}