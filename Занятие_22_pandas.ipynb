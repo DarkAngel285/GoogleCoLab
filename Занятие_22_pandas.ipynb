{
  "nbformat": 4,
  "nbformat_minor": 0,
  "metadata": {
    "colab": {
      "provenance": [],
      "include_colab_link": true
    },
    "kernelspec": {
      "name": "python3",
      "display_name": "Python 3"
    },
    "language_info": {
      "name": "python"
    }
  },
  "cells": [
    {
      "cell_type": "markdown",
      "metadata": {
        "id": "view-in-github",
        "colab_type": "text"
      },
      "source": [
        "<a href=\"https://colab.research.google.com/github/DarkAngel285/GoogleCoLab/blob/main/%D0%97%D0%B0%D0%BD%D1%8F%D1%82%D0%B8%D0%B5_22_pandas.ipynb\" target=\"_parent\"><img src=\"https://colab.research.google.com/assets/colab-badge.svg\" alt=\"Open In Colab\"/></a>"
      ]
    },
    {
      "cell_type": "markdown",
      "source": [
        "## Группировка данных по нескольким признакам"
      ],
      "metadata": {
        "id": "7ccG77MxyqeH"
      }
    },
    {
      "cell_type": "code",
      "source": [
        "import pandas as pd"
      ],
      "metadata": {
        "id": "8ANDZ5F9z9pK"
      },
      "execution_count": null,
      "outputs": []
    },
    {
      "cell_type": "code",
      "source": [
        "#Монтируем гугл диск. Выйдет окно диалога - надо разрешить доступ\n",
        "from google.colab import drive\n",
        "drive.mount ('/content/drive')"
      ],
      "metadata": {
        "id": "6W53J7M4zLtn",
        "colab": {
          "base_uri": "https://localhost:8080/"
        },
        "outputId": "87f96506-caf9-41f0-bfa6-c24af704817f"
      },
      "execution_count": null,
      "outputs": [
        {
          "output_type": "stream",
          "name": "stdout",
          "text": [
            "Drive already mounted at /content/drive; to attempt to forcibly remount, call drive.mount(\"/content/drive\", force_remount=True).\n"
          ]
        }
      ]
    },
    {
      "cell_type": "code",
      "source": [
        "df = pd.read_csv(\"/content/drive/MyDrive/GooglePlayStore_wild.csv\")"
      ],
      "metadata": {
        "id": "nm1iHus_0DGT"
      },
      "execution_count": null,
      "outputs": []
    },
    {
      "cell_type": "markdown",
      "source": [
        "Метод groupby() при расчёте размера платных и бесплатных приложений."
      ],
      "metadata": {
        "id": "-kjP_iHZ0RkZ"
      }
    },
    {
      "cell_type": "code",
      "source": [
        "print(df.groupby(by = 'Type')['Size'].agg(['max', 'min']))"
      ],
      "metadata": {
        "colab": {
          "base_uri": "https://localhost:8080/"
        },
        "id": "xq8bDriB0X3x",
        "outputId": "181aafc0-559f-458a-dc3b-f82ce20b9d10"
      },
      "execution_count": null,
      "outputs": [
        {
          "output_type": "stream",
          "name": "stdout",
          "text": [
            "                     max   min\n",
            "Type                          \n",
            "Free  Varies with device  1.0M\n",
            "Paid  Varies with device  1.0M\n"
          ]
        }
      ]
    },
    {
      "cell_type": "markdown",
      "source": [
        "Параметр by для группировки по двум признакам принимает список имён столбцов.\n",
        "В нашем случае это столбцы тип (Type) и целевая аудитория (Content Rating)."
      ],
      "metadata": {
        "id": "7ehBc8ew0nAu"
      }
    },
    {
      "cell_type": "code",
      "source": [
        "print(df.groupby(by = ['Type','Content Rating'])['Size'].agg(['max', 'min']))"
      ],
      "metadata": {
        "colab": {
          "base_uri": "https://localhost:8080/"
        },
        "id": "9x0NDJ1l0uZE",
        "outputId": "d7241bf0-c91e-4800-9dcb-37aa03db4b84"
      },
      "execution_count": null,
      "outputs": [
        {
          "output_type": "stream",
          "name": "stdout",
          "text": [
            "                                     max   min\n",
            "Type Content Rating                           \n",
            "Free Adults only 18+  Varies with device  4.9M\n",
            "     Everyone         Varies with device  1.0M\n",
            "     Everyone 10+     Varies with device  100M\n",
            "     Mature 17+       Varies with device  1.4M\n",
            "     Teen             Varies with device  1.2M\n",
            "     Unrated                        6.4M  2.5M\n",
            "Paid Everyone         Varies with device  1.0M\n",
            "     Everyone 10+     Varies with device  1.8M\n",
            "     Mature 17+       Varies with device  157k\n",
            "     Teen             Varies with device  1.2M\n"
          ]
        }
      ]
    },
    {
      "cell_type": "code",
      "source": [
        "print(df.groupby(by = ['Content Rating','Type'])['Size'].agg(['max', 'min']))"
      ],
      "metadata": {
        "colab": {
          "base_uri": "https://localhost:8080/"
        },
        "id": "9Luzetf40_km",
        "outputId": "6bc4b4f9-213b-435d-f1b2-54d0e47a4f13"
      },
      "execution_count": null,
      "outputs": [
        {
          "output_type": "stream",
          "name": "stdout",
          "text": [
            "                                     max   min\n",
            "Content Rating  Type                          \n",
            "Adults only 18+ Free  Varies with device  4.9M\n",
            "Everyone        Free  Varies with device  1.0M\n",
            "                Paid  Varies with device  1.0M\n",
            "Everyone 10+    Free  Varies with device  100M\n",
            "                Paid  Varies with device  1.8M\n",
            "Mature 17+      Free  Varies with device  1.4M\n",
            "                Paid  Varies with device  157k\n",
            "Teen            Free  Varies with device  1.2M\n",
            "                Paid  Varies with device  1.2M\n",
            "Unrated         Free                6.4M  2.5M\n"
          ]
        }
      ]
    },
    {
      "cell_type": "code",
      "source": [
        "temp = df.groupby(by = ['Type', 'Content Rating'])['Size'].agg(['max', 'min'])\n",
        "print(temp['min']['Free']['Teen'])"
      ],
      "metadata": {
        "colab": {
          "base_uri": "https://localhost:8080/"
        },
        "id": "-aRCETeq1acn",
        "outputId": "559a075c-f17a-4fd4-955e-73a5642863f0"
      },
      "execution_count": null,
      "outputs": [
        {
          "output_type": "stream",
          "name": "stdout",
          "text": [
            "1.2M\n"
          ]
        }
      ]
    },
    {
      "cell_type": "markdown",
      "source": [
        "Метод reset_index() позволяет перевести индексы в значения благодаря переиндексации строк в DataFrame."
      ],
      "metadata": {
        "id": "m9Amphvz1-fO"
      }
    },
    {
      "cell_type": "code",
      "source": [
        "temp = df.groupby(by = ['Type', 'Content Rating'])['Size'].agg(['min', 'max'])\n",
        "print(temp.reset_index())"
      ],
      "metadata": {
        "colab": {
          "base_uri": "https://localhost:8080/"
        },
        "id": "VMawerGi2BKf",
        "outputId": "b316c347-7c40-40b7-d481-4be2384d3d1d"
      },
      "execution_count": null,
      "outputs": [
        {
          "output_type": "stream",
          "name": "stdout",
          "text": [
            "   Type   Content Rating   min                 max\n",
            "0  Free  Adults only 18+  4.9M  Varies with device\n",
            "1  Free         Everyone  1.0M  Varies with device\n",
            "2  Free     Everyone 10+  100M  Varies with device\n",
            "3  Free       Mature 17+  1.4M  Varies with device\n",
            "4  Free             Teen  1.2M  Varies with device\n",
            "5  Free          Unrated  2.5M                6.4M\n",
            "6  Paid         Everyone  1.0M  Varies with device\n",
            "7  Paid     Everyone 10+  1.8M  Varies with device\n",
            "8  Paid       Mature 17+  157k  Varies with device\n",
            "9  Paid             Teen  1.2M  Varies with device\n"
          ]
        }
      ]
    },
    {
      "cell_type": "markdown",
      "source": [
        "Сводная таблица —\n",
        "это средство обобщения данных для последующего анализа."
      ],
      "metadata": {
        "id": "yQh2u6Qb2aAq"
      }
    },
    {
      "cell_type": "markdown",
      "source": [
        "Метод pivot_table() позволяет создавать сводные таблицы.\n",
        "Параметры метод pivot_table():\n",
        "*   columns — название столбца DataFrame, из которого будем брать заголовки столбцов сводной таблицы.\n",
        "*   index — название столбца DataFrame, из которого будем брать заголовки строк (индексы) сводной таблицы,\n",
        "*   values — название столбца DataFrame, из которого будем брать значения ячеек сводной таблицы,\n",
        "*   aggfunc — название агрегирующей функции (функций)."
      ],
      "metadata": {
        "id": "BlW9gyuV2oCY"
      }
    },
    {
      "cell_type": "code",
      "source": [
        "temp = df.pivot_table(columns = 'Type',\n",
        "                  index = 'Content Rating',\n",
        "                  values = 'Size',\n",
        "                  aggfunc = 'min')\n",
        "print(temp)"
      ],
      "metadata": {
        "colab": {
          "base_uri": "https://localhost:8080/"
        },
        "id": "9ivi6JDB2pS9",
        "outputId": "07c12da3-8426-4a8c-bbfa-183d804b868f"
      },
      "execution_count": null,
      "outputs": [
        {
          "output_type": "stream",
          "name": "stdout",
          "text": [
            "Type             Free  Paid\n",
            "Content Rating             \n",
            "Adults only 18+  4.9M   NaN\n",
            "Everyone         1.0M  1.0M\n",
            "Everyone 10+     100M  1.8M\n",
            "Mature 17+       1.4M  157k\n",
            "Teen             1.2M  1.2M\n",
            "Unrated          2.5M   NaN\n"
          ]
        }
      ]
    },
    {
      "cell_type": "code",
      "source": [
        "temp_1 = df.pivot_table(columns = 'Type',\n",
        "                  index = 'Content Rating',\n",
        "                  values = 'Size',\n",
        "                  aggfunc = ['min', 'max'])\n",
        "print(temp_1)"
      ],
      "metadata": {
        "colab": {
          "base_uri": "https://localhost:8080/"
        },
        "id": "Gk35-2cc3cdA",
        "outputId": "12a00796-91ef-4236-fb82-59248983dee0"
      },
      "execution_count": null,
      "outputs": [
        {
          "output_type": "stream",
          "name": "stdout",
          "text": [
            "                  min                       max                    \n",
            "Type             Free  Paid                Free                Paid\n",
            "Content Rating                                                     \n",
            "Adults only 18+  4.9M   NaN  Varies with device                 NaN\n",
            "Everyone         1.0M  1.0M  Varies with device  Varies with device\n",
            "Everyone 10+     100M  1.8M  Varies with device  Varies with device\n",
            "Mature 17+       1.4M  157k  Varies with device  Varies with device\n",
            "Teen             1.2M  1.2M  Varies with device  Varies with device\n",
            "Unrated          2.5M   NaN                6.4M                 NaN\n"
          ]
        }
      ]
    },
    {
      "cell_type": "markdown",
      "source": [
        "# ЗАДАНИЕ ДЛЯ РАБОТЫ НА ЗАНЯТИИ"
      ],
      "metadata": {
        "id": "TpCKGd6i3wUA"
      }
    },
    {
      "cell_type": "markdown",
      "source": [
        "Проанализируй количество скачиваний.\n",
        "Выведи на экран минимальный, средний и максимальный рейтинг ('Rating') платных и бесплатных приложений ('Type') с точностью до десятых.\n",
        "Используй группировку по одному столбцу."
      ],
      "metadata": {
        "id": "h3Kv2S9i33b9"
      }
    },
    {
      "cell_type": "code",
      "source": [
        "print(round(df.groupby(by = ['Type'])['Rating'].agg(['min', 'median', 'max']), 1))"
      ],
      "metadata": {
        "id": "1a_hTPp939qJ",
        "colab": {
          "base_uri": "https://localhost:8080/"
        },
        "outputId": "1db7df43-ff95-4783-e8ab-311f1732635f"
      },
      "execution_count": null,
      "outputs": [
        {
          "output_type": "stream",
          "name": "stdout",
          "text": [
            "      min  median  max\n",
            "Type                  \n",
            "Free  1.0     4.3  5.0\n",
            "Paid  1.0     4.4  5.0\n"
          ]
        }
      ]
    },
    {
      "cell_type": "markdown",
      "source": [
        "Проанализируй последние обновления приложений.\n",
        "Выведи на экран минимальную, медианную (median) и максимальную цену ('Price') платных приложений (Type == 'Paid') для разных целевых аудиторий ('Content Rating'). Используй группировку по одному столбцу."
      ],
      "metadata": {
        "id": "1hrN706V3-NV"
      }
    },
    {
      "cell_type": "code",
      "source": [],
      "metadata": {
        "id": "2KYLXxHc4Il6"
      },
      "execution_count": null,
      "outputs": []
    },
    {
      "cell_type": "markdown",
      "source": [
        "Проанализируй рейтинг приложений по целевой аудитории.\n",
        "Сгруппируй данные по категории ('Category') и целевой аудитории ('Content Rating') любым удобным для тебя способом.\n",
        "Посчитай максимальное количество отзывов ('Reviews') в каждой группе.\n",
        "Сравни результаты для категорий 'EDUCATION', 'FAMILY' и 'GAME':\n",
        "В какой возрастной группе больше всего отзывов получило приложение из категории 'EDUCATION'? 'FAMILY'? 'GAME'?\n",
        "Используй сводную таблицу."
      ],
      "metadata": {
        "id": "OOYGb6BV4JXo"
      }
    },
    {
      "cell_type": "code",
      "source": [],
      "metadata": {
        "id": "yCBsbsDv4Qsm"
      },
      "execution_count": null,
      "outputs": []
    },
    {
      "cell_type": "markdown",
      "source": [
        "Проанализируй категории на разницу скачиваний между платными и бесплатными приложениями. Сгруппируй платные (Type == 'Paid') приложения по категории ('Category') и целевой аудитории ('Content Rating').\n",
        "Посчитай среднее количество отзывов ('Reviews') в каждой группе.\n",
        "Выбери названия категорий, в которых есть платные приложения для всех возрастных групп.\n",
        "Используй сводную таблицу."
      ],
      "metadata": {
        "id": "3E8E9G284ROH"
      }
    },
    {
      "cell_type": "code",
      "source": [],
      "metadata": {
        "id": "4w0sq_3-4WE-"
      },
      "execution_count": null,
      "outputs": []
    },
    {
      "cell_type": "markdown",
      "source": [
        "*Найди категории бесплатных (Type == 'Free') приложений, в которых приложения разработаны не для всех возрастных групп ('Content Rating')."
      ],
      "metadata": {
        "id": "Zw2Qze6-4Zv6"
      }
    },
    {
      "cell_type": "code",
      "source": [],
      "metadata": {
        "id": "4_2EUE1I4ijE"
      },
      "execution_count": null,
      "outputs": []
    },
    {
      "cell_type": "markdown",
      "source": [
        "## Инструменты очистки данных"
      ],
      "metadata": {
        "id": "neCbooi-4qp-"
      }
    },
    {
      "cell_type": "code",
      "source": [
        "df1 = pd.read_csv(\"/content/drive/MyDrive/GooglePlayStore_wild.csv\")"
      ],
      "metadata": {
        "id": "Pbbi0V-P5YUt"
      },
      "execution_count": 105,
      "outputs": []
    },
    {
      "cell_type": "code",
      "source": [
        "df1.info()"
      ],
      "metadata": {
        "colab": {
          "base_uri": "https://localhost:8080/"
        },
        "id": "e1V8Zh055rTj",
        "outputId": "70da0629-2c07-499a-8c2a-e430bc2a83a5"
      },
      "execution_count": null,
      "outputs": [
        {
          "output_type": "stream",
          "name": "stdout",
          "text": [
            "<class 'pandas.core.frame.DataFrame'>\n",
            "RangeIndex: 10840 entries, 0 to 10839\n",
            "Data columns (total 14 columns):\n",
            " #   Column          Non-Null Count  Dtype  \n",
            "---  ------          --------------  -----  \n",
            " 0   Unnamed: 0      10840 non-null  int64  \n",
            " 1   App             10840 non-null  object \n",
            " 2   Category        10840 non-null  object \n",
            " 3   Rating          9366 non-null   float64\n",
            " 4   Reviews         10840 non-null  int64  \n",
            " 5   Size            10840 non-null  object \n",
            " 6   Installs        10840 non-null  object \n",
            " 7   Type            10839 non-null  object \n",
            " 8   Price           10840 non-null  object \n",
            " 9   Content Rating  10840 non-null  object \n",
            " 10  Genres          10840 non-null  object \n",
            " 11  Last Updated    10840 non-null  object \n",
            " 12  Current Ver     10832 non-null  object \n",
            " 13  Android Ver     10838 non-null  object \n",
            "dtypes: float64(1), int64(2), object(11)\n",
            "memory usage: 1.2+ MB\n"
          ]
        }
      ]
    },
    {
      "cell_type": "markdown",
      "source": [
        "Функция isnull() принимает скалярный объект или структуру данных и определяет наличие в переданной информации пустых значений."
      ],
      "metadata": {
        "id": "FWp2F1Kb6DzM"
      }
    },
    {
      "cell_type": "code",
      "source": [
        "print(pd.isnull(df1))"
      ],
      "metadata": {
        "colab": {
          "base_uri": "https://localhost:8080/"
        },
        "id": "6ef_O-X16Fb5",
        "outputId": "8fb7d6b0-4fbe-47c8-8557-ff3657551ee0"
      },
      "execution_count": null,
      "outputs": [
        {
          "output_type": "stream",
          "name": "stdout",
          "text": [
            "       Unnamed: 0    App  Category  Rating  Reviews   Size  Installs   Type  \\\n",
            "0           False  False     False   False    False  False     False  False   \n",
            "1           False  False     False   False    False  False     False  False   \n",
            "2           False  False     False   False    False  False     False  False   \n",
            "3           False  False     False   False    False  False     False  False   \n",
            "4           False  False     False   False    False  False     False  False   \n",
            "...           ...    ...       ...     ...      ...    ...       ...    ...   \n",
            "10835       False  False     False   False    False  False     False  False   \n",
            "10836       False  False     False   False    False  False     False  False   \n",
            "10837       False  False     False    True    False  False     False  False   \n",
            "10838       False  False     False   False    False  False     False  False   \n",
            "10839       False  False     False   False    False  False     False  False   \n",
            "\n",
            "       Price  Content Rating  Genres  Last Updated  Current Ver  Android Ver  \n",
            "0      False           False   False         False        False        False  \n",
            "1      False           False   False         False        False        False  \n",
            "2      False           False   False         False        False        False  \n",
            "3      False           False   False         False        False        False  \n",
            "4      False           False   False         False        False        False  \n",
            "...      ...             ...     ...           ...          ...          ...  \n",
            "10835  False           False   False         False        False        False  \n",
            "10836  False           False   False         False        False        False  \n",
            "10837  False           False   False         False        False        False  \n",
            "10838  False           False   False         False        False        False  \n",
            "10839  False           False   False         False        False        False  \n",
            "\n",
            "[10840 rows x 14 columns]\n"
          ]
        }
      ]
    },
    {
      "cell_type": "code",
      "source": [
        "print(pd.isnull(df['Rating']).head())"
      ],
      "metadata": {
        "colab": {
          "base_uri": "https://localhost:8080/"
        },
        "id": "mxyU7oa86TJu",
        "outputId": "1b9d7964-1d58-435d-e870-2c6021dcd5f0"
      },
      "execution_count": null,
      "outputs": [
        {
          "output_type": "stream",
          "name": "stdout",
          "text": [
            "0    False\n",
            "1    False\n",
            "2    False\n",
            "3    False\n",
            "4    False\n",
            "Name: Rating, dtype: bool\n"
          ]
        }
      ]
    },
    {
      "cell_type": "code",
      "source": [
        "print(df1[pd.isnull(df1['Rating'])].head(2))"
      ],
      "metadata": {
        "colab": {
          "base_uri": "https://localhost:8080/"
        },
        "id": "ZHJs4h3J6hNL",
        "outputId": "3e0b7ff7-0da4-456d-f751-332929f61d45"
      },
      "execution_count": null,
      "outputs": [
        {
          "output_type": "stream",
          "name": "stdout",
          "text": [
            "     Unnamed: 0                        App        Category  Rating  Reviews  \\\n",
            "23           23     Mcqueen Coloring pages  ART_AND_DESIGN     NaN       61   \n",
            "113         113  Wrinkles and rejuvenation          BEAUTY     NaN      182   \n",
            "\n",
            "     Size  Installs  Type Price Content Rating  \\\n",
            "23   7.0M  100,000+  Free     0       Everyone   \n",
            "113  5.7M  100,000+  Free     0   Everyone 10+   \n",
            "\n",
            "                              Genres        Last Updated Current Ver  \\\n",
            "23   Art & Design;Action & Adventure       March 7, 2018       1.0.0   \n",
            "113                           Beauty  September 20, 2017         8.0   \n",
            "\n",
            "    Android Ver  \n",
            "23   4.1 and up  \n",
            "113  3.0 and up  \n"
          ]
        }
      ]
    },
    {
      "cell_type": "markdown",
      "source": [
        "Метод fillna() используется для автоматизированной замены всех пустых значений в наборе данных на указанную константу."
      ],
      "metadata": {
        "id": "C7PnEYxJ6w1-"
      }
    },
    {
      "cell_type": "code",
      "source": [
        "df1['Rating'].fillna(-1, inplace = True)"
      ],
      "metadata": {
        "id": "WodQ1q-36ywX"
      },
      "execution_count": null,
      "outputs": []
    },
    {
      "cell_type": "code",
      "source": [
        "df1.info()"
      ],
      "metadata": {
        "colab": {
          "base_uri": "https://localhost:8080/"
        },
        "id": "_yt3ESXS7IiI",
        "outputId": "9c99f1c9-36ea-44e4-9f50-5bdcc0bb35a3"
      },
      "execution_count": null,
      "outputs": [
        {
          "output_type": "stream",
          "name": "stdout",
          "text": [
            "<class 'pandas.core.frame.DataFrame'>\n",
            "RangeIndex: 10840 entries, 0 to 10839\n",
            "Data columns (total 14 columns):\n",
            " #   Column          Non-Null Count  Dtype  \n",
            "---  ------          --------------  -----  \n",
            " 0   Unnamed: 0      10840 non-null  int64  \n",
            " 1   App             10840 non-null  object \n",
            " 2   Category        10840 non-null  object \n",
            " 3   Rating          10840 non-null  float64\n",
            " 4   Reviews         10840 non-null  int64  \n",
            " 5   Size            10840 non-null  object \n",
            " 6   Installs        10840 non-null  object \n",
            " 7   Type            10839 non-null  object \n",
            " 8   Price           10840 non-null  object \n",
            " 9   Content Rating  10840 non-null  object \n",
            " 10  Genres          10840 non-null  object \n",
            " 11  Last Updated    10840 non-null  object \n",
            " 12  Current Ver     10832 non-null  object \n",
            " 13  Android Ver     10838 non-null  object \n",
            "dtypes: float64(1), int64(2), object(11)\n",
            "memory usage: 1.2+ MB\n"
          ]
        }
      ]
    },
    {
      "cell_type": "markdown",
      "source": [
        "Заменить NaN на значение, которое встречается в столбце чаще всего."
      ],
      "metadata": {
        "id": "0VK8QPZM7b7R"
      }
    },
    {
      "cell_type": "code",
      "source": [
        "df1['Rating'].value_counts()"
      ],
      "metadata": {
        "colab": {
          "base_uri": "https://localhost:8080/"
        },
        "id": "bGdFK7lw7efX",
        "outputId": "f1801053-880e-4a54-c926-c55404c2b9a4"
      },
      "execution_count": null,
      "outputs": [
        {
          "output_type": "execute_result",
          "data": {
            "text/plain": [
              "-1.0    1474\n",
              " 4.4    1109\n",
              " 4.3    1076\n",
              " 4.5    1038\n",
              " 4.2     952\n",
              " 4.6     823\n",
              " 4.1     708\n",
              " 4.0     568\n",
              " 4.7     499\n",
              " 3.9     386\n",
              " 3.8     303\n",
              " 5.0     274\n",
              " 3.7     239\n",
              " 4.8     234\n",
              " 3.6     174\n",
              " 3.5     163\n",
              " 3.4     128\n",
              " 3.3     102\n",
              " 4.9      87\n",
              " 3.0      83\n",
              " 3.1      69\n",
              " 3.2      64\n",
              " 2.9      45\n",
              " 2.8      42\n",
              " 2.7      25\n",
              " 2.6      25\n",
              " 2.5      21\n",
              " 2.3      20\n",
              " 2.4      19\n",
              " 1.0      16\n",
              " 2.2      14\n",
              " 1.9      13\n",
              " 2.0      12\n",
              " 1.7       8\n",
              " 1.8       8\n",
              " 2.1       8\n",
              " 1.6       4\n",
              " 1.4       3\n",
              " 1.5       3\n",
              " 1.2       1\n",
              "Name: Rating, dtype: int64"
            ]
          },
          "metadata": {},
          "execution_count": 85
        }
      ]
    },
    {
      "cell_type": "code",
      "source": [
        "df1['Rating'].value_counts().index"
      ],
      "metadata": {
        "colab": {
          "base_uri": "https://localhost:8080/"
        },
        "id": "sJ4dWLyH7i1t",
        "outputId": "fb39d5e6-664d-46f3-e74f-878423a80632"
      },
      "execution_count": null,
      "outputs": [
        {
          "output_type": "execute_result",
          "data": {
            "text/plain": [
              "Float64Index([-1.0,  4.4,  4.3,  4.5,  4.2,  4.6,  4.1,  4.0,  4.7,  3.9,  3.8,\n",
              "               5.0,  3.7,  4.8,  3.6,  3.5,  3.4,  3.3,  4.9,  3.0,  3.1,  3.2,\n",
              "               2.9,  2.8,  2.7,  2.6,  2.5,  2.3,  2.4,  1.0,  2.2,  1.9,  2.0,\n",
              "               1.7,  1.8,  2.1,  1.6,  1.4,  1.5,  1.2],\n",
              "             dtype='float64')"
            ]
          },
          "metadata": {},
          "execution_count": 86
        }
      ]
    },
    {
      "cell_type": "code",
      "source": [
        "df1['Rating'].value_counts().index[0]"
      ],
      "metadata": {
        "colab": {
          "base_uri": "https://localhost:8080/"
        },
        "id": "t1F7x9nh7peY",
        "outputId": "877d30b1-22f5-4679-a78a-1133883c4292"
      },
      "execution_count": null,
      "outputs": [
        {
          "output_type": "execute_result",
          "data": {
            "text/plain": [
              "-1.0"
            ]
          },
          "metadata": {},
          "execution_count": 87
        }
      ]
    },
    {
      "cell_type": "code",
      "source": [
        "r_max = df1['Rating'].value_counts().index[0]\n",
        "df1['Rating'].fillna(r_max, inplace = True)"
      ],
      "metadata": {
        "id": "6o8UG_rC7xnt"
      },
      "execution_count": null,
      "outputs": []
    },
    {
      "cell_type": "code",
      "source": [
        "print(df1['Rating'].unique())"
      ],
      "metadata": {
        "colab": {
          "base_uri": "https://localhost:8080/"
        },
        "id": "p8pfohRM8oqE",
        "outputId": "0d6bc998-eb79-4abb-a377-66b224ce1e81"
      },
      "execution_count": null,
      "outputs": [
        {
          "output_type": "stream",
          "name": "stdout",
          "text": [
            "[ 4.1  3.9  4.7  4.5  4.3  4.4  3.8  4.2  4.6  3.2  4.  -1.   4.8  4.9\n",
            "  3.6  3.7  3.3  3.4  3.5  3.1  5.   2.6  3.   1.9  2.5  2.8  2.7  1.\n",
            "  2.9  2.3  2.2  1.7  2.   1.8  2.4  1.6  2.1  1.4  1.5  1.2]\n"
          ]
        }
      ]
    },
    {
      "cell_type": "markdown",
      "source": [
        "Метод dropna() удаляет из DataFrame все строки, содержащие хотя бы одно пустое значение."
      ],
      "metadata": {
        "id": "JQC14Az3EbID"
      }
    },
    {
      "cell_type": "code",
      "source": [
        "df1.dropna()"
      ],
      "metadata": {
        "colab": {
          "base_uri": "https://localhost:8080/",
          "height": 563
        },
        "id": "5JNHZu7XEdUp",
        "outputId": "fe05cf65-c5bc-46fd-839e-d79394faa55d"
      },
      "execution_count": null,
      "outputs": [
        {
          "output_type": "execute_result",
          "data": {
            "text/plain": [
              "       Unnamed: 0                                                App  \\\n",
              "0               0     Photo Editor & Candy Camera & Grid & ScrapBook   \n",
              "1               1                                Coloring book moana   \n",
              "2               2  U Launcher Lite – FREE Live Cool Themes, Hide ...   \n",
              "3               3                              Sketch - Draw & Paint   \n",
              "4               4              Pixel Draw - Number Art Coloring Book   \n",
              "...           ...                                                ...   \n",
              "10835       10836                                   Sya9a Maroc - FR   \n",
              "10836       10837                   Fr. Mike Schmitz Audio Teachings   \n",
              "10837       10838                             Parkinson Exercices FR   \n",
              "10838       10839                      The SCP Foundation DB fr nn5n   \n",
              "10839       10840      iHoroscope - 2018 Daily Horoscope & Astrology   \n",
              "\n",
              "                  Category  Rating  Reviews                Size     Installs  \\\n",
              "0           ART_AND_DESIGN     4.1      159                 19M      10,000+   \n",
              "1           ART_AND_DESIGN     3.9      967                 14M     500,000+   \n",
              "2           ART_AND_DESIGN     4.7    87510                8.7M   5,000,000+   \n",
              "3           ART_AND_DESIGN     4.5   215644                 25M  50,000,000+   \n",
              "4           ART_AND_DESIGN     4.3      967                2.8M     100,000+   \n",
              "...                    ...     ...      ...                 ...          ...   \n",
              "10835               FAMILY     4.5       38                 53M       5,000+   \n",
              "10836               FAMILY     5.0        4                3.6M         100+   \n",
              "10837              MEDICAL    -1.0        3                9.5M       1,000+   \n",
              "10838  BOOKS_AND_REFERENCE     4.5      114  Varies with device       1,000+   \n",
              "10839            LIFESTYLE     4.5   398307                 19M  10,000,000+   \n",
              "\n",
              "       Type Price Content Rating                     Genres      Last Updated  \\\n",
              "0      Free     0       Everyone               Art & Design   January 7, 2018   \n",
              "1      Free     0       Everyone  Art & Design;Pretend Play  January 15, 2018   \n",
              "2      Free     0       Everyone               Art & Design    August 1, 2018   \n",
              "3      Free     0           Teen               Art & Design      June 8, 2018   \n",
              "4      Free     0       Everyone    Art & Design;Creativity     June 20, 2018   \n",
              "...     ...   ...            ...                        ...               ...   \n",
              "10835  Free     0       Everyone                  Education     July 25, 2017   \n",
              "10836  Free     0       Everyone                  Education      July 6, 2018   \n",
              "10837  Free     0       Everyone                    Medical  January 20, 2017   \n",
              "10838  Free     0     Mature 17+          Books & Reference  January 19, 2015   \n",
              "10839  Free     0       Everyone                  Lifestyle     July 25, 2018   \n",
              "\n",
              "              Current Ver         Android Ver  \n",
              "0                   1.0.0        4.0.3 and up  \n",
              "1                   2.0.0        4.0.3 and up  \n",
              "2                   1.2.4        4.0.3 and up  \n",
              "3      Varies with device          4.2 and up  \n",
              "4                     1.1          4.4 and up  \n",
              "...                   ...                 ...  \n",
              "10835                1.48          4.1 and up  \n",
              "10836                 1.0          4.1 and up  \n",
              "10837                 1.0          2.2 and up  \n",
              "10838  Varies with device  Varies with device  \n",
              "10839  Varies with device  Varies with device  \n",
              "\n",
              "[10829 rows x 14 columns]"
            ],
            "text/html": [
              "\n",
              "  <div id=\"df-24424d5c-2dd5-413e-b159-f82a21780a00\" class=\"colab-df-container\">\n",
              "    <div>\n",
              "<style scoped>\n",
              "    .dataframe tbody tr th:only-of-type {\n",
              "        vertical-align: middle;\n",
              "    }\n",
              "\n",
              "    .dataframe tbody tr th {\n",
              "        vertical-align: top;\n",
              "    }\n",
              "\n",
              "    .dataframe thead th {\n",
              "        text-align: right;\n",
              "    }\n",
              "</style>\n",
              "<table border=\"1\" class=\"dataframe\">\n",
              "  <thead>\n",
              "    <tr style=\"text-align: right;\">\n",
              "      <th></th>\n",
              "      <th>Unnamed: 0</th>\n",
              "      <th>App</th>\n",
              "      <th>Category</th>\n",
              "      <th>Rating</th>\n",
              "      <th>Reviews</th>\n",
              "      <th>Size</th>\n",
              "      <th>Installs</th>\n",
              "      <th>Type</th>\n",
              "      <th>Price</th>\n",
              "      <th>Content Rating</th>\n",
              "      <th>Genres</th>\n",
              "      <th>Last Updated</th>\n",
              "      <th>Current Ver</th>\n",
              "      <th>Android Ver</th>\n",
              "    </tr>\n",
              "  </thead>\n",
              "  <tbody>\n",
              "    <tr>\n",
              "      <th>0</th>\n",
              "      <td>0</td>\n",
              "      <td>Photo Editor &amp; Candy Camera &amp; Grid &amp; ScrapBook</td>\n",
              "      <td>ART_AND_DESIGN</td>\n",
              "      <td>4.1</td>\n",
              "      <td>159</td>\n",
              "      <td>19M</td>\n",
              "      <td>10,000+</td>\n",
              "      <td>Free</td>\n",
              "      <td>0</td>\n",
              "      <td>Everyone</td>\n",
              "      <td>Art &amp; Design</td>\n",
              "      <td>January 7, 2018</td>\n",
              "      <td>1.0.0</td>\n",
              "      <td>4.0.3 and up</td>\n",
              "    </tr>\n",
              "    <tr>\n",
              "      <th>1</th>\n",
              "      <td>1</td>\n",
              "      <td>Coloring book moana</td>\n",
              "      <td>ART_AND_DESIGN</td>\n",
              "      <td>3.9</td>\n",
              "      <td>967</td>\n",
              "      <td>14M</td>\n",
              "      <td>500,000+</td>\n",
              "      <td>Free</td>\n",
              "      <td>0</td>\n",
              "      <td>Everyone</td>\n",
              "      <td>Art &amp; Design;Pretend Play</td>\n",
              "      <td>January 15, 2018</td>\n",
              "      <td>2.0.0</td>\n",
              "      <td>4.0.3 and up</td>\n",
              "    </tr>\n",
              "    <tr>\n",
              "      <th>2</th>\n",
              "      <td>2</td>\n",
              "      <td>U Launcher Lite – FREE Live Cool Themes, Hide ...</td>\n",
              "      <td>ART_AND_DESIGN</td>\n",
              "      <td>4.7</td>\n",
              "      <td>87510</td>\n",
              "      <td>8.7M</td>\n",
              "      <td>5,000,000+</td>\n",
              "      <td>Free</td>\n",
              "      <td>0</td>\n",
              "      <td>Everyone</td>\n",
              "      <td>Art &amp; Design</td>\n",
              "      <td>August 1, 2018</td>\n",
              "      <td>1.2.4</td>\n",
              "      <td>4.0.3 and up</td>\n",
              "    </tr>\n",
              "    <tr>\n",
              "      <th>3</th>\n",
              "      <td>3</td>\n",
              "      <td>Sketch - Draw &amp; Paint</td>\n",
              "      <td>ART_AND_DESIGN</td>\n",
              "      <td>4.5</td>\n",
              "      <td>215644</td>\n",
              "      <td>25M</td>\n",
              "      <td>50,000,000+</td>\n",
              "      <td>Free</td>\n",
              "      <td>0</td>\n",
              "      <td>Teen</td>\n",
              "      <td>Art &amp; Design</td>\n",
              "      <td>June 8, 2018</td>\n",
              "      <td>Varies with device</td>\n",
              "      <td>4.2 and up</td>\n",
              "    </tr>\n",
              "    <tr>\n",
              "      <th>4</th>\n",
              "      <td>4</td>\n",
              "      <td>Pixel Draw - Number Art Coloring Book</td>\n",
              "      <td>ART_AND_DESIGN</td>\n",
              "      <td>4.3</td>\n",
              "      <td>967</td>\n",
              "      <td>2.8M</td>\n",
              "      <td>100,000+</td>\n",
              "      <td>Free</td>\n",
              "      <td>0</td>\n",
              "      <td>Everyone</td>\n",
              "      <td>Art &amp; Design;Creativity</td>\n",
              "      <td>June 20, 2018</td>\n",
              "      <td>1.1</td>\n",
              "      <td>4.4 and up</td>\n",
              "    </tr>\n",
              "    <tr>\n",
              "      <th>...</th>\n",
              "      <td>...</td>\n",
              "      <td>...</td>\n",
              "      <td>...</td>\n",
              "      <td>...</td>\n",
              "      <td>...</td>\n",
              "      <td>...</td>\n",
              "      <td>...</td>\n",
              "      <td>...</td>\n",
              "      <td>...</td>\n",
              "      <td>...</td>\n",
              "      <td>...</td>\n",
              "      <td>...</td>\n",
              "      <td>...</td>\n",
              "      <td>...</td>\n",
              "    </tr>\n",
              "    <tr>\n",
              "      <th>10835</th>\n",
              "      <td>10836</td>\n",
              "      <td>Sya9a Maroc - FR</td>\n",
              "      <td>FAMILY</td>\n",
              "      <td>4.5</td>\n",
              "      <td>38</td>\n",
              "      <td>53M</td>\n",
              "      <td>5,000+</td>\n",
              "      <td>Free</td>\n",
              "      <td>0</td>\n",
              "      <td>Everyone</td>\n",
              "      <td>Education</td>\n",
              "      <td>July 25, 2017</td>\n",
              "      <td>1.48</td>\n",
              "      <td>4.1 and up</td>\n",
              "    </tr>\n",
              "    <tr>\n",
              "      <th>10836</th>\n",
              "      <td>10837</td>\n",
              "      <td>Fr. Mike Schmitz Audio Teachings</td>\n",
              "      <td>FAMILY</td>\n",
              "      <td>5.0</td>\n",
              "      <td>4</td>\n",
              "      <td>3.6M</td>\n",
              "      <td>100+</td>\n",
              "      <td>Free</td>\n",
              "      <td>0</td>\n",
              "      <td>Everyone</td>\n",
              "      <td>Education</td>\n",
              "      <td>July 6, 2018</td>\n",
              "      <td>1.0</td>\n",
              "      <td>4.1 and up</td>\n",
              "    </tr>\n",
              "    <tr>\n",
              "      <th>10837</th>\n",
              "      <td>10838</td>\n",
              "      <td>Parkinson Exercices FR</td>\n",
              "      <td>MEDICAL</td>\n",
              "      <td>-1.0</td>\n",
              "      <td>3</td>\n",
              "      <td>9.5M</td>\n",
              "      <td>1,000+</td>\n",
              "      <td>Free</td>\n",
              "      <td>0</td>\n",
              "      <td>Everyone</td>\n",
              "      <td>Medical</td>\n",
              "      <td>January 20, 2017</td>\n",
              "      <td>1.0</td>\n",
              "      <td>2.2 and up</td>\n",
              "    </tr>\n",
              "    <tr>\n",
              "      <th>10838</th>\n",
              "      <td>10839</td>\n",
              "      <td>The SCP Foundation DB fr nn5n</td>\n",
              "      <td>BOOKS_AND_REFERENCE</td>\n",
              "      <td>4.5</td>\n",
              "      <td>114</td>\n",
              "      <td>Varies with device</td>\n",
              "      <td>1,000+</td>\n",
              "      <td>Free</td>\n",
              "      <td>0</td>\n",
              "      <td>Mature 17+</td>\n",
              "      <td>Books &amp; Reference</td>\n",
              "      <td>January 19, 2015</td>\n",
              "      <td>Varies with device</td>\n",
              "      <td>Varies with device</td>\n",
              "    </tr>\n",
              "    <tr>\n",
              "      <th>10839</th>\n",
              "      <td>10840</td>\n",
              "      <td>iHoroscope - 2018 Daily Horoscope &amp; Astrology</td>\n",
              "      <td>LIFESTYLE</td>\n",
              "      <td>4.5</td>\n",
              "      <td>398307</td>\n",
              "      <td>19M</td>\n",
              "      <td>10,000,000+</td>\n",
              "      <td>Free</td>\n",
              "      <td>0</td>\n",
              "      <td>Everyone</td>\n",
              "      <td>Lifestyle</td>\n",
              "      <td>July 25, 2018</td>\n",
              "      <td>Varies with device</td>\n",
              "      <td>Varies with device</td>\n",
              "    </tr>\n",
              "  </tbody>\n",
              "</table>\n",
              "<p>10829 rows × 14 columns</p>\n",
              "</div>\n",
              "    <div class=\"colab-df-buttons\">\n",
              "\n",
              "  <div class=\"colab-df-container\">\n",
              "    <button class=\"colab-df-convert\" onclick=\"convertToInteractive('df-24424d5c-2dd5-413e-b159-f82a21780a00')\"\n",
              "            title=\"Convert this dataframe to an interactive table.\"\n",
              "            style=\"display:none;\">\n",
              "\n",
              "  <svg xmlns=\"http://www.w3.org/2000/svg\" height=\"24px\" viewBox=\"0 -960 960 960\">\n",
              "    <path d=\"M120-120v-720h720v720H120Zm60-500h600v-160H180v160Zm220 220h160v-160H400v160Zm0 220h160v-160H400v160ZM180-400h160v-160H180v160Zm440 0h160v-160H620v160ZM180-180h160v-160H180v160Zm440 0h160v-160H620v160Z\"/>\n",
              "  </svg>\n",
              "    </button>\n",
              "\n",
              "  <style>\n",
              "    .colab-df-container {\n",
              "      display:flex;\n",
              "      gap: 12px;\n",
              "    }\n",
              "\n",
              "    .colab-df-convert {\n",
              "      background-color: #E8F0FE;\n",
              "      border: none;\n",
              "      border-radius: 50%;\n",
              "      cursor: pointer;\n",
              "      display: none;\n",
              "      fill: #1967D2;\n",
              "      height: 32px;\n",
              "      padding: 0 0 0 0;\n",
              "      width: 32px;\n",
              "    }\n",
              "\n",
              "    .colab-df-convert:hover {\n",
              "      background-color: #E2EBFA;\n",
              "      box-shadow: 0px 1px 2px rgba(60, 64, 67, 0.3), 0px 1px 3px 1px rgba(60, 64, 67, 0.15);\n",
              "      fill: #174EA6;\n",
              "    }\n",
              "\n",
              "    .colab-df-buttons div {\n",
              "      margin-bottom: 4px;\n",
              "    }\n",
              "\n",
              "    [theme=dark] .colab-df-convert {\n",
              "      background-color: #3B4455;\n",
              "      fill: #D2E3FC;\n",
              "    }\n",
              "\n",
              "    [theme=dark] .colab-df-convert:hover {\n",
              "      background-color: #434B5C;\n",
              "      box-shadow: 0px 1px 3px 1px rgba(0, 0, 0, 0.15);\n",
              "      filter: drop-shadow(0px 1px 2px rgba(0, 0, 0, 0.3));\n",
              "      fill: #FFFFFF;\n",
              "    }\n",
              "  </style>\n",
              "\n",
              "    <script>\n",
              "      const buttonEl =\n",
              "        document.querySelector('#df-24424d5c-2dd5-413e-b159-f82a21780a00 button.colab-df-convert');\n",
              "      buttonEl.style.display =\n",
              "        google.colab.kernel.accessAllowed ? 'block' : 'none';\n",
              "\n",
              "      async function convertToInteractive(key) {\n",
              "        const element = document.querySelector('#df-24424d5c-2dd5-413e-b159-f82a21780a00');\n",
              "        const dataTable =\n",
              "          await google.colab.kernel.invokeFunction('convertToInteractive',\n",
              "                                                    [key], {});\n",
              "        if (!dataTable) return;\n",
              "\n",
              "        const docLinkHtml = 'Like what you see? Visit the ' +\n",
              "          '<a target=\"_blank\" href=https://colab.research.google.com/notebooks/data_table.ipynb>data table notebook</a>'\n",
              "          + ' to learn more about interactive tables.';\n",
              "        element.innerHTML = '';\n",
              "        dataTable['output_type'] = 'display_data';\n",
              "        await google.colab.output.renderOutput(dataTable, element);\n",
              "        const docLink = document.createElement('div');\n",
              "        docLink.innerHTML = docLinkHtml;\n",
              "        element.appendChild(docLink);\n",
              "      }\n",
              "    </script>\n",
              "  </div>\n",
              "\n",
              "\n",
              "<div id=\"df-cb2dbc1a-e136-452c-a94d-694878c9e1c3\">\n",
              "  <button class=\"colab-df-quickchart\" onclick=\"quickchart('df-cb2dbc1a-e136-452c-a94d-694878c9e1c3')\"\n",
              "            title=\"Suggest charts\"\n",
              "            style=\"display:none;\">\n",
              "\n",
              "<svg xmlns=\"http://www.w3.org/2000/svg\" height=\"24px\"viewBox=\"0 0 24 24\"\n",
              "     width=\"24px\">\n",
              "    <g>\n",
              "        <path d=\"M19 3H5c-1.1 0-2 .9-2 2v14c0 1.1.9 2 2 2h14c1.1 0 2-.9 2-2V5c0-1.1-.9-2-2-2zM9 17H7v-7h2v7zm4 0h-2V7h2v10zm4 0h-2v-4h2v4z\"/>\n",
              "    </g>\n",
              "</svg>\n",
              "  </button>\n",
              "\n",
              "<style>\n",
              "  .colab-df-quickchart {\n",
              "      --bg-color: #E8F0FE;\n",
              "      --fill-color: #1967D2;\n",
              "      --hover-bg-color: #E2EBFA;\n",
              "      --hover-fill-color: #174EA6;\n",
              "      --disabled-fill-color: #AAA;\n",
              "      --disabled-bg-color: #DDD;\n",
              "  }\n",
              "\n",
              "  [theme=dark] .colab-df-quickchart {\n",
              "      --bg-color: #3B4455;\n",
              "      --fill-color: #D2E3FC;\n",
              "      --hover-bg-color: #434B5C;\n",
              "      --hover-fill-color: #FFFFFF;\n",
              "      --disabled-bg-color: #3B4455;\n",
              "      --disabled-fill-color: #666;\n",
              "  }\n",
              "\n",
              "  .colab-df-quickchart {\n",
              "    background-color: var(--bg-color);\n",
              "    border: none;\n",
              "    border-radius: 50%;\n",
              "    cursor: pointer;\n",
              "    display: none;\n",
              "    fill: var(--fill-color);\n",
              "    height: 32px;\n",
              "    padding: 0;\n",
              "    width: 32px;\n",
              "  }\n",
              "\n",
              "  .colab-df-quickchart:hover {\n",
              "    background-color: var(--hover-bg-color);\n",
              "    box-shadow: 0 1px 2px rgba(60, 64, 67, 0.3), 0 1px 3px 1px rgba(60, 64, 67, 0.15);\n",
              "    fill: var(--button-hover-fill-color);\n",
              "  }\n",
              "\n",
              "  .colab-df-quickchart-complete:disabled,\n",
              "  .colab-df-quickchart-complete:disabled:hover {\n",
              "    background-color: var(--disabled-bg-color);\n",
              "    fill: var(--disabled-fill-color);\n",
              "    box-shadow: none;\n",
              "  }\n",
              "\n",
              "  .colab-df-spinner {\n",
              "    border: 2px solid var(--fill-color);\n",
              "    border-color: transparent;\n",
              "    border-bottom-color: var(--fill-color);\n",
              "    animation:\n",
              "      spin 1s steps(1) infinite;\n",
              "  }\n",
              "\n",
              "  @keyframes spin {\n",
              "    0% {\n",
              "      border-color: transparent;\n",
              "      border-bottom-color: var(--fill-color);\n",
              "      border-left-color: var(--fill-color);\n",
              "    }\n",
              "    20% {\n",
              "      border-color: transparent;\n",
              "      border-left-color: var(--fill-color);\n",
              "      border-top-color: var(--fill-color);\n",
              "    }\n",
              "    30% {\n",
              "      border-color: transparent;\n",
              "      border-left-color: var(--fill-color);\n",
              "      border-top-color: var(--fill-color);\n",
              "      border-right-color: var(--fill-color);\n",
              "    }\n",
              "    40% {\n",
              "      border-color: transparent;\n",
              "      border-right-color: var(--fill-color);\n",
              "      border-top-color: var(--fill-color);\n",
              "    }\n",
              "    60% {\n",
              "      border-color: transparent;\n",
              "      border-right-color: var(--fill-color);\n",
              "    }\n",
              "    80% {\n",
              "      border-color: transparent;\n",
              "      border-right-color: var(--fill-color);\n",
              "      border-bottom-color: var(--fill-color);\n",
              "    }\n",
              "    90% {\n",
              "      border-color: transparent;\n",
              "      border-bottom-color: var(--fill-color);\n",
              "    }\n",
              "  }\n",
              "</style>\n",
              "\n",
              "  <script>\n",
              "    async function quickchart(key) {\n",
              "      const quickchartButtonEl =\n",
              "        document.querySelector('#' + key + ' button');\n",
              "      quickchartButtonEl.disabled = true;  // To prevent multiple clicks.\n",
              "      quickchartButtonEl.classList.add('colab-df-spinner');\n",
              "      try {\n",
              "        const charts = await google.colab.kernel.invokeFunction(\n",
              "            'suggestCharts', [key], {});\n",
              "      } catch (error) {\n",
              "        console.error('Error during call to suggestCharts:', error);\n",
              "      }\n",
              "      quickchartButtonEl.classList.remove('colab-df-spinner');\n",
              "      quickchartButtonEl.classList.add('colab-df-quickchart-complete');\n",
              "    }\n",
              "    (() => {\n",
              "      let quickchartButtonEl =\n",
              "        document.querySelector('#df-cb2dbc1a-e136-452c-a94d-694878c9e1c3 button');\n",
              "      quickchartButtonEl.style.display =\n",
              "        google.colab.kernel.accessAllowed ? 'block' : 'none';\n",
              "    })();\n",
              "  </script>\n",
              "</div>\n",
              "    </div>\n",
              "  </div>\n"
            ]
          },
          "metadata": {},
          "execution_count": 90
        }
      ]
    },
    {
      "cell_type": "markdown",
      "source": [
        "Метод apply().\n",
        "\n",
        "*   Метод apply() работает в разы быстрее цикла.\n",
        "* Метод применяется к каждой строке/ столбцу DataFrame или к каждой ячейке отдельного столбца.\n",
        "* В качестве параметра в метод передаётся имя функции, которая будет обрабатывать данные из DataFrame.\n"
      ],
      "metadata": {
        "id": "1EzS6s7UE8s_"
      }
    },
    {
      "cell_type": "code",
      "source": [
        "df1['Reviews']= df1['Reviews'].apply(int)"
      ],
      "metadata": {
        "id": "TfJUmtRfFMXD"
      },
      "execution_count": null,
      "outputs": []
    },
    {
      "cell_type": "code",
      "source": [
        "df1.info()"
      ],
      "metadata": {
        "colab": {
          "base_uri": "https://localhost:8080/"
        },
        "id": "5EDka1ISFSyA",
        "outputId": "f82a089b-c79d-474a-abd8-c7e74c6d1401"
      },
      "execution_count": null,
      "outputs": [
        {
          "output_type": "stream",
          "name": "stdout",
          "text": [
            "<class 'pandas.core.frame.DataFrame'>\n",
            "RangeIndex: 10840 entries, 0 to 10839\n",
            "Data columns (total 14 columns):\n",
            " #   Column          Non-Null Count  Dtype  \n",
            "---  ------          --------------  -----  \n",
            " 0   Unnamed: 0      10840 non-null  int64  \n",
            " 1   App             10840 non-null  object \n",
            " 2   Category        10840 non-null  object \n",
            " 3   Rating          10840 non-null  float64\n",
            " 4   Reviews         10840 non-null  int64  \n",
            " 5   Size            10840 non-null  object \n",
            " 6   Installs        10840 non-null  object \n",
            " 7   Type            10839 non-null  object \n",
            " 8   Price           10840 non-null  object \n",
            " 9   Content Rating  10840 non-null  object \n",
            " 10  Genres          10840 non-null  object \n",
            " 11  Last Updated    10840 non-null  object \n",
            " 12  Current Ver     10832 non-null  object \n",
            " 13  Android Ver     10838 non-null  object \n",
            "dtypes: float64(1), int64(2), object(11)\n",
            "memory usage: 1.2+ MB\n"
          ]
        }
      ]
    },
    {
      "cell_type": "markdown",
      "source": [
        "## ЗАДАНИЕ"
      ],
      "metadata": {
        "id": "y7FUychUGBjM"
      }
    },
    {
      "cell_type": "markdown",
      "source": [
        "Написать функцию, которая поможет сделать срез для каждого значения столбца Price"
      ],
      "metadata": {
        "id": "DKtdDGNNFxtB"
      }
    },
    {
      "cell_type": "markdown",
      "source": [
        " Если первый символ строки '$', то:\n",
        "* cделаем срез;\n",
        "* преобразуем полученную строку в дробное число;\n",
        "* вернём дробное число.\n",
        "Иначе вернём ноль.\n"
      ],
      "metadata": {
        "id": "v9JeE7fCF50V"
      }
    },
    {
      "cell_type": "code",
      "source": [
        "def make_price(Price):\n",
        "    if type(Price) != str:\n",
        "        return Price\n",
        "    if Price[0] == '$':\n",
        "        Price = Price[1:]\n",
        "        return float(Price)\n",
        "    return 0.0\n",
        "df1['Price'] = df1['Price'].apply(make_price)\n",
        "print(df1[df['Type'] == 'Paid']['Price'])"
      ],
      "metadata": {
        "id": "anBV-J5rGVUF",
        "colab": {
          "base_uri": "https://localhost:8080/"
        },
        "outputId": "d8323c95-a5b3-43db-c50e-1efe8a0a9273"
      },
      "execution_count": 129,
      "outputs": [
        {
          "output_type": "stream",
          "name": "stdout",
          "text": [
            "234       4.99\n",
            "235       4.99\n",
            "290       4.99\n",
            "291       4.99\n",
            "427       3.99\n",
            "         ...  \n",
            "10734     0.99\n",
            "10759     7.99\n",
            "10781    16.99\n",
            "10784     1.20\n",
            "10797     1.04\n",
            "Name: Price, Length: 800, dtype: float64\n"
          ]
        }
      ]
    },
    {
      "cell_type": "markdown",
      "source": [
        "## ЗАДАНИЕ ДЛЯ РАБОТЫ НА ЗАНЯТИИ"
      ],
      "metadata": {
        "id": "TVr3Cn72G1P7"
      }
    },
    {
      "cell_type": "markdown",
      "source": [
        "Проанализируй категории датасета.\n",
        "Узнай, какие столбцы нуждаются в очистке данных."
      ],
      "metadata": {
        "id": "v5Z9hA42G8cR"
      }
    },
    {
      "cell_type": "code",
      "source": [],
      "metadata": {
        "id": "Hmvx0ID5HG0c"
      },
      "execution_count": null,
      "outputs": []
    },
    {
      "cell_type": "markdown",
      "source": [
        "Проанализируй рейтинг приложений.\n",
        "1. Сколько в датасете приложений, у которых не указан ('NaN') рейтинг ('Rating')?\n",
        "2. Замени пустое значение ('NaN') рейтинга ('Rating') для таких приложений на -1."
      ],
      "metadata": {
        "id": "SE9bvdM0HHTw"
      }
    },
    {
      "cell_type": "code",
      "source": [],
      "metadata": {
        "id": "AqCAoPClHKy3"
      },
      "execution_count": null,
      "outputs": []
    },
    {
      "cell_type": "markdown",
      "source": [
        "Измени тип данных размеров приложений.\n",
        "1. Определи, какое ещё значение размера ('Size') хранится в датасете помимо Килобайтов и Мегабайтов, замени его на -1.\n",
        "2. Преобразуй размеры приложений ('Size') в числовой формат (float). Размер всех приложений должен измеряться в Мегабайтах (1 Мегабайт = 1024 Килобайт).\n",
        "3. Чему равен максимальный размер ('Size') приложений из категории ('Category') 'TOOLS'?"
      ],
      "metadata": {
        "id": "j4XDaSWBHLYy"
      }
    },
    {
      "cell_type": "code",
      "source": [
        "def make_size(Size):\n",
        "  if type(Size) != str:\n",
        "    return Size\n",
        "  if Size[-1] == 'M':\n",
        "    return float(Size[:-1]) * 1024\n",
        "  elif Size[-1] == 'K':\n",
        "    return float(Size[:-1])\n",
        "  return -1\n",
        "df['Size'] = df['Size'].apply(make_size)\n",
        "print(df[df['Category'] == 'TOOLS']['Size'].max())"
      ],
      "metadata": {
        "id": "So7jqc6wHQlm",
        "colab": {
          "base_uri": "https://localhost:8080/"
        },
        "outputId": "bbd7c14a-c502-4f8d-ef1e-d461d195d922"
      },
      "execution_count": 128,
      "outputs": [
        {
          "output_type": "stream",
          "name": "stdout",
          "text": [
            "101376.0\n"
          ]
        }
      ]
    },
    {
      "cell_type": "markdown",
      "source": [
        "\n",
        "1. Замени тип данных на целочисленный (int) для количества установок ('Installs'). В записи количества установок ('Installs') знак «+» необходимо игнорировать. Т. е. если в датасете количество установок равно 1,000,000+, то необходимо изменить значение на 1000000.\n",
        "2. Сгруппируй данные по типу ('Type') и целевой аудитории ('Content Rating') любым удобным для тебя способом, посчитай среднее количество установок ('Installs') в каждой группе. Результат округли до десятых.\n",
        "В полученной таблице найди ячейку с самым большим значением.\n",
        "К какой возрастной группе и типу приложений относятся данные из этой ячейки?"
      ],
      "metadata": {
        "id": "tGURLYX_HQzg"
      }
    },
    {
      "cell_type": "code",
      "source": [
        "def make_installs(installs):\n",
        "    if type(installs) != str:\n",
        "        return installs\n",
        "    installs = installs.replace(',', '')\n",
        "    if installs[-1] == '+':\n",
        "        installs = installs[:-1]\n",
        "    return int(installs)\n",
        "\n",
        "df['Installs'] = df['Installs'].apply(make_installs)\n",
        "print(df['Installs'])"
      ],
      "metadata": {
        "id": "3JjX4K0rHXWe",
        "colab": {
          "base_uri": "https://localhost:8080/"
        },
        "outputId": "d169370d-7927-4b13-fdb1-9157810e7a84"
      },
      "execution_count": 130,
      "outputs": [
        {
          "output_type": "stream",
          "name": "stdout",
          "text": [
            "0           10000\n",
            "1          500000\n",
            "2         5000000\n",
            "3        50000000\n",
            "4          100000\n",
            "           ...   \n",
            "10835        5000\n",
            "10836         100\n",
            "10837        1000\n",
            "10838        1000\n",
            "10839    10000000\n",
            "Name: Installs, Length: 10840, dtype: int64\n"
          ]
        }
      ]
    },
    {
      "cell_type": "markdown",
      "source": [
        "\n",
        "У какого приложения не указан тип ('Type')? Какой тип там необходимо записать в зависимости от цены?"
      ],
      "metadata": {
        "id": "BFZdw0fnHXvT"
      }
    },
    {
      "cell_type": "code",
      "source": [],
      "metadata": {
        "id": "iaIncb7kHcWV"
      },
      "execution_count": null,
      "outputs": []
    },
    {
      "cell_type": "markdown",
      "source": [
        "*В значениях приложения с индексом 10472 допущена ошибка. Какая? Исправь её."
      ],
      "metadata": {
        "id": "kyqV6d7ZHyUh"
      }
    },
    {
      "cell_type": "code",
      "source": [],
      "metadata": {
        "id": "FpL3EMT8H5YF"
      },
      "execution_count": null,
      "outputs": []
    },
    {
      "cell_type": "markdown",
      "source": [
        "## Feature engineering"
      ],
      "metadata": {
        "id": "KV41lFd3IOH_"
      }
    },
    {
      "cell_type": "markdown",
      "source": [
        "Вычислим, сколько долларов разработчики заработали на каждом платном приложении."
      ],
      "metadata": {
        "id": "Afy_cVKFIb0k"
      }
    },
    {
      "cell_type": "code",
      "source": [],
      "metadata": {
        "id": "e217E9DUIz5g"
      },
      "execution_count": null,
      "outputs": []
    },
    {
      "cell_type": "markdown",
      "source": [
        "План по созданию нового столбца.\n",
        "* Написать функцию, которая преобразует жанры строки в список.\n",
        "* Применить функцию для преобразования типа к столбцу при помощи метода apply().\n",
        "* Создать новый столбец, в котором будет храниться количество жанров при помощи метода apply() и встроенной функции len().\n"
      ],
      "metadata": {
        "id": "TErphh7FJImC"
      }
    },
    {
      "cell_type": "code",
      "source": [],
      "metadata": {
        "id": "jEyNkyNGJZbW"
      },
      "execution_count": null,
      "outputs": []
    }
  ]
}