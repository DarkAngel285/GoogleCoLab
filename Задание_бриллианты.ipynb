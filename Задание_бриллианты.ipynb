{
  "nbformat": 4,
  "nbformat_minor": 0,
  "metadata": {
    "colab": {
      "provenance": [],
      "include_colab_link": true
    },
    "kernelspec": {
      "name": "python3",
      "display_name": "Python 3"
    },
    "language_info": {
      "name": "python"
    }
  },
  "cells": [
    {
      "cell_type": "markdown",
      "metadata": {
        "id": "view-in-github",
        "colab_type": "text"
      },
      "source": [
        "<a href=\"https://colab.research.google.com/github/DarkAngel285/GoogleCoLab/blob/main/%D0%97%D0%B0%D0%B4%D0%B0%D0%BD%D0%B8%D0%B5_%D0%B1%D1%80%D0%B8%D0%BB%D0%BB%D0%B8%D0%B0%D0%BD%D1%82%D1%8B.ipynb\" target=\"_parent\"><img src=\"https://colab.research.google.com/assets/colab-badge.svg\" alt=\"Open In Colab\"/></a>"
      ]
    },
    {
      "cell_type": "markdown",
      "source": [
        "Информация о датасете:\n",
        "* price - price in US dollars (\\$326--\\$18,823)\n",
        "\n",
        "* carat - weight of the diamond (0.2--5.01)\n",
        "\n",
        "* cut - quality of the cut (Fair, Good, Very Good, Premium, Ideal)\n",
        "\n",
        "* color - diamond colour, from J (worst) to D (best)\n",
        "\n",
        "* clarity - a measurement of how clear the diamond is (I1 (worst), SI2, SI1, VS2, VS1, VVS2, VVS1, IF (best))\n",
        "\n",
        "* x - length in mm (0--10.74)\n",
        "\n",
        "* y - width in mm (0--58.9)\n",
        "\n",
        "* z - depth in mm (0--31.8)\n",
        "\n",
        "* depth - total depth percentage = z / mean(x, y) = 2 * z / (x + y) (43--79)\n",
        "\n",
        "* table - width of top of diamond relative to widest point (43--95)"
      ],
      "metadata": {
        "id": "6dqlNxZzZx7O"
      }
    },
    {
      "cell_type": "code",
      "source": [
        "import pandas as pd"
      ],
      "metadata": {
        "id": "Az80kLrZYXGi"
      },
      "execution_count": null,
      "outputs": []
    },
    {
      "cell_type": "code",
      "source": [
        "#Монтируем гугл диск. Выйдет окно диалога - надо разрешить доступ\n",
        "from google.colab import drive\n",
        "drive.mount ('/content/diamonds.csv')"
      ],
      "metadata": {
        "colab": {
          "base_uri": "https://localhost:8080/"
        },
        "id": "d_z3Hu9TYroa",
        "outputId": "d63ef447-0e70-4f74-a871-ac97a5d6446e"
      },
      "execution_count": null,
      "outputs": [
        {
          "output_type": "stream",
          "name": "stdout",
          "text": [
            "Mounted at /content/diamonds.csv\n"
          ]
        }
      ]
    },
    {
      "cell_type": "markdown",
      "source": [
        "1. Напишите программу Pandas для чтения CSV-файла из указанного источника и печати первых 5 строк."
      ],
      "metadata": {
        "id": "GFCDv8j-7dCg"
      }
    },
    {
      "cell_type": "code",
      "source": [
        "df =  pd.read_csv('/content/diamonds.csv/MyDrive/Смена/diamonds.csv')"
      ],
      "metadata": {
        "id": "1k_Sjs2f7ikz"
      },
      "execution_count": null,
      "outputs": []
    },
    {
      "cell_type": "code",
      "source": [
        "df.info()"
      ],
      "metadata": {
        "colab": {
          "base_uri": "https://localhost:8080/"
        },
        "id": "SBiu5K2cVf1R",
        "outputId": "fea11f65-f63a-4fc8-b814-6396c4239035"
      },
      "execution_count": null,
      "outputs": [
        {
          "output_type": "stream",
          "name": "stdout",
          "text": [
            "<class 'pandas.core.frame.DataFrame'>\n",
            "RangeIndex: 53940 entries, 0 to 53939\n",
            "Data columns (total 11 columns):\n",
            " #   Column      Non-Null Count  Dtype  \n",
            "---  ------      --------------  -----  \n",
            " 0   Unnamed: 0  53940 non-null  int64  \n",
            " 1   carat       53940 non-null  float64\n",
            " 2   cut         53940 non-null  object \n",
            " 3   color       53940 non-null  object \n",
            " 4   clarity     53940 non-null  object \n",
            " 5   depth       53940 non-null  float64\n",
            " 6   table       53940 non-null  float64\n",
            " 7   price       53940 non-null  int64  \n",
            " 8   x           53940 non-null  float64\n",
            " 9   y           53940 non-null  float64\n",
            " 10  z           53940 non-null  float64\n",
            "dtypes: float64(6), int64(2), object(3)\n",
            "memory usage: 4.5+ MB\n"
          ]
        }
      ]
    },
    {
      "cell_type": "markdown",
      "source": [
        "Убедитесь, что файл считался правильно. Определите, являются ли данные очищенными."
      ],
      "metadata": {
        "id": "-M_4ns3wZQ11"
      }
    },
    {
      "cell_type": "markdown",
      "source": [
        "2. Напишите программу, которая будет выводить не весь датафрейм, а только следующие столбцы: 'carat', 'cut', 'x', 'y', 'z'."
      ],
      "metadata": {
        "id": "IRxVAgZr7hos"
      }
    },
    {
      "cell_type": "code",
      "source": [
        "user = [ 'carat', 'cut', 'x', 'y', 'z']\n",
        "print(df[user].head(10))"
      ],
      "metadata": {
        "id": "QveoCvhe7vOA",
        "colab": {
          "base_uri": "https://localhost:8080/"
        },
        "outputId": "adfc5ca3-80f7-4859-ae5b-e0cdf0dbfaca"
      },
      "execution_count": null,
      "outputs": [
        {
          "output_type": "stream",
          "name": "stdout",
          "text": [
            "   carat        cut     x     y     z\n",
            "0   0.23      Ideal  3.95  3.98  2.43\n",
            "1   0.21    Premium  3.89  3.84  2.31\n",
            "2   0.23       Good  4.05  4.07  2.31\n",
            "3   0.29    Premium  4.20  4.23  2.63\n",
            "4   0.31       Good  4.34  4.35  2.75\n",
            "5   0.24  Very Good  3.94  3.96  2.48\n",
            "6   0.24  Very Good  3.95  3.98  2.47\n",
            "7   0.26  Very Good  4.07  4.11  2.53\n",
            "8   0.22       Fair  3.87  3.78  2.49\n",
            "9   0.23  Very Good  4.00  4.05  2.39\n"
          ]
        }
      ]
    },
    {
      "cell_type": "markdown",
      "source": [
        "3. Напишите программу, которая будет выводить значения только из столбца 'carat'."
      ],
      "metadata": {
        "id": "NJHrQKr57v-j"
      }
    },
    {
      "cell_type": "code",
      "source": [
        "df['carat']"
      ],
      "metadata": {
        "id": "CCrQbxKm73MP",
        "colab": {
          "base_uri": "https://localhost:8080/"
        },
        "outputId": "89fd45a8-d665-4fbd-829a-5a770103f5f5"
      },
      "execution_count": null,
      "outputs": [
        {
          "output_type": "execute_result",
          "data": {
            "text/plain": [
              "0.21"
            ]
          },
          "metadata": {},
          "execution_count": 5
        }
      ]
    },
    {
      "cell_type": "markdown",
      "source": [
        "4. Напишите программу, которая создаст новый столбец ''Quality–color', содержащий значения через запятую из столбца 'cut' и 'color' (например: Ideal, E)."
      ],
      "metadata": {
        "id": "d4Ko6tjS73te"
      }
    },
    {
      "cell_type": "code",
      "source": [
        "df['Quality–color'] = df['cut'] + ',' + df['color']\n",
        "print(df.head())"
      ],
      "metadata": {
        "id": "T_a7m46078Be",
        "colab": {
          "base_uri": "https://localhost:8080/"
        },
        "outputId": "2b0786b6-4564-44ad-e637-58591b22e4a0"
      },
      "execution_count": null,
      "outputs": [
        {
          "output_type": "stream",
          "name": "stdout",
          "text": [
            "   Unnamed: 0  carat      cut color clarity  depth  table  price     x     y  \\\n",
            "0           1   0.23    Ideal     E     SI2   61.5   55.0    326  3.95  3.98   \n",
            "1           2   0.21  Premium     E     SI1   59.8   61.0    326  3.89  3.84   \n",
            "2           3   0.23     Good     E     VS1   56.9   65.0    327  4.05  4.07   \n",
            "3           4   0.29  Premium     I     VS2   62.4   58.0    334  4.20  4.23   \n",
            "4           5   0.31     Good     J     SI2   63.3   58.0    335  4.34  4.35   \n",
            "\n",
            "      z Quality–color  \n",
            "0  2.43       Ideal,E  \n",
            "1  2.31     Premium,E  \n",
            "2  2.31        Good,E  \n",
            "3  2.63     Premium,I  \n",
            "4  2.75        Good,J  \n"
          ]
        }
      ]
    },
    {
      "cell_type": "markdown",
      "source": [
        "5. Напишите программу, чтобы найти количество строк и столбцов и тип данных для каждого столбца."
      ],
      "metadata": {
        "id": "twNZJyRI78cS"
      }
    },
    {
      "cell_type": "code",
      "source": [
        "df.shape"
      ],
      "metadata": {
        "id": "mx-OTPJ68ADd",
        "colab": {
          "base_uri": "https://localhost:8080/"
        },
        "outputId": "e67312fe-e635-437b-deed-76e81d1364f3"
      },
      "execution_count": null,
      "outputs": [
        {
          "output_type": "execute_result",
          "data": {
            "text/plain": [
              "(53940, 12)"
            ]
          },
          "metadata": {},
          "execution_count": 9
        }
      ]
    },
    {
      "cell_type": "code",
      "source": [
        "df.dtypes"
      ],
      "metadata": {
        "colab": {
          "base_uri": "https://localhost:8080/"
        },
        "id": "oqtoKIE7XN8B",
        "outputId": "c69068b8-5209-4a83-e7d9-85c21a67cbda"
      },
      "execution_count": null,
      "outputs": [
        {
          "output_type": "execute_result",
          "data": {
            "text/plain": [
              "Unnamed: 0         int64\n",
              "carat            float64\n",
              "cut               object\n",
              "color             object\n",
              "clarity           object\n",
              "depth            float64\n",
              "table            float64\n",
              "price              int64\n",
              "x                float64\n",
              "y                float64\n",
              "z                float64\n",
              "Quality–color     object\n",
              "dtype: object"
            ]
          },
          "metadata": {},
          "execution_count": 10
        }
      ]
    },
    {
      "cell_type": "markdown",
      "source": [
        "7. Переименуйте столбец 'color' в 'diamond_color', 'clarity' в 'diamond_clarity'."
      ],
      "metadata": {
        "id": "vqxQeHez8HKo"
      }
    },
    {
      "cell_type": "code",
      "source": [
        "df.rename(columns = {'color':'diamond_color'}, inplace = True)\n",
        "df.rename(columns = {'clarity':'diamond_clarity'}, inplace = True)\n",
        "df.info()"
      ],
      "metadata": {
        "id": "SgVG5Jsr8LB9",
        "colab": {
          "base_uri": "https://localhost:8080/"
        },
        "outputId": "a15d9835-06f0-4799-e4e6-83f9b56fb5b0"
      },
      "execution_count": null,
      "outputs": [
        {
          "output_type": "stream",
          "name": "stdout",
          "text": [
            "<class 'pandas.core.frame.DataFrame'>\n",
            "RangeIndex: 53940 entries, 0 to 53939\n",
            "Data columns (total 12 columns):\n",
            " #   Column           Non-Null Count  Dtype  \n",
            "---  ------           --------------  -----  \n",
            " 0   Unnamed: 0       53940 non-null  int64  \n",
            " 1   carat            53940 non-null  float64\n",
            " 2   cut              53940 non-null  object \n",
            " 3   diamond_color    53940 non-null  object \n",
            " 4   diamond_clarity  53940 non-null  object \n",
            " 5   depth            53940 non-null  float64\n",
            " 6   table            53940 non-null  float64\n",
            " 7   price            53940 non-null  int64  \n",
            " 8   x                53940 non-null  float64\n",
            " 9   y                53940 non-null  float64\n",
            " 10  z                53940 non-null  float64\n",
            " 11  Quality–color    53940 non-null  object \n",
            "dtypes: float64(6), int64(2), object(4)\n",
            "memory usage: 4.9+ MB\n"
          ]
        }
      ]
    },
    {
      "cell_type": "markdown",
      "source": [
        "8. Напишите программу, чтобы переименовать все столбцы ."
      ],
      "metadata": {
        "id": "_taIl4n-8LbI"
      }
    },
    {
      "cell_type": "code",
      "source": [
        "diamond_col =['0','1','2','3','4','5','6','7','8','9','10', '11']\n",
        "df.columns = diamond_col"
      ],
      "metadata": {
        "id": "lmv48dED8O5c",
        "colab": {
          "base_uri": "https://localhost:8080/",
          "height": 338
        },
        "outputId": "2af2accf-91ba-4528-c504-463651d9c9bd"
      },
      "execution_count": null,
      "outputs": [
        {
          "output_type": "error",
          "ename": "ValueError",
          "evalue": "ignored",
          "traceback": [
            "\u001b[0;31m---------------------------------------------------------------------------\u001b[0m",
            "\u001b[0;31mValueError\u001b[0m                                Traceback (most recent call last)",
            "\u001b[0;32m<ipython-input-19-35876408ab64>\u001b[0m in \u001b[0;36m<cell line: 2>\u001b[0;34m()\u001b[0m\n\u001b[1;32m      1\u001b[0m \u001b[0mdiamond_col\u001b[0m \u001b[0;34m=\u001b[0m\u001b[0;34m[\u001b[0m\u001b[0;34m'0'\u001b[0m\u001b[0;34m,\u001b[0m\u001b[0;34m'1'\u001b[0m\u001b[0;34m,\u001b[0m\u001b[0;34m'2'\u001b[0m\u001b[0;34m,\u001b[0m\u001b[0;34m'3'\u001b[0m\u001b[0;34m,\u001b[0m\u001b[0;34m'4'\u001b[0m\u001b[0;34m,\u001b[0m\u001b[0;34m'5'\u001b[0m\u001b[0;34m,\u001b[0m\u001b[0;34m'6'\u001b[0m\u001b[0;34m,\u001b[0m\u001b[0;34m'7'\u001b[0m\u001b[0;34m,\u001b[0m\u001b[0;34m'8'\u001b[0m\u001b[0;34m,\u001b[0m\u001b[0;34m'9'\u001b[0m\u001b[0;34m,\u001b[0m\u001b[0;34m'10'\u001b[0m\u001b[0;34m,\u001b[0m \u001b[0;34m'11'\u001b[0m\u001b[0;34m]\u001b[0m\u001b[0;34m\u001b[0m\u001b[0;34m\u001b[0m\u001b[0m\n\u001b[0;32m----> 2\u001b[0;31m \u001b[0mdf\u001b[0m\u001b[0;34m.\u001b[0m\u001b[0mcolumns\u001b[0m \u001b[0;34m=\u001b[0m \u001b[0mdiamond_col\u001b[0m\u001b[0;34m\u001b[0m\u001b[0;34m\u001b[0m\u001b[0m\n\u001b[0m",
            "\u001b[0;32m/usr/local/lib/python3.10/dist-packages/pandas/core/generic.py\u001b[0m in \u001b[0;36m__setattr__\u001b[0;34m(self, name, value)\u001b[0m\n\u001b[1;32m   5913\u001b[0m         \u001b[0;32mtry\u001b[0m\u001b[0;34m:\u001b[0m\u001b[0;34m\u001b[0m\u001b[0;34m\u001b[0m\u001b[0m\n\u001b[1;32m   5914\u001b[0m             \u001b[0mobject\u001b[0m\u001b[0;34m.\u001b[0m\u001b[0m__getattribute__\u001b[0m\u001b[0;34m(\u001b[0m\u001b[0mself\u001b[0m\u001b[0;34m,\u001b[0m \u001b[0mname\u001b[0m\u001b[0;34m)\u001b[0m\u001b[0;34m\u001b[0m\u001b[0;34m\u001b[0m\u001b[0m\n\u001b[0;32m-> 5915\u001b[0;31m             \u001b[0;32mreturn\u001b[0m \u001b[0mobject\u001b[0m\u001b[0;34m.\u001b[0m\u001b[0m__setattr__\u001b[0m\u001b[0;34m(\u001b[0m\u001b[0mself\u001b[0m\u001b[0;34m,\u001b[0m \u001b[0mname\u001b[0m\u001b[0;34m,\u001b[0m \u001b[0mvalue\u001b[0m\u001b[0;34m)\u001b[0m\u001b[0;34m\u001b[0m\u001b[0;34m\u001b[0m\u001b[0m\n\u001b[0m\u001b[1;32m   5916\u001b[0m         \u001b[0;32mexcept\u001b[0m \u001b[0mAttributeError\u001b[0m\u001b[0;34m:\u001b[0m\u001b[0;34m\u001b[0m\u001b[0;34m\u001b[0m\u001b[0m\n\u001b[1;32m   5917\u001b[0m             \u001b[0;32mpass\u001b[0m\u001b[0;34m\u001b[0m\u001b[0;34m\u001b[0m\u001b[0m\n",
            "\u001b[0;32m/usr/local/lib/python3.10/dist-packages/pandas/_libs/properties.pyx\u001b[0m in \u001b[0;36mpandas._libs.properties.AxisProperty.__set__\u001b[0;34m()\u001b[0m\n",
            "\u001b[0;32m/usr/local/lib/python3.10/dist-packages/pandas/core/generic.py\u001b[0m in \u001b[0;36m_set_axis\u001b[0;34m(self, axis, labels)\u001b[0m\n\u001b[1;32m    821\u001b[0m     \u001b[0;32mdef\u001b[0m \u001b[0m_set_axis\u001b[0m\u001b[0;34m(\u001b[0m\u001b[0mself\u001b[0m\u001b[0;34m,\u001b[0m \u001b[0maxis\u001b[0m\u001b[0;34m:\u001b[0m \u001b[0mint\u001b[0m\u001b[0;34m,\u001b[0m \u001b[0mlabels\u001b[0m\u001b[0;34m:\u001b[0m \u001b[0mAnyArrayLike\u001b[0m \u001b[0;34m|\u001b[0m \u001b[0mlist\u001b[0m\u001b[0;34m)\u001b[0m \u001b[0;34m->\u001b[0m \u001b[0;32mNone\u001b[0m\u001b[0;34m:\u001b[0m\u001b[0;34m\u001b[0m\u001b[0;34m\u001b[0m\u001b[0m\n\u001b[1;32m    822\u001b[0m         \u001b[0mlabels\u001b[0m \u001b[0;34m=\u001b[0m \u001b[0mensure_index\u001b[0m\u001b[0;34m(\u001b[0m\u001b[0mlabels\u001b[0m\u001b[0;34m)\u001b[0m\u001b[0;34m\u001b[0m\u001b[0;34m\u001b[0m\u001b[0m\n\u001b[0;32m--> 823\u001b[0;31m         \u001b[0mself\u001b[0m\u001b[0;34m.\u001b[0m\u001b[0m_mgr\u001b[0m\u001b[0;34m.\u001b[0m\u001b[0mset_axis\u001b[0m\u001b[0;34m(\u001b[0m\u001b[0maxis\u001b[0m\u001b[0;34m,\u001b[0m \u001b[0mlabels\u001b[0m\u001b[0;34m)\u001b[0m\u001b[0;34m\u001b[0m\u001b[0;34m\u001b[0m\u001b[0m\n\u001b[0m\u001b[1;32m    824\u001b[0m         \u001b[0mself\u001b[0m\u001b[0;34m.\u001b[0m\u001b[0m_clear_item_cache\u001b[0m\u001b[0;34m(\u001b[0m\u001b[0;34m)\u001b[0m\u001b[0;34m\u001b[0m\u001b[0;34m\u001b[0m\u001b[0m\n\u001b[1;32m    825\u001b[0m \u001b[0;34m\u001b[0m\u001b[0m\n",
            "\u001b[0;32m/usr/local/lib/python3.10/dist-packages/pandas/core/internals/managers.py\u001b[0m in \u001b[0;36mset_axis\u001b[0;34m(self, axis, new_labels)\u001b[0m\n\u001b[1;32m    228\u001b[0m     \u001b[0;32mdef\u001b[0m \u001b[0mset_axis\u001b[0m\u001b[0;34m(\u001b[0m\u001b[0mself\u001b[0m\u001b[0;34m,\u001b[0m \u001b[0maxis\u001b[0m\u001b[0;34m:\u001b[0m \u001b[0mint\u001b[0m\u001b[0;34m,\u001b[0m \u001b[0mnew_labels\u001b[0m\u001b[0;34m:\u001b[0m \u001b[0mIndex\u001b[0m\u001b[0;34m)\u001b[0m \u001b[0;34m->\u001b[0m \u001b[0;32mNone\u001b[0m\u001b[0;34m:\u001b[0m\u001b[0;34m\u001b[0m\u001b[0;34m\u001b[0m\u001b[0m\n\u001b[1;32m    229\u001b[0m         \u001b[0;31m# Caller is responsible for ensuring we have an Index object.\u001b[0m\u001b[0;34m\u001b[0m\u001b[0;34m\u001b[0m\u001b[0m\n\u001b[0;32m--> 230\u001b[0;31m         \u001b[0mself\u001b[0m\u001b[0;34m.\u001b[0m\u001b[0m_validate_set_axis\u001b[0m\u001b[0;34m(\u001b[0m\u001b[0maxis\u001b[0m\u001b[0;34m,\u001b[0m \u001b[0mnew_labels\u001b[0m\u001b[0;34m)\u001b[0m\u001b[0;34m\u001b[0m\u001b[0;34m\u001b[0m\u001b[0m\n\u001b[0m\u001b[1;32m    231\u001b[0m         \u001b[0mself\u001b[0m\u001b[0;34m.\u001b[0m\u001b[0maxes\u001b[0m\u001b[0;34m[\u001b[0m\u001b[0maxis\u001b[0m\u001b[0;34m]\u001b[0m \u001b[0;34m=\u001b[0m \u001b[0mnew_labels\u001b[0m\u001b[0;34m\u001b[0m\u001b[0;34m\u001b[0m\u001b[0m\n\u001b[1;32m    232\u001b[0m \u001b[0;34m\u001b[0m\u001b[0m\n",
            "\u001b[0;32m/usr/local/lib/python3.10/dist-packages/pandas/core/internals/base.py\u001b[0m in \u001b[0;36m_validate_set_axis\u001b[0;34m(self, axis, new_labels)\u001b[0m\n\u001b[1;32m     68\u001b[0m \u001b[0;34m\u001b[0m\u001b[0m\n\u001b[1;32m     69\u001b[0m         \u001b[0;32melif\u001b[0m \u001b[0mnew_len\u001b[0m \u001b[0;34m!=\u001b[0m \u001b[0mold_len\u001b[0m\u001b[0;34m:\u001b[0m\u001b[0;34m\u001b[0m\u001b[0;34m\u001b[0m\u001b[0m\n\u001b[0;32m---> 70\u001b[0;31m             raise ValueError(\n\u001b[0m\u001b[1;32m     71\u001b[0m                 \u001b[0;34mf\"Length mismatch: Expected axis has {old_len} elements, new \"\u001b[0m\u001b[0;34m\u001b[0m\u001b[0;34m\u001b[0m\u001b[0m\n\u001b[1;32m     72\u001b[0m                 \u001b[0;34mf\"values have {new_len} elements\"\u001b[0m\u001b[0;34m\u001b[0m\u001b[0;34m\u001b[0m\u001b[0m\n",
            "\u001b[0;31mValueError\u001b[0m: Length mismatch: Expected axis has 11 elements, new values have 12 elements"
          ]
        }
      ]
    },
    {
      "cell_type": "markdown",
      "source": [
        "9. Напишите программу Pandas для удаления второго столбца."
      ],
      "metadata": {
        "id": "cUNEqpNY8PNE"
      }
    },
    {
      "cell_type": "code",
      "source": [
        "df.drop('2', axis = 1, inplace = True)"
      ],
      "metadata": {
        "id": "PaF8DO928TJh"
      },
      "execution_count": null,
      "outputs": []
    },
    {
      "cell_type": "markdown",
      "source": [
        "10. Напишите программу Pandas для одновременного удаления нескольких столбцов из блока данных."
      ],
      "metadata": {
        "id": "mQymZFXY8UwU"
      }
    },
    {
      "cell_type": "code",
      "source": [
        "df.drop(['1', '10'], axis = 1, inplace = True)\n"
      ],
      "metadata": {
        "id": "rzD5YW9F8acR"
      },
      "execution_count": null,
      "outputs": []
    },
    {
      "cell_type": "code",
      "source": [
        "print(df)"
      ],
      "metadata": {
        "colab": {
          "base_uri": "https://localhost:8080/"
        },
        "id": "Foka0asvc002",
        "outputId": "f1a906aa-ff5f-4320-cdf6-d95482d3199d"
      },
      "execution_count": null,
      "outputs": [
        {
          "output_type": "stream",
          "name": "stdout",
          "text": [
            "           0  3     4     5     6     7     8     9           11\n",
            "0          1  E   SI2  61.5  55.0   326  3.95  3.98      Ideal,E\n",
            "3          4  I   VS2  62.4  58.0   334  4.20  4.23    Premium,I\n",
            "4          5  J   SI2  63.3  58.0   335  4.34  4.35       Good,J\n",
            "5          6  J  VVS2  62.8  57.0   336  3.94  3.96  Very Good,J\n",
            "6          7  I  VVS1  62.3  57.0   336  3.95  3.98  Very Good,I\n",
            "...      ... ..   ...   ...   ...   ...   ...   ...          ...\n",
            "53935  53936  D   SI1  60.8  57.0  2757  5.75  5.76      Ideal,D\n",
            "53936  53937  D   SI1  63.1  55.0  2757  5.69  5.75       Good,D\n",
            "53937  53938  D   SI1  62.8  60.0  2757  5.66  5.68  Very Good,D\n",
            "53938  53939  H   SI2  61.0  58.0  2757  6.15  6.12    Premium,H\n",
            "53939  53940  D   SI2  62.2  55.0  2757  5.83  5.87      Ideal,D\n",
            "\n",
            "[53938 rows x 9 columns]\n"
          ]
        }
      ]
    },
    {
      "cell_type": "markdown",
      "source": [
        "11. Напишите программу Pandas для одновременного удаления нескольких строк (ось = 0 относится к строкам) из датафрейма."
      ],
      "metadata": {
        "id": "vrPNWF198a9q"
      }
    },
    {
      "cell_type": "code",
      "source": [
        "df.drop([1,2], axis = 0, inplace = True)"
      ],
      "metadata": {
        "id": "78S0IdeN8fB_"
      },
      "execution_count": null,
      "outputs": []
    },
    {
      "cell_type": "markdown",
      "source": [
        "12. Напишите программу Pandas для сортировки столбца 'cut' в порядке возрастания."
      ],
      "metadata": {
        "id": "aztJn1QK8hJW"
      }
    },
    {
      "cell_type": "code",
      "source": [
        "res = df['5'].sort_value(ascending = True)"
      ],
      "metadata": {
        "id": "HFxRmFSN8iiC",
        "colab": {
          "base_uri": "https://localhost:8080/",
          "height": 297
        },
        "outputId": "ff554193-112c-431f-99d7-ae227738347e"
      },
      "execution_count": null,
      "outputs": [
        {
          "output_type": "error",
          "ename": "AttributeError",
          "evalue": "ignored",
          "traceback": [
            "\u001b[0;31m---------------------------------------------------------------------------\u001b[0m",
            "\u001b[0;31mAttributeError\u001b[0m                            Traceback (most recent call last)",
            "\u001b[0;32m<ipython-input-28-f324bf6e9ff7>\u001b[0m in \u001b[0;36m<cell line: 1>\u001b[0;34m()\u001b[0m\n\u001b[0;32m----> 1\u001b[0;31m \u001b[0mres\u001b[0m \u001b[0;34m=\u001b[0m \u001b[0mdf\u001b[0m\u001b[0;34m[\u001b[0m\u001b[0;34m'5'\u001b[0m\u001b[0;34m]\u001b[0m\u001b[0;34m.\u001b[0m\u001b[0msort_value\u001b[0m\u001b[0;34m(\u001b[0m\u001b[0mascending\u001b[0m \u001b[0;34m=\u001b[0m \u001b[0;32mTrue\u001b[0m\u001b[0;34m)\u001b[0m\u001b[0;34m\u001b[0m\u001b[0;34m\u001b[0m\u001b[0m\n\u001b[0m",
            "\u001b[0;32m/usr/local/lib/python3.10/dist-packages/pandas/core/generic.py\u001b[0m in \u001b[0;36m__getattr__\u001b[0;34m(self, name)\u001b[0m\n\u001b[1;32m   5900\u001b[0m         ):\n\u001b[1;32m   5901\u001b[0m             \u001b[0;32mreturn\u001b[0m \u001b[0mself\u001b[0m\u001b[0;34m[\u001b[0m\u001b[0mname\u001b[0m\u001b[0;34m]\u001b[0m\u001b[0;34m\u001b[0m\u001b[0;34m\u001b[0m\u001b[0m\n\u001b[0;32m-> 5902\u001b[0;31m         \u001b[0;32mreturn\u001b[0m \u001b[0mobject\u001b[0m\u001b[0;34m.\u001b[0m\u001b[0m__getattribute__\u001b[0m\u001b[0;34m(\u001b[0m\u001b[0mself\u001b[0m\u001b[0;34m,\u001b[0m \u001b[0mname\u001b[0m\u001b[0;34m)\u001b[0m\u001b[0;34m\u001b[0m\u001b[0;34m\u001b[0m\u001b[0m\n\u001b[0m\u001b[1;32m   5903\u001b[0m \u001b[0;34m\u001b[0m\u001b[0m\n\u001b[1;32m   5904\u001b[0m     \u001b[0;32mdef\u001b[0m \u001b[0m__setattr__\u001b[0m\u001b[0;34m(\u001b[0m\u001b[0mself\u001b[0m\u001b[0;34m,\u001b[0m \u001b[0mname\u001b[0m\u001b[0;34m:\u001b[0m \u001b[0mstr\u001b[0m\u001b[0;34m,\u001b[0m \u001b[0mvalue\u001b[0m\u001b[0;34m)\u001b[0m \u001b[0;34m->\u001b[0m \u001b[0;32mNone\u001b[0m\u001b[0;34m:\u001b[0m\u001b[0;34m\u001b[0m\u001b[0;34m\u001b[0m\u001b[0m\n",
            "\u001b[0;31mAttributeError\u001b[0m: 'Series' object has no attribute 'sort_value'"
          ]
        }
      ]
    },
    {
      "cell_type": "markdown",
      "source": [
        "13. Напишите программу Pandas для сортировки столбца 'price' в порядке убывания."
      ],
      "metadata": {
        "id": "9TSkQ4z18jKN"
      }
    },
    {
      "cell_type": "code",
      "source": [],
      "metadata": {
        "id": "uNDvfwwC8m5X"
      },
      "execution_count": null,
      "outputs": []
    },
    {
      "cell_type": "markdown",
      "source": [
        "15. Напишите программу Pandas, чтобы отфильтровать строки датафрейма так, чтобы вес в каратах ('carat') составлял не менее 0,3."
      ],
      "metadata": {
        "id": "868jP9N88r-S"
      }
    },
    {
      "cell_type": "code",
      "source": [],
      "metadata": {
        "id": "p-xaf35N8vir"
      },
      "execution_count": null,
      "outputs": []
    },
    {
      "cell_type": "markdown",
      "source": [
        "17. Напишите программу Pandas, чтобы найти бриллианты с длиной > 5, шириной > 5 и глубиной > 5."
      ],
      "metadata": {
        "id": "lvpHFOGL9EvQ"
      }
    },
    {
      "cell_type": "code",
      "source": [],
      "metadata": {
        "id": "28ZAUqFP9Iav"
      },
      "execution_count": null,
      "outputs": []
    },
    {
      "cell_type": "markdown",
      "source": [
        "18. Напишите программу Pandas, чтобы найти бриллианты премиум-класса или идеальные."
      ],
      "metadata": {
        "id": "nR39LxXI9IsP"
      }
    },
    {
      "cell_type": "code",
      "source": [],
      "metadata": {
        "id": "2MYXnAUx9Mk1"
      },
      "execution_count": null,
      "outputs": []
    },
    {
      "cell_type": "markdown",
      "source": [
        "20. Вывести названия столбцов."
      ],
      "metadata": {
        "id": "9djLkNrx9Plc"
      }
    },
    {
      "cell_type": "code",
      "source": [],
      "metadata": {
        "id": "5Mmvzxbv9XLx"
      },
      "execution_count": null,
      "outputs": []
    },
    {
      "cell_type": "markdown",
      "source": [
        "22. Напишите программу Pandas для перебора бриллиантов в DataFrame."
      ],
      "metadata": {
        "id": "xmOLt1Jg9do3"
      }
    },
    {
      "cell_type": "code",
      "source": [],
      "metadata": {
        "id": "uMNO-67d9hPa"
      },
      "execution_count": null,
      "outputs": []
    },
    {
      "cell_type": "markdown",
      "source": [
        "24. Напишите программу Pandas, которая будет включать только числовые столбцы в DataFrame с бриллиантами."
      ],
      "metadata": {
        "id": "O1UzD3UX9n5l"
      }
    },
    {
      "cell_type": "code",
      "source": [],
      "metadata": {
        "id": "p0sBYZCL9reE"
      },
      "execution_count": null,
      "outputs": []
    },
    {
      "cell_type": "markdown",
      "source": [
        "25. Напишите программу Pandas для передачи списка типов данных, чтобы описывать только определенные типы бриллиантов DataFrame."
      ],
      "metadata": {
        "id": "kZico61q9r4S"
      }
    },
    {
      "cell_type": "code",
      "source": [],
      "metadata": {
        "id": "F_pCtDKu9wcS"
      },
      "execution_count": null,
      "outputs": []
    },
    {
      "cell_type": "markdown",
      "source": [
        "26. Напишите программу Pandas для расчета среднего значения каждого числового столбца бриллиантов в DataFrame."
      ],
      "metadata": {
        "id": "g5zsu6Um9xIn"
      }
    },
    {
      "cell_type": "code",
      "source": [],
      "metadata": {
        "id": "bkP09bQX90HX"
      },
      "execution_count": null,
      "outputs": []
    },
    {
      "cell_type": "markdown",
      "source": [
        "28. Напишите программу Pandas для расчета среднего значения цены для каждого 'cut'."
      ],
      "metadata": {
        "id": "zvLVN-Rf95vM"
      }
    },
    {
      "cell_type": "code",
      "source": [],
      "metadata": {
        "id": "5u6i1PgD98vD"
      },
      "execution_count": null,
      "outputs": []
    },
    {
      "cell_type": "markdown",
      "source": [
        "29. Напишите программу Pandas для расчета количества, минимальной, максимальной цены на каждого бриллианта ('cut')."
      ],
      "metadata": {
        "id": "I2QFkwOH99fm"
      }
    },
    {
      "cell_type": "code",
      "source": [],
      "metadata": {
        "id": "ZaFSvGT8-Bd_"
      },
      "execution_count": null,
      "outputs": []
    },
    {
      "cell_type": "markdown",
      "source": [
        "30. Напишите программу Pandas для создания линейного графика."
      ],
      "metadata": {
        "id": "3BTQvpt9-CUX"
      }
    },
    {
      "cell_type": "code",
      "source": [],
      "metadata": {
        "id": "pGowqO0v-GGI"
      },
      "execution_count": null,
      "outputs": []
    },
    {
      "cell_type": "markdown",
      "source": [
        "31. Напишите программу Pandas, чтобы подсчитать, сколько раз встречается каждое значение в 'cut'."
      ],
      "metadata": {
        "id": "pcTrUz8BDFyY"
      }
    },
    {
      "cell_type": "code",
      "source": [],
      "metadata": {
        "id": "6tHVjXbWDNrm"
      },
      "execution_count": null,
      "outputs": []
    },
    {
      "cell_type": "markdown",
      "source": [
        "32. Напишите программу Pandas для отображения уникальных значений в 'cut'."
      ],
      "metadata": {
        "id": "Egu5dXghDOWn"
      }
    },
    {
      "cell_type": "code",
      "source": [],
      "metadata": {
        "id": "5Vfw9zFMEndR"
      },
      "execution_count": null,
      "outputs": []
    }
  ]
}