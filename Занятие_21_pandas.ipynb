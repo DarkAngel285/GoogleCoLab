{
  "nbformat": 4,
  "nbformat_minor": 0,
  "metadata": {
    "colab": {
      "provenance": [],
      "include_colab_link": true
    },
    "kernelspec": {
      "name": "python3",
      "display_name": "Python 3"
    },
    "language_info": {
      "name": "python"
    }
  },
  "cells": [
    {
      "cell_type": "markdown",
      "metadata": {
        "id": "view-in-github",
        "colab_type": "text"
      },
      "source": [
        "<a href=\"https://colab.research.google.com/github/DarkAngel285/GoogleCoLab/blob/main/%D0%97%D0%B0%D0%BD%D1%8F%D1%82%D0%B8%D0%B5_21_pandas.ipynb\" target=\"_parent\"><img src=\"https://colab.research.google.com/assets/colab-badge.svg\" alt=\"Open In Colab\"/></a>"
      ]
    },
    {
      "cell_type": "markdown",
      "source": [
        "Анализ данных. Основы работы\n",
        "с Pandas. Фильтрация данных\n",
        "\n"
      ],
      "metadata": {
        "id": "qVVJ0K6cKAu2"
      }
    },
    {
      "cell_type": "code",
      "source": [
        "#Подключаем библиотеку\n",
        "import pandas as pd"
      ],
      "metadata": {
        "id": "hmYtZXs4LE4k"
      },
      "execution_count": 2,
      "outputs": []
    },
    {
      "cell_type": "code",
      "source": [
        "#Монтируем гугл диск. Выйдет окно диалога - надо разрешить доступ\n",
        "from google.colab import drive\n",
        "drive.mount ('/content/drive')"
      ],
      "metadata": {
        "colab": {
          "base_uri": "https://localhost:8080/"
        },
        "id": "Sz2fm4XhKldT",
        "outputId": "b070c778-7e65-45ba-f9d8-9bc721e68ed7"
      },
      "execution_count": 3,
      "outputs": [
        {
          "output_type": "stream",
          "name": "stdout",
          "text": [
            "Mounted at /content/drive\n"
          ]
        }
      ]
    },
    {
      "cell_type": "code",
      "source": [
        "#Здесь будет ваш путь к папке на диске\n",
        "#Надо залить файл с данными на Google диск, щелкнуть на значок папки слева, найти файл, через контекстное меню скопировать путь и вставить сюда\n",
        "df = pd.read_csv(\"/content/drive/MyDrive/GoogleApps.csv\")"
      ],
      "metadata": {
        "id": "PoZW2TkEK8OP"
      },
      "execution_count": 4,
      "outputs": []
    },
    {
      "cell_type": "code",
      "source": [
        "from google.colab import drive\n",
        "drive.mount('/content/drive')"
      ],
      "metadata": {
        "colab": {
          "base_uri": "https://localhost:8080/"
        },
        "id": "a7fEwFmoQDNk",
        "outputId": "c0f38c1c-b002-4786-c72d-9179ccd8bcc8"
      },
      "execution_count": 5,
      "outputs": [
        {
          "output_type": "stream",
          "name": "stdout",
          "text": [
            "Drive already mounted at /content/drive; to attempt to forcibly remount, call drive.mount(\"/content/drive\", force_remount=True).\n"
          ]
        }
      ]
    },
    {
      "cell_type": "markdown",
      "source": [
        "Метод info возвращает краткую информацию о каждом столбце и датафрейме в целом."
      ],
      "metadata": {
        "id": "nZGU62t1MTUf"
      }
    },
    {
      "cell_type": "code",
      "source": [
        "df.info()"
      ],
      "metadata": {
        "colab": {
          "base_uri": "https://localhost:8080/"
        },
        "id": "fBfxq0TbL-xq",
        "outputId": "c58b26c4-b901-451d-d698-6ded429170db"
      },
      "execution_count": 6,
      "outputs": [
        {
          "output_type": "stream",
          "name": "stdout",
          "text": [
            "<class 'pandas.core.frame.DataFrame'>\n",
            "RangeIndex: 7352 entries, 0 to 7351\n",
            "Data columns (total 12 columns):\n",
            " #   Column          Non-Null Count  Dtype  \n",
            "---  ------          --------------  -----  \n",
            " 0   App             7352 non-null   object \n",
            " 1   Category        7352 non-null   object \n",
            " 2   Rating          7352 non-null   float64\n",
            " 3   Reviews         7352 non-null   int64  \n",
            " 4   Size            7352 non-null   float64\n",
            " 5   Installs        7352 non-null   float64\n",
            " 6   Type            7352 non-null   object \n",
            " 7   Price           7352 non-null   float64\n",
            " 8   Content Rating  7352 non-null   object \n",
            " 9   Last Updated    7352 non-null   object \n",
            " 10  Current Ver     7352 non-null   object \n",
            " 11  Android Ver     7352 non-null   object \n",
            "dtypes: float64(4), int64(1), object(7)\n",
            "memory usage: 689.4+ KB\n"
          ]
        }
      ]
    },
    {
      "cell_type": "markdown",
      "source": [
        "Метод head возвращает первые n (по умолчанию 5) строк датафрейма."
      ],
      "metadata": {
        "id": "dr5z1OY2MlDw"
      }
    },
    {
      "cell_type": "code",
      "source": [
        "print(df.head())"
      ],
      "metadata": {
        "colab": {
          "base_uri": "https://localhost:8080/"
        },
        "id": "27vb_yt3Mugq",
        "outputId": "14724a58-cf51-4fe3-aed1-8046a83cde57"
      },
      "execution_count": 7,
      "outputs": [
        {
          "output_type": "stream",
          "name": "stdout",
          "text": [
            "                                                 App        Category  Rating  \\\n",
            "0     Photo Editor & Candy Camera & Grid & ScrapBook  ART_AND_DESIGN     4.1   \n",
            "1                                Coloring book moana  ART_AND_DESIGN     3.9   \n",
            "2  U Launcher Lite – FREE Live Cool Themes, Hide ...  ART_AND_DESIGN     4.7   \n",
            "3                              Sketch - Draw & Paint  ART_AND_DESIGN     4.5   \n",
            "4              Pixel Draw - Number Art Coloring Book  ART_AND_DESIGN     4.3   \n",
            "\n",
            "   Reviews  Size    Installs  Type  Price Content Rating      Last Updated  \\\n",
            "0      159  19.0     10000.0  Free    0.0       Everyone   January 7, 2018   \n",
            "1      967  14.0    500000.0  Free    0.0       Everyone  January 15, 2018   \n",
            "2    87510   8.7   5000000.0  Free    0.0       Everyone    August 1, 2018   \n",
            "3   215644  25.0  50000000.0  Free    0.0           Teen      June 8, 2018   \n",
            "4      967   2.8    100000.0  Free    0.0       Everyone     June 20, 2018   \n",
            "\n",
            "          Current Ver   Android Ver  \n",
            "0               1.0.0  4.0.3 and up  \n",
            "1               2.0.0  4.0.3 and up  \n",
            "2               1.2.4  4.0.3 and up  \n",
            "3  Varies with device    4.2 and up  \n",
            "4                 1.1    4.4 and up  \n"
          ]
        }
      ]
    },
    {
      "cell_type": "markdown",
      "source": [
        "Метод tail возвращает последние n (по умолчанию 5) строк датафрейма."
      ],
      "metadata": {
        "id": "A7pLlkcnNImj"
      }
    },
    {
      "cell_type": "code",
      "source": [
        "print(df.tail())"
      ],
      "metadata": {
        "colab": {
          "base_uri": "https://localhost:8080/"
        },
        "id": "riNnlRyeNY-v",
        "outputId": "b4a0b821-c695-4f30-8e63-ba5c8dbf646f"
      },
      "execution_count": 8,
      "outputs": [
        {
          "output_type": "stream",
          "name": "stdout",
          "text": [
            "                                                App             Category  \\\n",
            "7347                                    Chemin (fr)  BOOKS_AND_REFERENCE   \n",
            "7348                                  FR Calculator               FAMILY   \n",
            "7349                               Sya9a Maroc - FR               FAMILY   \n",
            "7350               Fr. Mike Schmitz Audio Teachings               FAMILY   \n",
            "7351  iHoroscope - 2018 Daily Horoscope & Astrology            LIFESTYLE   \n",
            "\n",
            "      Rating  Reviews       Size    Installs  Type  Price Content Rating  \\\n",
            "7347     4.8       44   0.604492      1000.0  Free    0.0       Everyone   \n",
            "7348     4.0        7   2.600000       500.0  Free    0.0       Everyone   \n",
            "7349     4.5       38  53.000000      5000.0  Free    0.0       Everyone   \n",
            "7350     5.0        4   3.600000       100.0  Free    0.0       Everyone   \n",
            "7351     4.5   398307  19.000000  10000000.0  Free    0.0       Everyone   \n",
            "\n",
            "        Last Updated         Current Ver         Android Ver  \n",
            "7347  March 23, 2014                 0.8          2.2 and up  \n",
            "7348   June 18, 2017               1.0.0          4.1 and up  \n",
            "7349   July 25, 2017                1.48          4.1 and up  \n",
            "7350    July 6, 2018                 1.0          4.1 and up  \n",
            "7351   July 25, 2018  Varies with device  Varies with device  \n"
          ]
        }
      ]
    },
    {
      "cell_type": "markdown",
      "source": [
        "Метод describe возвращает обобщённые статистические показатели на основе хранящихся в датафрейме данных."
      ],
      "metadata": {
        "id": "gb2WvaO3NvIp"
      }
    },
    {
      "cell_type": "code",
      "source": [
        "df.describe()"
      ],
      "metadata": {
        "colab": {
          "base_uri": "https://localhost:8080/",
          "height": 300
        },
        "id": "WME0vnE2N2ul",
        "outputId": "a68135b4-69fc-4cdd-8b1d-0ce1773d7297"
      },
      "execution_count": 9,
      "outputs": [
        {
          "output_type": "execute_result",
          "data": {
            "text/plain": [
              "            Rating       Reviews         Size      Installs        Price\n",
              "count  7352.000000  7.352000e+03  7352.000000  7.352000e+03  7352.000000\n",
              "mean      4.177775  3.034096e+05    22.769578  8.662313e+06     1.171476\n",
              "std       0.544145  1.907619e+06    23.379472  5.132294e+07    17.835302\n",
              "min       1.000000  1.000000e+00     0.008301  1.000000e+00     0.000000\n",
              "25%       4.000000  1.017500e+02     5.100000  1.000000e+04     0.000000\n",
              "50%       4.300000  2.212500e+03    14.000000  1.000000e+05     0.000000\n",
              "75%       4.500000  3.860625e+04    33.000000  1.000000e+06     0.000000\n",
              "max       5.000000  4.489389e+07   100.000000  1.000000e+09   400.000000"
            ],
            "text/html": [
              "\n",
              "  <div id=\"df-4e02aced-294e-4eae-b170-eaa6133e5330\" class=\"colab-df-container\">\n",
              "    <div>\n",
              "<style scoped>\n",
              "    .dataframe tbody tr th:only-of-type {\n",
              "        vertical-align: middle;\n",
              "    }\n",
              "\n",
              "    .dataframe tbody tr th {\n",
              "        vertical-align: top;\n",
              "    }\n",
              "\n",
              "    .dataframe thead th {\n",
              "        text-align: right;\n",
              "    }\n",
              "</style>\n",
              "<table border=\"1\" class=\"dataframe\">\n",
              "  <thead>\n",
              "    <tr style=\"text-align: right;\">\n",
              "      <th></th>\n",
              "      <th>Rating</th>\n",
              "      <th>Reviews</th>\n",
              "      <th>Size</th>\n",
              "      <th>Installs</th>\n",
              "      <th>Price</th>\n",
              "    </tr>\n",
              "  </thead>\n",
              "  <tbody>\n",
              "    <tr>\n",
              "      <th>count</th>\n",
              "      <td>7352.000000</td>\n",
              "      <td>7.352000e+03</td>\n",
              "      <td>7352.000000</td>\n",
              "      <td>7.352000e+03</td>\n",
              "      <td>7352.000000</td>\n",
              "    </tr>\n",
              "    <tr>\n",
              "      <th>mean</th>\n",
              "      <td>4.177775</td>\n",
              "      <td>3.034096e+05</td>\n",
              "      <td>22.769578</td>\n",
              "      <td>8.662313e+06</td>\n",
              "      <td>1.171476</td>\n",
              "    </tr>\n",
              "    <tr>\n",
              "      <th>std</th>\n",
              "      <td>0.544145</td>\n",
              "      <td>1.907619e+06</td>\n",
              "      <td>23.379472</td>\n",
              "      <td>5.132294e+07</td>\n",
              "      <td>17.835302</td>\n",
              "    </tr>\n",
              "    <tr>\n",
              "      <th>min</th>\n",
              "      <td>1.000000</td>\n",
              "      <td>1.000000e+00</td>\n",
              "      <td>0.008301</td>\n",
              "      <td>1.000000e+00</td>\n",
              "      <td>0.000000</td>\n",
              "    </tr>\n",
              "    <tr>\n",
              "      <th>25%</th>\n",
              "      <td>4.000000</td>\n",
              "      <td>1.017500e+02</td>\n",
              "      <td>5.100000</td>\n",
              "      <td>1.000000e+04</td>\n",
              "      <td>0.000000</td>\n",
              "    </tr>\n",
              "    <tr>\n",
              "      <th>50%</th>\n",
              "      <td>4.300000</td>\n",
              "      <td>2.212500e+03</td>\n",
              "      <td>14.000000</td>\n",
              "      <td>1.000000e+05</td>\n",
              "      <td>0.000000</td>\n",
              "    </tr>\n",
              "    <tr>\n",
              "      <th>75%</th>\n",
              "      <td>4.500000</td>\n",
              "      <td>3.860625e+04</td>\n",
              "      <td>33.000000</td>\n",
              "      <td>1.000000e+06</td>\n",
              "      <td>0.000000</td>\n",
              "    </tr>\n",
              "    <tr>\n",
              "      <th>max</th>\n",
              "      <td>5.000000</td>\n",
              "      <td>4.489389e+07</td>\n",
              "      <td>100.000000</td>\n",
              "      <td>1.000000e+09</td>\n",
              "      <td>400.000000</td>\n",
              "    </tr>\n",
              "  </tbody>\n",
              "</table>\n",
              "</div>\n",
              "    <div class=\"colab-df-buttons\">\n",
              "\n",
              "  <div class=\"colab-df-container\">\n",
              "    <button class=\"colab-df-convert\" onclick=\"convertToInteractive('df-4e02aced-294e-4eae-b170-eaa6133e5330')\"\n",
              "            title=\"Convert this dataframe to an interactive table.\"\n",
              "            style=\"display:none;\">\n",
              "\n",
              "  <svg xmlns=\"http://www.w3.org/2000/svg\" height=\"24px\" viewBox=\"0 -960 960 960\">\n",
              "    <path d=\"M120-120v-720h720v720H120Zm60-500h600v-160H180v160Zm220 220h160v-160H400v160Zm0 220h160v-160H400v160ZM180-400h160v-160H180v160Zm440 0h160v-160H620v160ZM180-180h160v-160H180v160Zm440 0h160v-160H620v160Z\"/>\n",
              "  </svg>\n",
              "    </button>\n",
              "\n",
              "  <style>\n",
              "    .colab-df-container {\n",
              "      display:flex;\n",
              "      gap: 12px;\n",
              "    }\n",
              "\n",
              "    .colab-df-convert {\n",
              "      background-color: #E8F0FE;\n",
              "      border: none;\n",
              "      border-radius: 50%;\n",
              "      cursor: pointer;\n",
              "      display: none;\n",
              "      fill: #1967D2;\n",
              "      height: 32px;\n",
              "      padding: 0 0 0 0;\n",
              "      width: 32px;\n",
              "    }\n",
              "\n",
              "    .colab-df-convert:hover {\n",
              "      background-color: #E2EBFA;\n",
              "      box-shadow: 0px 1px 2px rgba(60, 64, 67, 0.3), 0px 1px 3px 1px rgba(60, 64, 67, 0.15);\n",
              "      fill: #174EA6;\n",
              "    }\n",
              "\n",
              "    .colab-df-buttons div {\n",
              "      margin-bottom: 4px;\n",
              "    }\n",
              "\n",
              "    [theme=dark] .colab-df-convert {\n",
              "      background-color: #3B4455;\n",
              "      fill: #D2E3FC;\n",
              "    }\n",
              "\n",
              "    [theme=dark] .colab-df-convert:hover {\n",
              "      background-color: #434B5C;\n",
              "      box-shadow: 0px 1px 3px 1px rgba(0, 0, 0, 0.15);\n",
              "      filter: drop-shadow(0px 1px 2px rgba(0, 0, 0, 0.3));\n",
              "      fill: #FFFFFF;\n",
              "    }\n",
              "  </style>\n",
              "\n",
              "    <script>\n",
              "      const buttonEl =\n",
              "        document.querySelector('#df-4e02aced-294e-4eae-b170-eaa6133e5330 button.colab-df-convert');\n",
              "      buttonEl.style.display =\n",
              "        google.colab.kernel.accessAllowed ? 'block' : 'none';\n",
              "\n",
              "      async function convertToInteractive(key) {\n",
              "        const element = document.querySelector('#df-4e02aced-294e-4eae-b170-eaa6133e5330');\n",
              "        const dataTable =\n",
              "          await google.colab.kernel.invokeFunction('convertToInteractive',\n",
              "                                                    [key], {});\n",
              "        if (!dataTable) return;\n",
              "\n",
              "        const docLinkHtml = 'Like what you see? Visit the ' +\n",
              "          '<a target=\"_blank\" href=https://colab.research.google.com/notebooks/data_table.ipynb>data table notebook</a>'\n",
              "          + ' to learn more about interactive tables.';\n",
              "        element.innerHTML = '';\n",
              "        dataTable['output_type'] = 'display_data';\n",
              "        await google.colab.output.renderOutput(dataTable, element);\n",
              "        const docLink = document.createElement('div');\n",
              "        docLink.innerHTML = docLinkHtml;\n",
              "        element.appendChild(docLink);\n",
              "      }\n",
              "    </script>\n",
              "  </div>\n",
              "\n",
              "\n",
              "<div id=\"df-f8974a9c-df82-41ce-8f3d-60816ab7955a\">\n",
              "  <button class=\"colab-df-quickchart\" onclick=\"quickchart('df-f8974a9c-df82-41ce-8f3d-60816ab7955a')\"\n",
              "            title=\"Suggest charts\"\n",
              "            style=\"display:none;\">\n",
              "\n",
              "<svg xmlns=\"http://www.w3.org/2000/svg\" height=\"24px\"viewBox=\"0 0 24 24\"\n",
              "     width=\"24px\">\n",
              "    <g>\n",
              "        <path d=\"M19 3H5c-1.1 0-2 .9-2 2v14c0 1.1.9 2 2 2h14c1.1 0 2-.9 2-2V5c0-1.1-.9-2-2-2zM9 17H7v-7h2v7zm4 0h-2V7h2v10zm4 0h-2v-4h2v4z\"/>\n",
              "    </g>\n",
              "</svg>\n",
              "  </button>\n",
              "\n",
              "<style>\n",
              "  .colab-df-quickchart {\n",
              "      --bg-color: #E8F0FE;\n",
              "      --fill-color: #1967D2;\n",
              "      --hover-bg-color: #E2EBFA;\n",
              "      --hover-fill-color: #174EA6;\n",
              "      --disabled-fill-color: #AAA;\n",
              "      --disabled-bg-color: #DDD;\n",
              "  }\n",
              "\n",
              "  [theme=dark] .colab-df-quickchart {\n",
              "      --bg-color: #3B4455;\n",
              "      --fill-color: #D2E3FC;\n",
              "      --hover-bg-color: #434B5C;\n",
              "      --hover-fill-color: #FFFFFF;\n",
              "      --disabled-bg-color: #3B4455;\n",
              "      --disabled-fill-color: #666;\n",
              "  }\n",
              "\n",
              "  .colab-df-quickchart {\n",
              "    background-color: var(--bg-color);\n",
              "    border: none;\n",
              "    border-radius: 50%;\n",
              "    cursor: pointer;\n",
              "    display: none;\n",
              "    fill: var(--fill-color);\n",
              "    height: 32px;\n",
              "    padding: 0;\n",
              "    width: 32px;\n",
              "  }\n",
              "\n",
              "  .colab-df-quickchart:hover {\n",
              "    background-color: var(--hover-bg-color);\n",
              "    box-shadow: 0 1px 2px rgba(60, 64, 67, 0.3), 0 1px 3px 1px rgba(60, 64, 67, 0.15);\n",
              "    fill: var(--button-hover-fill-color);\n",
              "  }\n",
              "\n",
              "  .colab-df-quickchart-complete:disabled,\n",
              "  .colab-df-quickchart-complete:disabled:hover {\n",
              "    background-color: var(--disabled-bg-color);\n",
              "    fill: var(--disabled-fill-color);\n",
              "    box-shadow: none;\n",
              "  }\n",
              "\n",
              "  .colab-df-spinner {\n",
              "    border: 2px solid var(--fill-color);\n",
              "    border-color: transparent;\n",
              "    border-bottom-color: var(--fill-color);\n",
              "    animation:\n",
              "      spin 1s steps(1) infinite;\n",
              "  }\n",
              "\n",
              "  @keyframes spin {\n",
              "    0% {\n",
              "      border-color: transparent;\n",
              "      border-bottom-color: var(--fill-color);\n",
              "      border-left-color: var(--fill-color);\n",
              "    }\n",
              "    20% {\n",
              "      border-color: transparent;\n",
              "      border-left-color: var(--fill-color);\n",
              "      border-top-color: var(--fill-color);\n",
              "    }\n",
              "    30% {\n",
              "      border-color: transparent;\n",
              "      border-left-color: var(--fill-color);\n",
              "      border-top-color: var(--fill-color);\n",
              "      border-right-color: var(--fill-color);\n",
              "    }\n",
              "    40% {\n",
              "      border-color: transparent;\n",
              "      border-right-color: var(--fill-color);\n",
              "      border-top-color: var(--fill-color);\n",
              "    }\n",
              "    60% {\n",
              "      border-color: transparent;\n",
              "      border-right-color: var(--fill-color);\n",
              "    }\n",
              "    80% {\n",
              "      border-color: transparent;\n",
              "      border-right-color: var(--fill-color);\n",
              "      border-bottom-color: var(--fill-color);\n",
              "    }\n",
              "    90% {\n",
              "      border-color: transparent;\n",
              "      border-bottom-color: var(--fill-color);\n",
              "    }\n",
              "  }\n",
              "</style>\n",
              "\n",
              "  <script>\n",
              "    async function quickchart(key) {\n",
              "      const quickchartButtonEl =\n",
              "        document.querySelector('#' + key + ' button');\n",
              "      quickchartButtonEl.disabled = true;  // To prevent multiple clicks.\n",
              "      quickchartButtonEl.classList.add('colab-df-spinner');\n",
              "      try {\n",
              "        const charts = await google.colab.kernel.invokeFunction(\n",
              "            'suggestCharts', [key], {});\n",
              "      } catch (error) {\n",
              "        console.error('Error during call to suggestCharts:', error);\n",
              "      }\n",
              "      quickchartButtonEl.classList.remove('colab-df-spinner');\n",
              "      quickchartButtonEl.classList.add('colab-df-quickchart-complete');\n",
              "    }\n",
              "    (() => {\n",
              "      let quickchartButtonEl =\n",
              "        document.querySelector('#df-f8974a9c-df82-41ce-8f3d-60816ab7955a button');\n",
              "      quickchartButtonEl.style.display =\n",
              "        google.colab.kernel.accessAllowed ? 'block' : 'none';\n",
              "    })();\n",
              "  </script>\n",
              "</div>\n",
              "    </div>\n",
              "  </div>\n"
            ]
          },
          "metadata": {},
          "execution_count": 9
        }
      ]
    },
    {
      "cell_type": "markdown",
      "source": [
        "БОЛЬШОЕ ЗАДАНИЕ для самостоятельной работы."
      ],
      "metadata": {
        "id": "83Cs6MwNOy9a"
      }
    },
    {
      "cell_type": "markdown",
      "source": [
        "Как называется приложение, расположенное первым в наборе данных?\n",
        "Выведи на экран первые несколько строк датасета и определи, как называется приложение (App), данные о котором расположены в первой строке."
      ],
      "metadata": {
        "id": "GWAfDT4lPyeB"
      }
    },
    {
      "cell_type": "code",
      "source": [
        "df.head()"
      ],
      "metadata": {
        "id": "BXv2Sk78QCN-",
        "colab": {
          "base_uri": "https://localhost:8080/",
          "height": 345
        },
        "outputId": "2e6458eb-e0c2-46ef-f177-02bdf4436c81"
      },
      "execution_count": 10,
      "outputs": [
        {
          "output_type": "execute_result",
          "data": {
            "text/plain": [
              "                                                 App        Category  Rating  \\\n",
              "0     Photo Editor & Candy Camera & Grid & ScrapBook  ART_AND_DESIGN     4.1   \n",
              "1                                Coloring book moana  ART_AND_DESIGN     3.9   \n",
              "2  U Launcher Lite – FREE Live Cool Themes, Hide ...  ART_AND_DESIGN     4.7   \n",
              "3                              Sketch - Draw & Paint  ART_AND_DESIGN     4.5   \n",
              "4              Pixel Draw - Number Art Coloring Book  ART_AND_DESIGN     4.3   \n",
              "\n",
              "   Reviews  Size    Installs  Type  Price Content Rating      Last Updated  \\\n",
              "0      159  19.0     10000.0  Free    0.0       Everyone   January 7, 2018   \n",
              "1      967  14.0    500000.0  Free    0.0       Everyone  January 15, 2018   \n",
              "2    87510   8.7   5000000.0  Free    0.0       Everyone    August 1, 2018   \n",
              "3   215644  25.0  50000000.0  Free    0.0           Teen      June 8, 2018   \n",
              "4      967   2.8    100000.0  Free    0.0       Everyone     June 20, 2018   \n",
              "\n",
              "          Current Ver   Android Ver  \n",
              "0               1.0.0  4.0.3 and up  \n",
              "1               2.0.0  4.0.3 and up  \n",
              "2               1.2.4  4.0.3 and up  \n",
              "3  Varies with device    4.2 and up  \n",
              "4                 1.1    4.4 and up  "
            ],
            "text/html": [
              "\n",
              "  <div id=\"df-0569e56a-633f-4c1c-9394-0a7a53578fb9\" class=\"colab-df-container\">\n",
              "    <div>\n",
              "<style scoped>\n",
              "    .dataframe tbody tr th:only-of-type {\n",
              "        vertical-align: middle;\n",
              "    }\n",
              "\n",
              "    .dataframe tbody tr th {\n",
              "        vertical-align: top;\n",
              "    }\n",
              "\n",
              "    .dataframe thead th {\n",
              "        text-align: right;\n",
              "    }\n",
              "</style>\n",
              "<table border=\"1\" class=\"dataframe\">\n",
              "  <thead>\n",
              "    <tr style=\"text-align: right;\">\n",
              "      <th></th>\n",
              "      <th>App</th>\n",
              "      <th>Category</th>\n",
              "      <th>Rating</th>\n",
              "      <th>Reviews</th>\n",
              "      <th>Size</th>\n",
              "      <th>Installs</th>\n",
              "      <th>Type</th>\n",
              "      <th>Price</th>\n",
              "      <th>Content Rating</th>\n",
              "      <th>Last Updated</th>\n",
              "      <th>Current Ver</th>\n",
              "      <th>Android Ver</th>\n",
              "    </tr>\n",
              "  </thead>\n",
              "  <tbody>\n",
              "    <tr>\n",
              "      <th>0</th>\n",
              "      <td>Photo Editor &amp; Candy Camera &amp; Grid &amp; ScrapBook</td>\n",
              "      <td>ART_AND_DESIGN</td>\n",
              "      <td>4.1</td>\n",
              "      <td>159</td>\n",
              "      <td>19.0</td>\n",
              "      <td>10000.0</td>\n",
              "      <td>Free</td>\n",
              "      <td>0.0</td>\n",
              "      <td>Everyone</td>\n",
              "      <td>January 7, 2018</td>\n",
              "      <td>1.0.0</td>\n",
              "      <td>4.0.3 and up</td>\n",
              "    </tr>\n",
              "    <tr>\n",
              "      <th>1</th>\n",
              "      <td>Coloring book moana</td>\n",
              "      <td>ART_AND_DESIGN</td>\n",
              "      <td>3.9</td>\n",
              "      <td>967</td>\n",
              "      <td>14.0</td>\n",
              "      <td>500000.0</td>\n",
              "      <td>Free</td>\n",
              "      <td>0.0</td>\n",
              "      <td>Everyone</td>\n",
              "      <td>January 15, 2018</td>\n",
              "      <td>2.0.0</td>\n",
              "      <td>4.0.3 and up</td>\n",
              "    </tr>\n",
              "    <tr>\n",
              "      <th>2</th>\n",
              "      <td>U Launcher Lite – FREE Live Cool Themes, Hide ...</td>\n",
              "      <td>ART_AND_DESIGN</td>\n",
              "      <td>4.7</td>\n",
              "      <td>87510</td>\n",
              "      <td>8.7</td>\n",
              "      <td>5000000.0</td>\n",
              "      <td>Free</td>\n",
              "      <td>0.0</td>\n",
              "      <td>Everyone</td>\n",
              "      <td>August 1, 2018</td>\n",
              "      <td>1.2.4</td>\n",
              "      <td>4.0.3 and up</td>\n",
              "    </tr>\n",
              "    <tr>\n",
              "      <th>3</th>\n",
              "      <td>Sketch - Draw &amp; Paint</td>\n",
              "      <td>ART_AND_DESIGN</td>\n",
              "      <td>4.5</td>\n",
              "      <td>215644</td>\n",
              "      <td>25.0</td>\n",
              "      <td>50000000.0</td>\n",
              "      <td>Free</td>\n",
              "      <td>0.0</td>\n",
              "      <td>Teen</td>\n",
              "      <td>June 8, 2018</td>\n",
              "      <td>Varies with device</td>\n",
              "      <td>4.2 and up</td>\n",
              "    </tr>\n",
              "    <tr>\n",
              "      <th>4</th>\n",
              "      <td>Pixel Draw - Number Art Coloring Book</td>\n",
              "      <td>ART_AND_DESIGN</td>\n",
              "      <td>4.3</td>\n",
              "      <td>967</td>\n",
              "      <td>2.8</td>\n",
              "      <td>100000.0</td>\n",
              "      <td>Free</td>\n",
              "      <td>0.0</td>\n",
              "      <td>Everyone</td>\n",
              "      <td>June 20, 2018</td>\n",
              "      <td>1.1</td>\n",
              "      <td>4.4 and up</td>\n",
              "    </tr>\n",
              "  </tbody>\n",
              "</table>\n",
              "</div>\n",
              "    <div class=\"colab-df-buttons\">\n",
              "\n",
              "  <div class=\"colab-df-container\">\n",
              "    <button class=\"colab-df-convert\" onclick=\"convertToInteractive('df-0569e56a-633f-4c1c-9394-0a7a53578fb9')\"\n",
              "            title=\"Convert this dataframe to an interactive table.\"\n",
              "            style=\"display:none;\">\n",
              "\n",
              "  <svg xmlns=\"http://www.w3.org/2000/svg\" height=\"24px\" viewBox=\"0 -960 960 960\">\n",
              "    <path d=\"M120-120v-720h720v720H120Zm60-500h600v-160H180v160Zm220 220h160v-160H400v160Zm0 220h160v-160H400v160ZM180-400h160v-160H180v160Zm440 0h160v-160H620v160ZM180-180h160v-160H180v160Zm440 0h160v-160H620v160Z\"/>\n",
              "  </svg>\n",
              "    </button>\n",
              "\n",
              "  <style>\n",
              "    .colab-df-container {\n",
              "      display:flex;\n",
              "      gap: 12px;\n",
              "    }\n",
              "\n",
              "    .colab-df-convert {\n",
              "      background-color: #E8F0FE;\n",
              "      border: none;\n",
              "      border-radius: 50%;\n",
              "      cursor: pointer;\n",
              "      display: none;\n",
              "      fill: #1967D2;\n",
              "      height: 32px;\n",
              "      padding: 0 0 0 0;\n",
              "      width: 32px;\n",
              "    }\n",
              "\n",
              "    .colab-df-convert:hover {\n",
              "      background-color: #E2EBFA;\n",
              "      box-shadow: 0px 1px 2px rgba(60, 64, 67, 0.3), 0px 1px 3px 1px rgba(60, 64, 67, 0.15);\n",
              "      fill: #174EA6;\n",
              "    }\n",
              "\n",
              "    .colab-df-buttons div {\n",
              "      margin-bottom: 4px;\n",
              "    }\n",
              "\n",
              "    [theme=dark] .colab-df-convert {\n",
              "      background-color: #3B4455;\n",
              "      fill: #D2E3FC;\n",
              "    }\n",
              "\n",
              "    [theme=dark] .colab-df-convert:hover {\n",
              "      background-color: #434B5C;\n",
              "      box-shadow: 0px 1px 3px 1px rgba(0, 0, 0, 0.15);\n",
              "      filter: drop-shadow(0px 1px 2px rgba(0, 0, 0, 0.3));\n",
              "      fill: #FFFFFF;\n",
              "    }\n",
              "  </style>\n",
              "\n",
              "    <script>\n",
              "      const buttonEl =\n",
              "        document.querySelector('#df-0569e56a-633f-4c1c-9394-0a7a53578fb9 button.colab-df-convert');\n",
              "      buttonEl.style.display =\n",
              "        google.colab.kernel.accessAllowed ? 'block' : 'none';\n",
              "\n",
              "      async function convertToInteractive(key) {\n",
              "        const element = document.querySelector('#df-0569e56a-633f-4c1c-9394-0a7a53578fb9');\n",
              "        const dataTable =\n",
              "          await google.colab.kernel.invokeFunction('convertToInteractive',\n",
              "                                                    [key], {});\n",
              "        if (!dataTable) return;\n",
              "\n",
              "        const docLinkHtml = 'Like what you see? Visit the ' +\n",
              "          '<a target=\"_blank\" href=https://colab.research.google.com/notebooks/data_table.ipynb>data table notebook</a>'\n",
              "          + ' to learn more about interactive tables.';\n",
              "        element.innerHTML = '';\n",
              "        dataTable['output_type'] = 'display_data';\n",
              "        await google.colab.output.renderOutput(dataTable, element);\n",
              "        const docLink = document.createElement('div');\n",
              "        docLink.innerHTML = docLinkHtml;\n",
              "        element.appendChild(docLink);\n",
              "      }\n",
              "    </script>\n",
              "  </div>\n",
              "\n",
              "\n",
              "<div id=\"df-96092c75-f725-4810-83e0-df855be24990\">\n",
              "  <button class=\"colab-df-quickchart\" onclick=\"quickchart('df-96092c75-f725-4810-83e0-df855be24990')\"\n",
              "            title=\"Suggest charts\"\n",
              "            style=\"display:none;\">\n",
              "\n",
              "<svg xmlns=\"http://www.w3.org/2000/svg\" height=\"24px\"viewBox=\"0 0 24 24\"\n",
              "     width=\"24px\">\n",
              "    <g>\n",
              "        <path d=\"M19 3H5c-1.1 0-2 .9-2 2v14c0 1.1.9 2 2 2h14c1.1 0 2-.9 2-2V5c0-1.1-.9-2-2-2zM9 17H7v-7h2v7zm4 0h-2V7h2v10zm4 0h-2v-4h2v4z\"/>\n",
              "    </g>\n",
              "</svg>\n",
              "  </button>\n",
              "\n",
              "<style>\n",
              "  .colab-df-quickchart {\n",
              "      --bg-color: #E8F0FE;\n",
              "      --fill-color: #1967D2;\n",
              "      --hover-bg-color: #E2EBFA;\n",
              "      --hover-fill-color: #174EA6;\n",
              "      --disabled-fill-color: #AAA;\n",
              "      --disabled-bg-color: #DDD;\n",
              "  }\n",
              "\n",
              "  [theme=dark] .colab-df-quickchart {\n",
              "      --bg-color: #3B4455;\n",
              "      --fill-color: #D2E3FC;\n",
              "      --hover-bg-color: #434B5C;\n",
              "      --hover-fill-color: #FFFFFF;\n",
              "      --disabled-bg-color: #3B4455;\n",
              "      --disabled-fill-color: #666;\n",
              "  }\n",
              "\n",
              "  .colab-df-quickchart {\n",
              "    background-color: var(--bg-color);\n",
              "    border: none;\n",
              "    border-radius: 50%;\n",
              "    cursor: pointer;\n",
              "    display: none;\n",
              "    fill: var(--fill-color);\n",
              "    height: 32px;\n",
              "    padding: 0;\n",
              "    width: 32px;\n",
              "  }\n",
              "\n",
              "  .colab-df-quickchart:hover {\n",
              "    background-color: var(--hover-bg-color);\n",
              "    box-shadow: 0 1px 2px rgba(60, 64, 67, 0.3), 0 1px 3px 1px rgba(60, 64, 67, 0.15);\n",
              "    fill: var(--button-hover-fill-color);\n",
              "  }\n",
              "\n",
              "  .colab-df-quickchart-complete:disabled,\n",
              "  .colab-df-quickchart-complete:disabled:hover {\n",
              "    background-color: var(--disabled-bg-color);\n",
              "    fill: var(--disabled-fill-color);\n",
              "    box-shadow: none;\n",
              "  }\n",
              "\n",
              "  .colab-df-spinner {\n",
              "    border: 2px solid var(--fill-color);\n",
              "    border-color: transparent;\n",
              "    border-bottom-color: var(--fill-color);\n",
              "    animation:\n",
              "      spin 1s steps(1) infinite;\n",
              "  }\n",
              "\n",
              "  @keyframes spin {\n",
              "    0% {\n",
              "      border-color: transparent;\n",
              "      border-bottom-color: var(--fill-color);\n",
              "      border-left-color: var(--fill-color);\n",
              "    }\n",
              "    20% {\n",
              "      border-color: transparent;\n",
              "      border-left-color: var(--fill-color);\n",
              "      border-top-color: var(--fill-color);\n",
              "    }\n",
              "    30% {\n",
              "      border-color: transparent;\n",
              "      border-left-color: var(--fill-color);\n",
              "      border-top-color: var(--fill-color);\n",
              "      border-right-color: var(--fill-color);\n",
              "    }\n",
              "    40% {\n",
              "      border-color: transparent;\n",
              "      border-right-color: var(--fill-color);\n",
              "      border-top-color: var(--fill-color);\n",
              "    }\n",
              "    60% {\n",
              "      border-color: transparent;\n",
              "      border-right-color: var(--fill-color);\n",
              "    }\n",
              "    80% {\n",
              "      border-color: transparent;\n",
              "      border-right-color: var(--fill-color);\n",
              "      border-bottom-color: var(--fill-color);\n",
              "    }\n",
              "    90% {\n",
              "      border-color: transparent;\n",
              "      border-bottom-color: var(--fill-color);\n",
              "    }\n",
              "  }\n",
              "</style>\n",
              "\n",
              "  <script>\n",
              "    async function quickchart(key) {\n",
              "      const quickchartButtonEl =\n",
              "        document.querySelector('#' + key + ' button');\n",
              "      quickchartButtonEl.disabled = true;  // To prevent multiple clicks.\n",
              "      quickchartButtonEl.classList.add('colab-df-spinner');\n",
              "      try {\n",
              "        const charts = await google.colab.kernel.invokeFunction(\n",
              "            'suggestCharts', [key], {});\n",
              "      } catch (error) {\n",
              "        console.error('Error during call to suggestCharts:', error);\n",
              "      }\n",
              "      quickchartButtonEl.classList.remove('colab-df-spinner');\n",
              "      quickchartButtonEl.classList.add('colab-df-quickchart-complete');\n",
              "    }\n",
              "    (() => {\n",
              "      let quickchartButtonEl =\n",
              "        document.querySelector('#df-96092c75-f725-4810-83e0-df855be24990 button');\n",
              "      quickchartButtonEl.style.display =\n",
              "        google.colab.kernel.accessAllowed ? 'block' : 'none';\n",
              "    })();\n",
              "  </script>\n",
              "</div>\n",
              "    </div>\n",
              "  </div>\n"
            ]
          },
          "metadata": {},
          "execution_count": 10
        }
      ]
    },
    {
      "cell_type": "markdown",
      "source": [
        "*ОТВЕТ*: Photo Editor & Candy Camera & Grid & ScrapBook"
      ],
      "metadata": {
        "id": "Tdhu8onVQD0v"
      }
    },
    {
      "cell_type": "markdown",
      "source": [
        "К какой категории относится приложение, расположенное последним в наборе данных?\n",
        "Выведи на экран последние несколько строк датасета и определи, к какой категории (Category) относится приложение, расположенное в последней строке."
      ],
      "metadata": {
        "id": "998HafR_QUQp"
      }
    },
    {
      "cell_type": "code",
      "source": [
        "df.tail()"
      ],
      "metadata": {
        "id": "hzjuy-pGQYSf",
        "colab": {
          "base_uri": "https://localhost:8080/",
          "height": 380
        },
        "outputId": "a5749ff3-c77b-4a9d-cd3e-ba1d8880088b"
      },
      "execution_count": 11,
      "outputs": [
        {
          "output_type": "execute_result",
          "data": {
            "text/plain": [
              "                                                App             Category  \\\n",
              "7347                                    Chemin (fr)  BOOKS_AND_REFERENCE   \n",
              "7348                                  FR Calculator               FAMILY   \n",
              "7349                               Sya9a Maroc - FR               FAMILY   \n",
              "7350               Fr. Mike Schmitz Audio Teachings               FAMILY   \n",
              "7351  iHoroscope - 2018 Daily Horoscope & Astrology            LIFESTYLE   \n",
              "\n",
              "      Rating  Reviews       Size    Installs  Type  Price Content Rating  \\\n",
              "7347     4.8       44   0.604492      1000.0  Free    0.0       Everyone   \n",
              "7348     4.0        7   2.600000       500.0  Free    0.0       Everyone   \n",
              "7349     4.5       38  53.000000      5000.0  Free    0.0       Everyone   \n",
              "7350     5.0        4   3.600000       100.0  Free    0.0       Everyone   \n",
              "7351     4.5   398307  19.000000  10000000.0  Free    0.0       Everyone   \n",
              "\n",
              "        Last Updated         Current Ver         Android Ver  \n",
              "7347  March 23, 2014                 0.8          2.2 and up  \n",
              "7348   June 18, 2017               1.0.0          4.1 and up  \n",
              "7349   July 25, 2017                1.48          4.1 and up  \n",
              "7350    July 6, 2018                 1.0          4.1 and up  \n",
              "7351   July 25, 2018  Varies with device  Varies with device  "
            ],
            "text/html": [
              "\n",
              "  <div id=\"df-dd2dbfbb-7862-47c0-92f3-7111eb3f8020\" class=\"colab-df-container\">\n",
              "    <div>\n",
              "<style scoped>\n",
              "    .dataframe tbody tr th:only-of-type {\n",
              "        vertical-align: middle;\n",
              "    }\n",
              "\n",
              "    .dataframe tbody tr th {\n",
              "        vertical-align: top;\n",
              "    }\n",
              "\n",
              "    .dataframe thead th {\n",
              "        text-align: right;\n",
              "    }\n",
              "</style>\n",
              "<table border=\"1\" class=\"dataframe\">\n",
              "  <thead>\n",
              "    <tr style=\"text-align: right;\">\n",
              "      <th></th>\n",
              "      <th>App</th>\n",
              "      <th>Category</th>\n",
              "      <th>Rating</th>\n",
              "      <th>Reviews</th>\n",
              "      <th>Size</th>\n",
              "      <th>Installs</th>\n",
              "      <th>Type</th>\n",
              "      <th>Price</th>\n",
              "      <th>Content Rating</th>\n",
              "      <th>Last Updated</th>\n",
              "      <th>Current Ver</th>\n",
              "      <th>Android Ver</th>\n",
              "    </tr>\n",
              "  </thead>\n",
              "  <tbody>\n",
              "    <tr>\n",
              "      <th>7347</th>\n",
              "      <td>Chemin (fr)</td>\n",
              "      <td>BOOKS_AND_REFERENCE</td>\n",
              "      <td>4.8</td>\n",
              "      <td>44</td>\n",
              "      <td>0.604492</td>\n",
              "      <td>1000.0</td>\n",
              "      <td>Free</td>\n",
              "      <td>0.0</td>\n",
              "      <td>Everyone</td>\n",
              "      <td>March 23, 2014</td>\n",
              "      <td>0.8</td>\n",
              "      <td>2.2 and up</td>\n",
              "    </tr>\n",
              "    <tr>\n",
              "      <th>7348</th>\n",
              "      <td>FR Calculator</td>\n",
              "      <td>FAMILY</td>\n",
              "      <td>4.0</td>\n",
              "      <td>7</td>\n",
              "      <td>2.600000</td>\n",
              "      <td>500.0</td>\n",
              "      <td>Free</td>\n",
              "      <td>0.0</td>\n",
              "      <td>Everyone</td>\n",
              "      <td>June 18, 2017</td>\n",
              "      <td>1.0.0</td>\n",
              "      <td>4.1 and up</td>\n",
              "    </tr>\n",
              "    <tr>\n",
              "      <th>7349</th>\n",
              "      <td>Sya9a Maroc - FR</td>\n",
              "      <td>FAMILY</td>\n",
              "      <td>4.5</td>\n",
              "      <td>38</td>\n",
              "      <td>53.000000</td>\n",
              "      <td>5000.0</td>\n",
              "      <td>Free</td>\n",
              "      <td>0.0</td>\n",
              "      <td>Everyone</td>\n",
              "      <td>July 25, 2017</td>\n",
              "      <td>1.48</td>\n",
              "      <td>4.1 and up</td>\n",
              "    </tr>\n",
              "    <tr>\n",
              "      <th>7350</th>\n",
              "      <td>Fr. Mike Schmitz Audio Teachings</td>\n",
              "      <td>FAMILY</td>\n",
              "      <td>5.0</td>\n",
              "      <td>4</td>\n",
              "      <td>3.600000</td>\n",
              "      <td>100.0</td>\n",
              "      <td>Free</td>\n",
              "      <td>0.0</td>\n",
              "      <td>Everyone</td>\n",
              "      <td>July 6, 2018</td>\n",
              "      <td>1.0</td>\n",
              "      <td>4.1 and up</td>\n",
              "    </tr>\n",
              "    <tr>\n",
              "      <th>7351</th>\n",
              "      <td>iHoroscope - 2018 Daily Horoscope &amp; Astrology</td>\n",
              "      <td>LIFESTYLE</td>\n",
              "      <td>4.5</td>\n",
              "      <td>398307</td>\n",
              "      <td>19.000000</td>\n",
              "      <td>10000000.0</td>\n",
              "      <td>Free</td>\n",
              "      <td>0.0</td>\n",
              "      <td>Everyone</td>\n",
              "      <td>July 25, 2018</td>\n",
              "      <td>Varies with device</td>\n",
              "      <td>Varies with device</td>\n",
              "    </tr>\n",
              "  </tbody>\n",
              "</table>\n",
              "</div>\n",
              "    <div class=\"colab-df-buttons\">\n",
              "\n",
              "  <div class=\"colab-df-container\">\n",
              "    <button class=\"colab-df-convert\" onclick=\"convertToInteractive('df-dd2dbfbb-7862-47c0-92f3-7111eb3f8020')\"\n",
              "            title=\"Convert this dataframe to an interactive table.\"\n",
              "            style=\"display:none;\">\n",
              "\n",
              "  <svg xmlns=\"http://www.w3.org/2000/svg\" height=\"24px\" viewBox=\"0 -960 960 960\">\n",
              "    <path d=\"M120-120v-720h720v720H120Zm60-500h600v-160H180v160Zm220 220h160v-160H400v160Zm0 220h160v-160H400v160ZM180-400h160v-160H180v160Zm440 0h160v-160H620v160ZM180-180h160v-160H180v160Zm440 0h160v-160H620v160Z\"/>\n",
              "  </svg>\n",
              "    </button>\n",
              "\n",
              "  <style>\n",
              "    .colab-df-container {\n",
              "      display:flex;\n",
              "      gap: 12px;\n",
              "    }\n",
              "\n",
              "    .colab-df-convert {\n",
              "      background-color: #E8F0FE;\n",
              "      border: none;\n",
              "      border-radius: 50%;\n",
              "      cursor: pointer;\n",
              "      display: none;\n",
              "      fill: #1967D2;\n",
              "      height: 32px;\n",
              "      padding: 0 0 0 0;\n",
              "      width: 32px;\n",
              "    }\n",
              "\n",
              "    .colab-df-convert:hover {\n",
              "      background-color: #E2EBFA;\n",
              "      box-shadow: 0px 1px 2px rgba(60, 64, 67, 0.3), 0px 1px 3px 1px rgba(60, 64, 67, 0.15);\n",
              "      fill: #174EA6;\n",
              "    }\n",
              "\n",
              "    .colab-df-buttons div {\n",
              "      margin-bottom: 4px;\n",
              "    }\n",
              "\n",
              "    [theme=dark] .colab-df-convert {\n",
              "      background-color: #3B4455;\n",
              "      fill: #D2E3FC;\n",
              "    }\n",
              "\n",
              "    [theme=dark] .colab-df-convert:hover {\n",
              "      background-color: #434B5C;\n",
              "      box-shadow: 0px 1px 3px 1px rgba(0, 0, 0, 0.15);\n",
              "      filter: drop-shadow(0px 1px 2px rgba(0, 0, 0, 0.3));\n",
              "      fill: #FFFFFF;\n",
              "    }\n",
              "  </style>\n",
              "\n",
              "    <script>\n",
              "      const buttonEl =\n",
              "        document.querySelector('#df-dd2dbfbb-7862-47c0-92f3-7111eb3f8020 button.colab-df-convert');\n",
              "      buttonEl.style.display =\n",
              "        google.colab.kernel.accessAllowed ? 'block' : 'none';\n",
              "\n",
              "      async function convertToInteractive(key) {\n",
              "        const element = document.querySelector('#df-dd2dbfbb-7862-47c0-92f3-7111eb3f8020');\n",
              "        const dataTable =\n",
              "          await google.colab.kernel.invokeFunction('convertToInteractive',\n",
              "                                                    [key], {});\n",
              "        if (!dataTable) return;\n",
              "\n",
              "        const docLinkHtml = 'Like what you see? Visit the ' +\n",
              "          '<a target=\"_blank\" href=https://colab.research.google.com/notebooks/data_table.ipynb>data table notebook</a>'\n",
              "          + ' to learn more about interactive tables.';\n",
              "        element.innerHTML = '';\n",
              "        dataTable['output_type'] = 'display_data';\n",
              "        await google.colab.output.renderOutput(dataTable, element);\n",
              "        const docLink = document.createElement('div');\n",
              "        docLink.innerHTML = docLinkHtml;\n",
              "        element.appendChild(docLink);\n",
              "      }\n",
              "    </script>\n",
              "  </div>\n",
              "\n",
              "\n",
              "<div id=\"df-1216fdd2-b4b5-4ad3-8507-65c84f26f1d8\">\n",
              "  <button class=\"colab-df-quickchart\" onclick=\"quickchart('df-1216fdd2-b4b5-4ad3-8507-65c84f26f1d8')\"\n",
              "            title=\"Suggest charts\"\n",
              "            style=\"display:none;\">\n",
              "\n",
              "<svg xmlns=\"http://www.w3.org/2000/svg\" height=\"24px\"viewBox=\"0 0 24 24\"\n",
              "     width=\"24px\">\n",
              "    <g>\n",
              "        <path d=\"M19 3H5c-1.1 0-2 .9-2 2v14c0 1.1.9 2 2 2h14c1.1 0 2-.9 2-2V5c0-1.1-.9-2-2-2zM9 17H7v-7h2v7zm4 0h-2V7h2v10zm4 0h-2v-4h2v4z\"/>\n",
              "    </g>\n",
              "</svg>\n",
              "  </button>\n",
              "\n",
              "<style>\n",
              "  .colab-df-quickchart {\n",
              "      --bg-color: #E8F0FE;\n",
              "      --fill-color: #1967D2;\n",
              "      --hover-bg-color: #E2EBFA;\n",
              "      --hover-fill-color: #174EA6;\n",
              "      --disabled-fill-color: #AAA;\n",
              "      --disabled-bg-color: #DDD;\n",
              "  }\n",
              "\n",
              "  [theme=dark] .colab-df-quickchart {\n",
              "      --bg-color: #3B4455;\n",
              "      --fill-color: #D2E3FC;\n",
              "      --hover-bg-color: #434B5C;\n",
              "      --hover-fill-color: #FFFFFF;\n",
              "      --disabled-bg-color: #3B4455;\n",
              "      --disabled-fill-color: #666;\n",
              "  }\n",
              "\n",
              "  .colab-df-quickchart {\n",
              "    background-color: var(--bg-color);\n",
              "    border: none;\n",
              "    border-radius: 50%;\n",
              "    cursor: pointer;\n",
              "    display: none;\n",
              "    fill: var(--fill-color);\n",
              "    height: 32px;\n",
              "    padding: 0;\n",
              "    width: 32px;\n",
              "  }\n",
              "\n",
              "  .colab-df-quickchart:hover {\n",
              "    background-color: var(--hover-bg-color);\n",
              "    box-shadow: 0 1px 2px rgba(60, 64, 67, 0.3), 0 1px 3px 1px rgba(60, 64, 67, 0.15);\n",
              "    fill: var(--button-hover-fill-color);\n",
              "  }\n",
              "\n",
              "  .colab-df-quickchart-complete:disabled,\n",
              "  .colab-df-quickchart-complete:disabled:hover {\n",
              "    background-color: var(--disabled-bg-color);\n",
              "    fill: var(--disabled-fill-color);\n",
              "    box-shadow: none;\n",
              "  }\n",
              "\n",
              "  .colab-df-spinner {\n",
              "    border: 2px solid var(--fill-color);\n",
              "    border-color: transparent;\n",
              "    border-bottom-color: var(--fill-color);\n",
              "    animation:\n",
              "      spin 1s steps(1) infinite;\n",
              "  }\n",
              "\n",
              "  @keyframes spin {\n",
              "    0% {\n",
              "      border-color: transparent;\n",
              "      border-bottom-color: var(--fill-color);\n",
              "      border-left-color: var(--fill-color);\n",
              "    }\n",
              "    20% {\n",
              "      border-color: transparent;\n",
              "      border-left-color: var(--fill-color);\n",
              "      border-top-color: var(--fill-color);\n",
              "    }\n",
              "    30% {\n",
              "      border-color: transparent;\n",
              "      border-left-color: var(--fill-color);\n",
              "      border-top-color: var(--fill-color);\n",
              "      border-right-color: var(--fill-color);\n",
              "    }\n",
              "    40% {\n",
              "      border-color: transparent;\n",
              "      border-right-color: var(--fill-color);\n",
              "      border-top-color: var(--fill-color);\n",
              "    }\n",
              "    60% {\n",
              "      border-color: transparent;\n",
              "      border-right-color: var(--fill-color);\n",
              "    }\n",
              "    80% {\n",
              "      border-color: transparent;\n",
              "      border-right-color: var(--fill-color);\n",
              "      border-bottom-color: var(--fill-color);\n",
              "    }\n",
              "    90% {\n",
              "      border-color: transparent;\n",
              "      border-bottom-color: var(--fill-color);\n",
              "    }\n",
              "  }\n",
              "</style>\n",
              "\n",
              "  <script>\n",
              "    async function quickchart(key) {\n",
              "      const quickchartButtonEl =\n",
              "        document.querySelector('#' + key + ' button');\n",
              "      quickchartButtonEl.disabled = true;  // To prevent multiple clicks.\n",
              "      quickchartButtonEl.classList.add('colab-df-spinner');\n",
              "      try {\n",
              "        const charts = await google.colab.kernel.invokeFunction(\n",
              "            'suggestCharts', [key], {});\n",
              "      } catch (error) {\n",
              "        console.error('Error during call to suggestCharts:', error);\n",
              "      }\n",
              "      quickchartButtonEl.classList.remove('colab-df-spinner');\n",
              "      quickchartButtonEl.classList.add('colab-df-quickchart-complete');\n",
              "    }\n",
              "    (() => {\n",
              "      let quickchartButtonEl =\n",
              "        document.querySelector('#df-1216fdd2-b4b5-4ad3-8507-65c84f26f1d8 button');\n",
              "      quickchartButtonEl.style.display =\n",
              "        google.colab.kernel.accessAllowed ? 'block' : 'none';\n",
              "    })();\n",
              "  </script>\n",
              "</div>\n",
              "    </div>\n",
              "  </div>\n"
            ]
          },
          "metadata": {},
          "execution_count": 11
        }
      ]
    },
    {
      "cell_type": "markdown",
      "source": [
        "ОТВЕТ: LIFESTYLE"
      ],
      "metadata": {
        "id": "w8ib4ae8QZJh"
      }
    },
    {
      "cell_type": "markdown",
      "source": [
        "\n",
        "Проанализируй общую информацию о датасете\n",
        "Выведи на экран общую информацию о датасете и найди ответы на вопросы:\n",
        "1) Сколько столбцов содержится в наборе данных?\n",
        "2) Данные какого типа хранятся в каждом из столбцов?"
      ],
      "metadata": {
        "id": "VjeHWWbuQc_1"
      }
    },
    {
      "cell_type": "code",
      "source": [
        "df.info()"
      ],
      "metadata": {
        "id": "pS0kb2QAQmE0",
        "colab": {
          "base_uri": "https://localhost:8080/"
        },
        "outputId": "eaecd692-61e5-482b-fffc-9558485dde22"
      },
      "execution_count": 12,
      "outputs": [
        {
          "output_type": "stream",
          "name": "stdout",
          "text": [
            "<class 'pandas.core.frame.DataFrame'>\n",
            "RangeIndex: 7352 entries, 0 to 7351\n",
            "Data columns (total 12 columns):\n",
            " #   Column          Non-Null Count  Dtype  \n",
            "---  ------          --------------  -----  \n",
            " 0   App             7352 non-null   object \n",
            " 1   Category        7352 non-null   object \n",
            " 2   Rating          7352 non-null   float64\n",
            " 3   Reviews         7352 non-null   int64  \n",
            " 4   Size            7352 non-null   float64\n",
            " 5   Installs        7352 non-null   float64\n",
            " 6   Type            7352 non-null   object \n",
            " 7   Price           7352 non-null   float64\n",
            " 8   Content Rating  7352 non-null   object \n",
            " 9   Last Updated    7352 non-null   object \n",
            " 10  Current Ver     7352 non-null   object \n",
            " 11  Android Ver     7352 non-null   object \n",
            "dtypes: float64(4), int64(1), object(7)\n",
            "memory usage: 689.4+ KB\n"
          ]
        }
      ]
    },
    {
      "cell_type": "markdown",
      "source": [
        "ОТВЕТ: 1) 7352; 2) float64(4), int64(1), object(7)"
      ],
      "metadata": {
        "id": "RX7Ew7ujQog4"
      }
    },
    {
      "cell_type": "markdown",
      "source": [
        "Проанализируй статистические показатели о данных\n",
        "Выведи на экран результаты вычисления показателей описательной статистики и найди ответы на вопросы:\n",
        "1) Чему равно среднее арифметическое и медиана размера приложений (Size)?\n",
        "2) Сколько стоит самое дорогое приложение?\n",
        "3) *Чему равно среднее арифметическое и медиана количества установок приложений (Installs)?"
      ],
      "metadata": {
        "id": "CT8_XVEcQvdR"
      }
    },
    {
      "cell_type": "code",
      "source": [
        "print(df['Size'].mean(), df['Size'].median(), df['Price'].max(), df['Installs'].mean(), df['Installs'].median(), sep='\\n')"
      ],
      "metadata": {
        "id": "qxzY9NAXRJ6x",
        "colab": {
          "base_uri": "https://localhost:8080/"
        },
        "outputId": "3fa1e1c8-e930-47cb-fcd5-fe18d886080e"
      },
      "execution_count": 13,
      "outputs": [
        {
          "output_type": "stream",
          "name": "stdout",
          "text": [
            "22.769577806740514\n",
            "14.0\n",
            "400.0\n",
            "8662312.756800871\n",
            "100000.0\n"
          ]
        }
      ]
    },
    {
      "cell_type": "markdown",
      "source": [
        "ОТВЕТ: 1) 22.769577806740514, 14; 2) 400; 3) 8662312.756800871, 100000"
      ],
      "metadata": {
        "id": "IG5KqzddRL4w"
      }
    },
    {
      "cell_type": "markdown",
      "source": [
        "Фильтрация данных"
      ],
      "metadata": {
        "id": "6UgU0egkRgbg"
      }
    },
    {
      "cell_type": "markdown",
      "source": [
        "<имя_DataFrame>[<имя_столбца>].min() - возвращает минимальное значение признака"
      ],
      "metadata": {
        "id": "__RP63unSRva"
      }
    },
    {
      "cell_type": "code",
      "source": [
        "print(df['Installs'].min())"
      ],
      "metadata": {
        "colab": {
          "base_uri": "https://localhost:8080/"
        },
        "id": "C7Pg5xlhSihG",
        "outputId": "4d016759-61a1-44c7-aee9-c6aa994861c4"
      },
      "execution_count": 14,
      "outputs": [
        {
          "output_type": "stream",
          "name": "stdout",
          "text": [
            "1.0\n"
          ]
        }
      ]
    },
    {
      "cell_type": "markdown",
      "source": [
        "<имя_DataFrame>[<имя_столбца>].max() - возвращает максимальное значение признака"
      ],
      "metadata": {
        "id": "hGT5NF7BSxL8"
      }
    },
    {
      "cell_type": "code",
      "source": [
        "print(df['Installs'].max())"
      ],
      "metadata": {
        "colab": {
          "base_uri": "https://localhost:8080/"
        },
        "id": "5OOJve4OTFr9",
        "outputId": "352e84ab-9524-4d2b-b3fe-aadfa568ce66"
      },
      "execution_count": 15,
      "outputs": [
        {
          "output_type": "stream",
          "name": "stdout",
          "text": [
            "1000000000.0\n"
          ]
        }
      ]
    },
    {
      "cell_type": "markdown",
      "source": [
        "<имя_DataFrame>[<имя_столбца>].mean() - возвращает среднее значение признака"
      ],
      "metadata": {
        "id": "41uC9J9oTmTZ"
      }
    },
    {
      "cell_type": "code",
      "source": [
        "print(df['Installs'].mean())"
      ],
      "metadata": {
        "colab": {
          "base_uri": "https://localhost:8080/"
        },
        "id": "gP-C1rVdTuDn",
        "outputId": "156974b9-0a9e-468d-ca3f-ecd9f7d36510"
      },
      "execution_count": 16,
      "outputs": [
        {
          "output_type": "stream",
          "name": "stdout",
          "text": [
            "8662312.756800871\n"
          ]
        }
      ]
    },
    {
      "cell_type": "markdown",
      "source": [
        "<имя_DataFrame>[<имя_столбца>].median() - возвращает медианное значение признака"
      ],
      "metadata": {
        "id": "Sf-nExR6T4MX"
      }
    },
    {
      "cell_type": "code",
      "source": [
        "print(df['Installs'].median())"
      ],
      "metadata": {
        "colab": {
          "base_uri": "https://localhost:8080/"
        },
        "id": "QreYMsBuT_bG",
        "outputId": "20600ff2-4e78-4bea-86a2-7bb27bc0ad05"
      },
      "execution_count": 17,
      "outputs": [
        {
          "output_type": "stream",
          "name": "stdout",
          "text": [
            "100000.0\n"
          ]
        }
      ]
    },
    {
      "cell_type": "code",
      "source": [
        "avg_price = round(df['Price'].mean(),3)\n",
        "print('Средняя цена приложения:', avg_price)"
      ],
      "metadata": {
        "colab": {
          "base_uri": "https://localhost:8080/"
        },
        "id": "n9Mm3FlLUUXm",
        "outputId": "8923c554-819b-45f1-9480-f3002782de5b"
      },
      "execution_count": 18,
      "outputs": [
        {
          "output_type": "stream",
          "name": "stdout",
          "text": [
            "Средняя цена приложения: 1.171\n"
          ]
        }
      ]
    },
    {
      "cell_type": "markdown",
      "source": [
        "Определить среднее количество скачиваний (Installs) приложений, рейтинг (Rating) которых превышает значение 4.9."
      ],
      "metadata": {
        "id": "LOxtgHhYVHIn"
      }
    },
    {
      "cell_type": "code",
      "source": [
        "print(df[df['Rating'] > 4.9]['Installs'].mean())"
      ],
      "metadata": {
        "colab": {
          "base_uri": "https://localhost:8080/"
        },
        "id": "6fb2F1O-VJKh",
        "outputId": "d4f07560-d856-4e83-c3b4-a073d4bbc663"
      },
      "execution_count": 19,
      "outputs": [
        {
          "output_type": "stream",
          "name": "stdout",
          "text": [
            "331.40697674418607\n"
          ]
        }
      ]
    },
    {
      "cell_type": "markdown",
      "source": [
        "Определить среднее количество скачиваний (Installs) бесплатных приложений (Type == 'Free'), рейтинг (Rating) которых превышает 4.9."
      ],
      "metadata": {
        "id": "Q7E7EpUSVpZC"
      }
    },
    {
      "cell_type": "code",
      "source": [
        "print(df[(df['Rating'] > 4.9) &(df['Type'] =='Free')]['Installs'].mean())"
      ],
      "metadata": {
        "colab": {
          "base_uri": "https://localhost:8080/"
        },
        "id": "bk8yzBGEVrEs",
        "outputId": "a4fb7d57-7742-4b90-a652-46aca1eb73f3"
      },
      "execution_count": 20,
      "outputs": [
        {
          "output_type": "stream",
          "name": "stdout",
          "text": [
            "362.5151515151515\n"
          ]
        }
      ]
    },
    {
      "cell_type": "markdown",
      "source": [
        "БОЛЬШОЕ ЗАДАНИЕ для самостоятельной работы."
      ],
      "metadata": {
        "id": "4OvhfW2NV95L"
      }
    },
    {
      "cell_type": "markdown",
      "source": [
        "Сколько стоит самое дешёвое платное приложение?\n",
        "С помощью фильтрации выбери из датасета только платные приложения и найди цену (Price) самого дешёвого из них."
      ],
      "metadata": {
        "id": "K_wagBW5WP6D"
      }
    },
    {
      "cell_type": "code",
      "source": [
        "print(df[df['Type'] == 'Paid']['Price'].min())"
      ],
      "metadata": {
        "id": "PxBorRwaWZxY",
        "colab": {
          "base_uri": "https://localhost:8080/"
        },
        "outputId": "f585c569-7f60-4de7-cb03-3747c2f4fdb2"
      },
      "execution_count": 21,
      "outputs": [
        {
          "output_type": "stream",
          "name": "stdout",
          "text": [
            "0.99\n"
          ]
        }
      ]
    },
    {
      "cell_type": "markdown",
      "source": [
        "ОТВЕТ: 0.99"
      ],
      "metadata": {
        "id": "eFKqbTJAWaNG"
      }
    },
    {
      "cell_type": "markdown",
      "source": [
        "Чему равна медиана количества установок приложений из категории ART_AND_DESIGN?\n",
        "С помощью фильтрации выбери из датасета приложения, относящиеся к категории (Category) ART_AND_DESIGN. Найди медиану (median) количества установок (Installs) среди всех отобранных приложений."
      ],
      "metadata": {
        "id": "49GQaRM-WcsQ"
      }
    },
    {
      "cell_type": "code",
      "source": [
        "print(df[df['Category'] == 'ART_AND_DESIGN']['Installs'].median())"
      ],
      "metadata": {
        "id": "uAhaDWlBWpkv",
        "colab": {
          "base_uri": "https://localhost:8080/"
        },
        "outputId": "4ee89d8e-d883-4b1f-aa6a-bf04cb1b359a"
      },
      "execution_count": 22,
      "outputs": [
        {
          "output_type": "stream",
          "name": "stdout",
          "text": [
            "100000.0\n"
          ]
        }
      ]
    },
    {
      "cell_type": "markdown",
      "source": [
        "ОТВЕТ: 100000"
      ],
      "metadata": {
        "id": "kR_cYyamWp6v"
      }
    },
    {
      "cell_type": "markdown",
      "source": [
        "На сколько максимальное количество отзывов для бесплатных приложений больше максимального количества отзывов для платных приложений?\n",
        "Найди максимальное количество отзывов (Reviews) для бесплатных (Type == 'Free') и платных (Type == 'Paid') приложений. На сколько одно значение больше другого?"
      ],
      "metadata": {
        "id": "rSEf943UWxT7"
      }
    },
    {
      "cell_type": "code",
      "source": [
        "print(df[df['Type'] == 'Free']['Reviews'].max() - df[df['Type'] == 'Paid']['Reviews'].max())"
      ],
      "metadata": {
        "id": "UvAcjhS7W4W7",
        "colab": {
          "base_uri": "https://localhost:8080/"
        },
        "outputId": "862632e6-857a-45fa-f9dc-e223c4b8e20b"
      },
      "execution_count": 23,
      "outputs": [
        {
          "output_type": "stream",
          "name": "stdout",
          "text": [
            "44703802\n"
          ]
        }
      ]
    },
    {
      "cell_type": "markdown",
      "source": [
        "ОТВЕТ: 44703802"
      ],
      "metadata": {
        "id": "7z5UTvQWW4yP"
      }
    },
    {
      "cell_type": "markdown",
      "source": [
        "\n",
        "Каков минимальный размер приложения для тинейджеров?\n",
        "С помощью фильтрации выбери из набора данных приложения для тинейджеров (Content Rating == 'Teen').\n",
        "Каков минимальный размер (Size) приложения в данном наборе?"
      ],
      "metadata": {
        "id": "WtA3BCrrW7u2"
      }
    },
    {
      "cell_type": "code",
      "source": [
        "print(df[df['Content Rating'] == 'Teen']['Size'].min())"
      ],
      "metadata": {
        "id": "l3D-pJdtW_0H",
        "colab": {
          "base_uri": "https://localhost:8080/"
        },
        "outputId": "41ac229b-a723-437b-b48e-4f8cb9a6c91c"
      },
      "execution_count": 24,
      "outputs": [
        {
          "output_type": "stream",
          "name": "stdout",
          "text": [
            "0.3154296875\n"
          ]
        }
      ]
    },
    {
      "cell_type": "markdown",
      "source": [
        "ОТВЕТ: 0.3154296875"
      ],
      "metadata": {
        "id": "awqu392cXA3m"
      }
    },
    {
      "cell_type": "markdown",
      "source": [
        "\n",
        "*К какой категории относится приложение с самым большим количеством отзывов?\n",
        "С помощью фильтрации выбери из набора данных приложение с самым большим количеством отзывов (Reviews). Обрати внимание, что в условии для фильтрации ты можешь использовать для этого метод max().\n",
        "К какой категории (Category) относится найденное тобой приложение?"
      ],
      "metadata": {
        "id": "eJ2ioH1qXM1X"
      }
    },
    {
      "cell_type": "code",
      "source": [
        "print(df[df['Reviews'] == df['Reviews'].max()]['Category'].item())"
      ],
      "metadata": {
        "id": "99KyB__KXPfw",
        "colab": {
          "base_uri": "https://localhost:8080/"
        },
        "outputId": "4dc80292-1b6c-4ae2-96aa-6db735e7f535"
      },
      "execution_count": 25,
      "outputs": [
        {
          "output_type": "stream",
          "name": "stdout",
          "text": [
            "GAME\n"
          ]
        }
      ]
    },
    {
      "cell_type": "markdown",
      "source": [
        "ОТВЕТ: GAME"
      ],
      "metadata": {
        "id": "n0L2DR8LXYzp"
      }
    },
    {
      "cell_type": "markdown",
      "source": [
        "\n",
        "*Каков средний рейтинг приложений стоимостью более 20$ и с количеством установок более 10000? С помощью фильтрации по двум условиям выбери из набора данных приложения стоимостью более 20 долларов и с количеством установок более 10000. Определи средний рейтинг таких приложений."
      ],
      "metadata": {
        "id": "jAMMjra1XaR-"
      }
    },
    {
      "cell_type": "code",
      "source": [
        "print(df[(df['Price'] > 20) & (df['Installs'] > 10000)]['Rating'].mean())"
      ],
      "metadata": {
        "id": "-IbuZPvUXdib",
        "colab": {
          "base_uri": "https://localhost:8080/"
        },
        "outputId": "ac20ad61-abcb-496c-c094-eb3bf55fad0e"
      },
      "execution_count": 26,
      "outputs": [
        {
          "output_type": "stream",
          "name": "stdout",
          "text": [
            "4.25\n"
          ]
        }
      ]
    },
    {
      "cell_type": "markdown",
      "source": [
        "ОТВЕТ: 4.25"
      ],
      "metadata": {
        "id": "YrleO2RuYUe9"
      }
    },
    {
      "cell_type": "markdown",
      "source": [
        "Методы группировки данных"
      ],
      "metadata": {
        "id": "Fmx_BRffYtQg"
      }
    },
    {
      "cell_type": "markdown",
      "source": [
        "Метод value_counts() подсчитывает количество уникальных значений признака в столбце."
      ],
      "metadata": {
        "id": "UtMK5pyiZJ0J"
      }
    },
    {
      "cell_type": "markdown",
      "source": [
        "Посчитать, во сколько раз количество приложений для аудитории «все пользователи»  превышает количество приложений для пользователей «старше 10 лет» при помощи метода value_counts()."
      ],
      "metadata": {
        "id": "C6sB3LtPZMAo"
      }
    },
    {
      "cell_type": "code",
      "source": [
        "temp = df['Content Rating'].value_counts()\n",
        "print(temp)\n",
        "everyone = temp['Everyone']\n",
        "everyone_10 = temp['Everyone 10+']\n",
        "print(everyone / everyone_10)"
      ],
      "metadata": {
        "colab": {
          "base_uri": "https://localhost:8080/"
        },
        "id": "mBU52f3FZTi6",
        "outputId": "80975fc4-9f18-4a30-9105-7c55950aa9a0"
      },
      "execution_count": 27,
      "outputs": [
        {
          "output_type": "stream",
          "name": "stdout",
          "text": [
            "Everyone        6166\n",
            "Teen             868\n",
            "Everyone 10+     318\n",
            "Name: Content Rating, dtype: int64\n",
            "19.38993710691824\n"
          ]
        }
      ]
    },
    {
      "cell_type": "markdown",
      "source": [
        "Метод groupby() позволяет сгруппировать данные по одному или нескольким признакам и для сгруппированных данных вычислить необходимую статистику."
      ],
      "metadata": {
        "id": "MkxXFVRTZ9WS"
      }
    },
    {
      "cell_type": "markdown",
      "source": [
        "Посчитать средний размер приложений для всех целевых аудиторий при помощи метода groupby()."
      ],
      "metadata": {
        "id": "d9bCTfIeZ07a"
      }
    },
    {
      "cell_type": "code",
      "source": [
        "print(df.groupby(by = 'Content Rating')['Size'].mean())"
      ],
      "metadata": {
        "colab": {
          "base_uri": "https://localhost:8080/"
        },
        "id": "dWIJmusLaBtD",
        "outputId": "29afa44c-b0f6-4427-d987-bbb43035d31f"
      },
      "execution_count": 28,
      "outputs": [
        {
          "output_type": "stream",
          "name": "stdout",
          "text": [
            "Content Rating\n",
            "Everyone        20.397063\n",
            "Everyone 10+    40.733419\n",
            "Teen            33.041953\n",
            "Name: Size, dtype: float64\n"
          ]
        }
      ]
    },
    {
      "cell_type": "markdown",
      "source": [
        "Метод aggregate() (сокращённое название agg()) позволяет применить к сгруппированным данным сразу несколько функций для подсчёта статистики. В качестве параметра метод принимает список имён функций в виде строковых констант."
      ],
      "metadata": {
        "id": "-pHcb1fHaO01"
      }
    },
    {
      "cell_type": "markdown",
      "source": [
        "Подсчитать минимальный и максимальный размер приложений для каждой целевой аудитории при помощи метода agg()."
      ],
      "metadata": {
        "id": "B_0KfA3laV-G"
      }
    },
    {
      "cell_type": "code",
      "source": [
        "print(df.groupby(by = 'Content Rating')['Size'].agg(['min', 'max']))"
      ],
      "metadata": {
        "colab": {
          "base_uri": "https://localhost:8080/"
        },
        "id": "vZh004BSaYuT",
        "outputId": "afd98c12-8f90-4a47-cd60-5918088aeb59"
      },
      "execution_count": 29,
      "outputs": [
        {
          "output_type": "stream",
          "name": "stdout",
          "text": [
            "                     min    max\n",
            "Content Rating                 \n",
            "Everyone        0.008301  100.0\n",
            "Everyone 10+    0.027344  100.0\n",
            "Teen            0.315430  100.0\n"
          ]
        }
      ]
    },
    {
      "cell_type": "markdown",
      "source": [
        "БОЛЬШОЕ ЗАДАНИЕ для самостоятельной работы."
      ],
      "metadata": {
        "id": "Hy4nZwW6apVH"
      }
    },
    {
      "cell_type": "markdown",
      "source": [
        "\n",
        "Проанализируй приложения по категориям\n",
        "Сколько всего приложений с категорией ('Category') 'BUSINESS'?"
      ],
      "metadata": {
        "id": "4RG6TnQ9avl7"
      }
    },
    {
      "cell_type": "code",
      "source": [
        "print(df[df['Category'] == 'BUSINESS']['App'].count())"
      ],
      "metadata": {
        "id": "HLFkNcz6a6ZK",
        "colab": {
          "base_uri": "https://localhost:8080/"
        },
        "outputId": "4447efc9-87af-48fe-e8bd-0105b24329b8"
      },
      "execution_count": 30,
      "outputs": [
        {
          "output_type": "stream",
          "name": "stdout",
          "text": [
            "246\n"
          ]
        }
      ]
    },
    {
      "cell_type": "markdown",
      "source": [
        "ОТВЕТ: 246"
      ],
      "metadata": {
        "id": "kMBXcUmpa642"
      }
    },
    {
      "cell_type": "markdown",
      "source": [
        "Проанализируй соотношение количества приложений\n",
        "Чему равно соотношение количества приложений для подростков ('Teen') и для детей старше 10 ('Everyone 10+')?\n",
        "Ответ запиши с точностью до сотых."
      ],
      "metadata": {
        "id": "DKikFgFma8-b"
      }
    },
    {
      "cell_type": "code",
      "source": [
        "print(round(df[df['Content Rating'] == 'Teen']['App'].count() / df[df['Content Rating'] == 'Everyone 10+']['App'].count(), 2))"
      ],
      "metadata": {
        "id": "SC_is87fbDj_",
        "colab": {
          "base_uri": "https://localhost:8080/"
        },
        "outputId": "45398520-bd1b-4324-8136-989ee746c1f7"
      },
      "execution_count": 33,
      "outputs": [
        {
          "output_type": "stream",
          "name": "stdout",
          "text": [
            "2.73\n"
          ]
        }
      ]
    },
    {
      "cell_type": "markdown",
      "source": [
        "ОТВЕТ: 2.73"
      ],
      "metadata": {
        "id": "t3TJ4RtCbEE3"
      }
    },
    {
      "cell_type": "markdown",
      "source": [
        "\n",
        "Проанализируй средний рейтинг приложений по типу\n",
        "Найди ответы на вопросы:\n",
        "1. Чему равен средний рейтинг ('Rating') платных ('Paid') приложений? Ответ запиши с точностью до сотых.\n",
        "2. На сколько средний рейтинг ('Rating') бесплатных ('Free') приложений меньше среднего рейтинга платных ('Paid')? Ответ запиши с точностью до сотых."
      ],
      "metadata": {
        "id": "jZmXNlOHbGVH"
      }
    },
    {
      "cell_type": "code",
      "source": [
        "print(round(df[df['Type'] == 'Paid']['Rating'].mean(), 2))\n",
        "print(round(df[df['Type'] == 'Paid']['Rating'].mean() - df[df['Type'] == 'Free']['Rating'].mean(), 2))"
      ],
      "metadata": {
        "id": "Qd_96zhlbLSD",
        "colab": {
          "base_uri": "https://localhost:8080/"
        },
        "outputId": "fc2e3d72-f7de-45a9-9cff-7b7be5db4301"
      },
      "execution_count": 34,
      "outputs": [
        {
          "output_type": "stream",
          "name": "stdout",
          "text": [
            "4.25\n",
            "0.08\n"
          ]
        }
      ]
    },
    {
      "cell_type": "markdown",
      "source": [
        "ОТВЕТ: 1) 4.25; 2) 0.08"
      ],
      "metadata": {
        "id": "KTwQOdHvbNlk"
      }
    },
    {
      "cell_type": "markdown",
      "source": [
        "\n",
        "Проанализируй минимальный и максимальный размер приложений\n",
        "Чему равен минимальный и максимальный размер ('Size') приложений в категории ('Category') 'COMICS'?\n",
        "Запиши ответы с точностью до сотых."
      ],
      "metadata": {
        "id": "huKEQ-QlbSbH"
      }
    },
    {
      "cell_type": "code",
      "source": [
        "# tmp = df[df['Category'] == 'COMICS']['Size']\n",
        "# print(tmp.min(), tmp.max(), sep='\\n')\n",
        "print(round(df[df['Category'] == 'COMICS']['Size'].agg(['min', 'max']), 2))"
      ],
      "metadata": {
        "id": "eAm-HPSKbVhn",
        "colab": {
          "base_uri": "https://localhost:8080/"
        },
        "outputId": "f25633f9-6bab-431d-d6ab-0b747050bc14"
      },
      "execution_count": 37,
      "outputs": [
        {
          "output_type": "stream",
          "name": "stdout",
          "text": [
            "min     0.43\n",
            "max    40.00\n",
            "Name: Size, dtype: float64\n"
          ]
        }
      ]
    },
    {
      "cell_type": "markdown",
      "source": [
        "ОТВЕТ: Минимальный: 0.43; Максимальный: 40"
      ],
      "metadata": {
        "id": "azXVNnMLbV_d"
      }
    },
    {
      "cell_type": "markdown",
      "source": [
        "\n",
        "*Бонусные задачи.\n",
        "Найди ответы на вопросы:\n",
        "1. Сколько приложений с рейтингом ('Rating') строго больше 4.5 в категории ('Category') 'FINANCE'?\n",
        "2. Чему равно соотношение бесплатных ('Free') и платных ('Paid') игр с рейтингом ('Rating') больше 4.9?"
      ],
      "metadata": {
        "id": "zkFMSi-PbYTD"
      }
    },
    {
      "cell_type": "code",
      "source": [
        "print(df[(df['Rating'] > 4.5) & (df['Category'] == 'FINANCE')]['App'].count())\n",
        "print(df[(df['Type'] == 'Free') & (df['Rating'] > 4.9)]['App'].count() / df[(df['Type'] == 'Paid') & (df['Rating'] > 4.9)]['App'].count())"
      ],
      "metadata": {
        "id": "XmPgRpWDbbur",
        "colab": {
          "base_uri": "https://localhost:8080/"
        },
        "outputId": "7cf9f15a-aa62-4629-a093-eedccb2b1413"
      },
      "execution_count": 32,
      "outputs": [
        {
          "output_type": "stream",
          "name": "stdout",
          "text": [
            "64\n",
            "8.555555555555555\n"
          ]
        }
      ]
    },
    {
      "cell_type": "markdown",
      "source": [
        "ОТВЕТ: 1) 64; 2) 8.555555555555555"
      ],
      "metadata": {
        "id": "yst0yXYJbcbB"
      }
    }
  ]
}