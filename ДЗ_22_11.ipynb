{
  "nbformat": 4,
  "nbformat_minor": 0,
  "metadata": {
    "colab": {
      "provenance": [],
      "include_colab_link": true
    },
    "kernelspec": {
      "name": "python3",
      "display_name": "Python 3"
    },
    "language_info": {
      "name": "python"
    }
  },
  "cells": [
    {
      "cell_type": "markdown",
      "metadata": {
        "id": "view-in-github",
        "colab_type": "text"
      },
      "source": [
        "<a href=\"https://colab.research.google.com/github/DarkAngel285/GoogleCoLab/blob/main/%D0%94%D0%97_22_11.ipynb\" target=\"_parent\"><img src=\"https://colab.research.google.com/assets/colab-badge.svg\" alt=\"Open In Colab\"/></a>"
      ]
    },
    {
      "cell_type": "code",
      "execution_count": 2,
      "metadata": {
        "id": "UXp_-YhdmhsR"
      },
      "outputs": [],
      "source": [
        "import pandas as pd"
      ]
    },
    {
      "cell_type": "code",
      "source": [
        "#Монтируем гугл диск. Выйдет окно диалога - надо разрешить доступ\n",
        "from google.colab import drive\n",
        "drive.mount ('/content/drive')"
      ],
      "metadata": {
        "colab": {
          "base_uri": "https://localhost:8080/"
        },
        "id": "A2s5Ahq6mvbz",
        "outputId": "7480531e-56ba-40b7-fd53-981809d2ae43"
      },
      "execution_count": 3,
      "outputs": [
        {
          "output_type": "stream",
          "name": "stdout",
          "text": [
            "Mounted at /content/drive\n"
          ]
        }
      ]
    },
    {
      "cell_type": "code",
      "source": [
        "df = pd.read_csv(\"/content/drive/MyDrive/GooglePlayStore_wild.csv\")"
      ],
      "metadata": {
        "id": "aQIUdaVRm213"
      },
      "execution_count": 4,
      "outputs": []
    },
    {
      "cell_type": "markdown",
      "source": [
        "## Предварительно нужно очистить датафрейм (подсказки есть в другом блокноте). Уже на очищенном датафрейме выполнить следующие задания."
      ],
      "metadata": {
        "id": "DDzTGzrzm_IM"
      }
    },
    {
      "cell_type": "markdown",
      "source": [
        "1. Чему равен максимальный размер ('Size') приложений из категории ('Category') 'TOOLS'?"
      ],
      "metadata": {
        "id": "FmJwT_s6nRPy"
      }
    },
    {
      "cell_type": "code",
      "source": [
        "def make_size(Size):\n",
        "  if type(Size) != str:\n",
        "    return Size\n",
        "  if Size[-1] == 'M':\n",
        "    return float(Size[:-1]) * 1024\n",
        "  elif Size[-1] == 'K':\n",
        "    return float(Size[:-1])\n",
        "  return -1\n",
        "\n",
        "df['Size'] = df['Size'].apply(make_size)\n",
        "print(df[df['Category'] == 'TOOLS']['Size'].max())"
      ],
      "metadata": {
        "id": "39tKgNmkna4O",
        "colab": {
          "base_uri": "https://localhost:8080/"
        },
        "outputId": "1767fe5c-5808-48a4-c00c-0eee55b98eb5"
      },
      "execution_count": 5,
      "outputs": [
        {
          "output_type": "stream",
          "name": "stdout",
          "text": [
            "101376.0\n"
          ]
        }
      ]
    },
    {
      "cell_type": "markdown",
      "source": [
        "ОТВЕТ: 101376.0"
      ],
      "metadata": {
        "id": "vlubosGVnbQ2"
      }
    },
    {
      "cell_type": "markdown",
      "source": [
        "2. Сгруппируй данные по типу ('Type') и целевой аудитории ('Content Rating') любым удобным для тебя способом, посчитай среднее количество установок ('Installs') в каждой группе. Результат округли до десятых. В полученной таблице найди ячейку с самым большим значением. К какой возрастной группе и типу приложений относятся данные из этой ячейки?"
      ],
      "metadata": {
        "id": "tb4IpaW8nc3j"
      }
    },
    {
      "cell_type": "code",
      "source": [
        "def make_installs(Installs):\n",
        "    if type(Installs) != str:\n",
        "        return Installs\n",
        "    Installs = Installs.replace(',', '')\n",
        "    if Installs[-1] == '+':\n",
        "        Installs = int(Installs[:-1])\n",
        "    return Installs\n",
        "\n",
        "df['Installs'] = df['Installs'].apply(make_installs)\n",
        "print(df.groupby(by = ['Type', 'Content Rating'])['Installs'].mean().apply(round, args=[1]))"
      ],
      "metadata": {
        "id": "mXiD7XAhnlu_",
        "colab": {
          "base_uri": "https://localhost:8080/"
        },
        "outputId": "b885dd0d-b425-4435-bf7a-5fb2dde64955"
      },
      "execution_count": 5,
      "outputs": [
        {
          "output_type": "stream",
          "name": "stdout",
          "text": [
            "Type  Content Rating \n",
            "Free  Adults only 18+      666666.7\n",
            "      Everyone           14231847.8\n",
            "      Everyone 10+       34761492.9\n",
            "      Mature 17+         11509621.4\n",
            "      Teen               30026612.0\n",
            "      Unrated               25250.0\n",
            "Paid  Everyone              45283.6\n",
            "      Everyone 10+         742863.6\n",
            "      Mature 17+           569126.0\n",
            "      Teen                 107441.0\n",
            "Name: Installs, dtype: float64\n"
          ]
        }
      ]
    },
    {
      "cell_type": "markdown",
      "source": [
        "ОТВЕТ:\n",
        "```\n",
        "Type  Content Rating\n",
        "Free  Adults only 18+      666666.7\n",
        "      Everyone           14231847.8\n",
        "      Everyone 10+       34761492.9\n",
        "      Mature 17+         11509621.4\n",
        "      Teen               30026612.0\n",
        "      Unrated               25250.0\n",
        "Paid  Everyone              45283.6\n",
        "      Everyone 10+         742863.6\n",
        "      Mature 17+           569126.0\n",
        "      Teen                 107441.0\n",
        "Name: Installs, dtype: float64\n",
        "```"
      ],
      "metadata": {
        "id": "Vzb7az0snnkc"
      }
    },
    {
      "cell_type": "markdown",
      "source": [
        "3. В значениях приложения с индексом 10472 допущена ошибка. Какая? Исправь её."
      ],
      "metadata": {
        "id": "TLflxFRvnpPz"
      }
    },
    {
      "cell_type": "code",
      "source": [
        "i = 0\n",
        "def reset_indexes(index):\n",
        "    global i\n",
        "    index = i\n",
        "    i += 1\n",
        "    return index\n",
        "\n",
        "df['Unnamed: 0'] = df['Unnamed: 0'].apply(reset_indexes)\n",
        "print(df[(10470 <= df['Unnamed: 0']) & (df['Unnamed: 0'] <= 10475)]['Unnamed: 0'])\n"
      ],
      "metadata": {
        "id": "BHZocwlUnuzH",
        "colab": {
          "base_uri": "https://localhost:8080/"
        },
        "outputId": "148c4713-b654-4186-ab43-9e448bcf44d6"
      },
      "execution_count": 8,
      "outputs": [
        {
          "output_type": "stream",
          "name": "stdout",
          "text": [
            "10470    10470\n",
            "10471    10471\n",
            "10472    10472\n",
            "10473    10473\n",
            "10474    10474\n",
            "10475    10475\n",
            "Name: Unnamed: 0, dtype: int64\n"
          ]
        }
      ]
    },
    {
      "cell_type": "markdown",
      "source": [
        "ОТВЕТ: Индекс 10472 пропущен.\n",
        "\n",
        "```\n",
        "Было              Стало\n",
        "10470  10470      10470  10470\n",
        "10471  10471      10471  10471\n",
        "10472  10473      10472  10472\n",
        "10473  10474      10473  10473\n",
        "10474  10475      10474  10474\n",
        "10475  10476      10475  10475\n",
        "```\n",
        "\n"
      ],
      "metadata": {
        "id": "8E1bYWy0nvFI"
      }
    }
  ]
}