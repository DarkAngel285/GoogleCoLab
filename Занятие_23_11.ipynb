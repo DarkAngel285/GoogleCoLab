{
  "nbformat": 4,
  "nbformat_minor": 0,
  "metadata": {
    "colab": {
      "provenance": [],
      "include_colab_link": true
    },
    "kernelspec": {
      "name": "python3",
      "display_name": "Python 3"
    },
    "language_info": {
      "name": "python"
    }
  },
  "cells": [
    {
      "cell_type": "markdown",
      "metadata": {
        "id": "view-in-github",
        "colab_type": "text"
      },
      "source": [
        "<a href=\"https://colab.research.google.com/github/DarkAngel285/GoogleCoLab/blob/main/%D0%97%D0%B0%D0%BD%D1%8F%D1%82%D0%B8%D0%B5_23_11.ipynb\" target=\"_parent\"><img src=\"https://colab.research.google.com/assets/colab-badge.svg\" alt=\"Open In Colab\"/></a>"
      ]
    },
    {
      "cell_type": "code",
      "execution_count": null,
      "metadata": {
        "id": "0EYP0IfYMnIc"
      },
      "outputs": [],
      "source": [
        "import pandas as pd"
      ]
    },
    {
      "cell_type": "code",
      "source": [
        "#Монтируем гугл диск. Выйдет окно диалога - надо разрешить доступ\n",
        "from google.colab import drive\n",
        "drive.mount ('/content/drive')"
      ],
      "metadata": {
        "colab": {
          "base_uri": "https://localhost:8080/"
        },
        "id": "DfS4-X3bMvdo",
        "outputId": "eb2a003f-575c-492d-a304-3c00d25d7b09"
      },
      "execution_count": null,
      "outputs": [
        {
          "output_type": "stream",
          "name": "stdout",
          "text": [
            "Mounted at /content/drive\n"
          ]
        }
      ]
    },
    {
      "cell_type": "code",
      "source": [
        "df = pd.read_csv('/content/drive/MyDrive/Смена/GooglePlayStore_wild.csv')"
      ],
      "metadata": {
        "id": "yo6cys5ZM7yF"
      },
      "execution_count": null,
      "outputs": []
    },
    {
      "cell_type": "code",
      "source": [
        "def make_price(price):\n",
        "  if price[0]=='$':\n",
        "    return float(price[1:])\n",
        "  return 0\n",
        "df['Price']= df['Price'].apply(make_price)"
      ],
      "metadata": {
        "id": "NYypGW5yO3CD"
      },
      "execution_count": null,
      "outputs": []
    },
    {
      "cell_type": "code",
      "source": [
        "df['Rating'].fillna(-1, inplace = True)"
      ],
      "metadata": {
        "id": "x-h-g-lvO9Rf"
      },
      "execution_count": null,
      "outputs": []
    },
    {
      "cell_type": "code",
      "source": [
        "def make_size(Size):\n",
        "  if Size[-1] == 'M':\n",
        "    return float(Size[:-1]) * 1024\n",
        "  elif Size[-1] == 'k':\n",
        "    return float(Size[:-1])\n",
        "  return -1\n",
        "df['Size']=df['Size'].apply(make_size)"
      ],
      "metadata": {
        "id": "qD9jIAKrPJjs"
      },
      "execution_count": null,
      "outputs": []
    },
    {
      "cell_type": "code",
      "source": [
        "def make_installs(installs):\n",
        "    if type(installs) != str:\n",
        "        return installs\n",
        "    installs = installs.replace(',', '')\n",
        "    if installs[-1] == '+':\n",
        "        installs = installs[:-1]\n",
        "    return int(installs)\n",
        "df['Installs'] = df['Installs'].apply(make_installs)"
      ],
      "metadata": {
        "id": "pGOMwSjDPONy"
      },
      "execution_count": null,
      "outputs": []
    },
    {
      "cell_type": "code",
      "source": [
        "df.info()"
      ],
      "metadata": {
        "colab": {
          "base_uri": "https://localhost:8080/"
        },
        "id": "T42AQYfpPWfd",
        "outputId": "edb0c61e-f668-4334-837d-645732a2cdea"
      },
      "execution_count": null,
      "outputs": [
        {
          "output_type": "stream",
          "name": "stdout",
          "text": [
            "<class 'pandas.core.frame.DataFrame'>\n",
            "RangeIndex: 10840 entries, 0 to 10839\n",
            "Data columns (total 14 columns):\n",
            " #   Column          Non-Null Count  Dtype  \n",
            "---  ------          --------------  -----  \n",
            " 0   Unnamed: 0      10840 non-null  int64  \n",
            " 1   App             10840 non-null  object \n",
            " 2   Category        10840 non-null  object \n",
            " 3   Rating          10840 non-null  float64\n",
            " 4   Reviews         10840 non-null  int64  \n",
            " 5   Size            10840 non-null  float64\n",
            " 6   Installs        10840 non-null  int64  \n",
            " 7   Type            10839 non-null  object \n",
            " 8   Price           10840 non-null  float64\n",
            " 9   Content Rating  10840 non-null  object \n",
            " 10  Genres          10840 non-null  object \n",
            " 11  Last Updated    10840 non-null  object \n",
            " 12  Current Ver     10832 non-null  object \n",
            " 13  Android Ver     10838 non-null  object \n",
            "dtypes: float64(3), int64(3), object(8)\n",
            "memory usage: 1.2+ MB\n"
          ]
        }
      ]
    },
    {
      "cell_type": "code",
      "source": [
        "print(df['Current Ver'])"
      ],
      "metadata": {
        "colab": {
          "base_uri": "https://localhost:8080/"
        },
        "id": "0ivsKYYXPiQH",
        "outputId": "45cf950b-487b-467e-ca13-3204de84d136"
      },
      "execution_count": null,
      "outputs": [
        {
          "output_type": "stream",
          "name": "stdout",
          "text": [
            "0                     1.0.0\n",
            "1                     2.0.0\n",
            "2                     1.2.4\n",
            "3        Varies with device\n",
            "4                       1.1\n",
            "                ...        \n",
            "10835                  1.48\n",
            "10836                   1.0\n",
            "10837                   1.0\n",
            "10838    Varies with device\n",
            "10839    Varies with device\n",
            "Name: Current Ver, Length: 10840, dtype: object\n"
          ]
        }
      ]
    },
    {
      "cell_type": "code",
      "source": [
        "print(df['Android Ver'])"
      ],
      "metadata": {
        "colab": {
          "base_uri": "https://localhost:8080/"
        },
        "id": "IB-PnhqyPrJR",
        "outputId": "1cb3e3da-54e5-4e81-f68d-656928195e18"
      },
      "execution_count": null,
      "outputs": [
        {
          "output_type": "stream",
          "name": "stdout",
          "text": [
            "0              4.0.3 and up\n",
            "1              4.0.3 and up\n",
            "2              4.0.3 and up\n",
            "3                4.2 and up\n",
            "4                4.4 and up\n",
            "                ...        \n",
            "10835            4.1 and up\n",
            "10836            4.1 and up\n",
            "10837            2.2 and up\n",
            "10838    Varies with device\n",
            "10839    Varies with device\n",
            "Name: Android Ver, Length: 10840, dtype: object\n"
          ]
        }
      ]
    },
    {
      "cell_type": "markdown",
      "source": [
        "Чему равен максимальный размер ('Size') приложений из категории ('Category') 'TOOLS'?"
      ],
      "metadata": {
        "id": "4pWqLBpheEEO"
      }
    },
    {
      "cell_type": "code",
      "source": [
        "print(df[df['Category'] == 'TOOLS']['Size'].max())"
      ],
      "metadata": {
        "colab": {
          "base_uri": "https://localhost:8080/"
        },
        "id": "Eyd0iXTBeFus",
        "outputId": "bf717aa8-2dde-410b-d117-6d7d55cfeea8"
      },
      "execution_count": null,
      "outputs": [
        {
          "output_type": "stream",
          "name": "stdout",
          "text": [
            "101376.0\n"
          ]
        }
      ]
    },
    {
      "cell_type": "markdown",
      "source": [
        "Сгруппируй данные по типу ('Type') и целевой аудитории ('Content Rating') любым удобным для тебя способом, посчитай среднее количество установок ('Installs') в каждой группе. Результат округли до десятых. В полученной таблице найди ячейку с самым большим значением. К какой возрастной группе и типу приложений относятся данные из этой ячейки?"
      ],
      "metadata": {
        "id": "oo4CKGs8fbE6"
      }
    },
    {
      "cell_type": "code",
      "source": [
        "print(round(df.pivot_table(index = 'Content Rating', columns = 'Type', values = 'Installs', aggfunc = 'mean')), 1)"
      ],
      "metadata": {
        "colab": {
          "base_uri": "https://localhost:8080/"
        },
        "id": "bUtiJ6f9feJI",
        "outputId": "4e0ada29-8165-44c1-8248-6d7413cdfd3b"
      },
      "execution_count": null,
      "outputs": [
        {
          "output_type": "stream",
          "name": "stdout",
          "text": [
            "Type                   Free      Paid\n",
            "Content Rating                       \n",
            "Adults only 18+    666667.0       NaN\n",
            "Everyone         14231848.0   45284.0\n",
            "Everyone 10+     34761493.0  742864.0\n",
            "Mature 17+       11509621.0  569126.0\n",
            "Teen             30026612.0  107441.0\n",
            "Unrated             25250.0       NaN 1\n"
          ]
        }
      ]
    },
    {
      "cell_type": "markdown",
      "source": [
        "В значениях приложения с индексом 10472 допущена ошибка. Какая? Исправь её."
      ],
      "metadata": {
        "id": "yn4OEzkifqg6"
      }
    },
    {
      "cell_type": "code",
      "source": [
        "print(df.iloc[10472])\n",
        "columns = list(df.columns)\n",
        "index = 10472\n",
        "for i in range(len(columns) -1, 1, -1):\n",
        "   df[columns[i]][index] = df[columns[i - 1]][index]\n"
      ],
      "metadata": {
        "colab": {
          "base_uri": "https://localhost:8080/"
        },
        "id": "ZIEvd6Fefv1S",
        "outputId": "70a0c629-009d-4656-ddb4-1d81863a1c59"
      },
      "execution_count": null,
      "outputs": [
        {
          "output_type": "stream",
          "name": "stdout",
          "text": [
            "Unnamed: 0                          10473\n",
            "App               osmino Wi-Fi: free WiFi\n",
            "Category                            TOOLS\n",
            "Rating                                4.2\n",
            "Reviews                            134203\n",
            "Size                               4198.4\n",
            "Installs                         10000000\n",
            "Type                                 Free\n",
            "Price                                 0.0\n",
            "Content Rating                   Everyone\n",
            "Genres                              Tools\n",
            "Last Updated               August 7, 2018\n",
            "Current Ver                       6.06.14\n",
            "Android Ver                    4.4 and up\n",
            "Name: 10472, dtype: object\n"
          ]
        },
        {
          "output_type": "stream",
          "name": "stderr",
          "text": [
            "<ipython-input-27-5294dc849cd2>:5: SettingWithCopyWarning: \n",
            "A value is trying to be set on a copy of a slice from a DataFrame\n",
            "\n",
            "See the caveats in the documentation: https://pandas.pydata.org/pandas-docs/stable/user_guide/indexing.html#returning-a-view-versus-a-copy\n",
            "  df[columns[i]][index] = df[columns[i - 1]][index]\n"
          ]
        }
      ]
    },
    {
      "cell_type": "markdown",
      "source": [
        "## ЗАДАНИЕ\n",
        "Заполните пустые значения в столбцах 'Current Ver' и 'Android Ver'."
      ],
      "metadata": {
        "id": "z1OZsi31RcEO"
      }
    },
    {
      "cell_type": "code",
      "source": [],
      "metadata": {
        "id": "SLXrla0vRug_"
      },
      "execution_count": null,
      "outputs": []
    },
    {
      "cell_type": "markdown",
      "source": [
        "## Feature engineering"
      ],
      "metadata": {
        "id": "yslaGUegNGgt"
      }
    },
    {
      "cell_type": "markdown",
      "source": [
        "Feature engineering - генерация новых признаков."
      ],
      "metadata": {
        "id": "Zf7GgiXmORlg"
      }
    },
    {
      "cell_type": "markdown",
      "source": [
        "Feature engineering ― процесс создания новых признаков из существующих данных."
      ],
      "metadata": {
        "id": "dmJcD_UBOfs5"
      }
    },
    {
      "cell_type": "markdown",
      "source": [
        "Создадим столбец Profit."
      ],
      "metadata": {
        "id": "yE5xGCK9R_eY"
      }
    },
    {
      "cell_type": "code",
      "source": [
        "df['Profit']= df['Installs'] * df['Price']"
      ],
      "metadata": {
        "id": "MX1rK8tmOmsS"
      },
      "execution_count": null,
      "outputs": []
    },
    {
      "cell_type": "code",
      "source": [
        "print(df[df['Type']=='Paid'].head())"
      ],
      "metadata": {
        "colab": {
          "base_uri": "https://localhost:8080/"
        },
        "id": "ZIGi8zO0SGOI",
        "outputId": "4e58f872-9353-4ac0-e402-6e1b6f95bcf9"
      },
      "execution_count": null,
      "outputs": [
        {
          "output_type": "stream",
          "name": "stdout",
          "text": [
            "     Unnamed: 0                                            App       Category  \\\n",
            "234         234  TurboScan: scan documents and receipts in PDF       BUSINESS   \n",
            "235         235                 Tiny Scanner Pro: PDF Doc Scan       BUSINESS   \n",
            "290         290  TurboScan: scan documents and receipts in PDF       BUSINESS   \n",
            "291         291                 Tiny Scanner Pro: PDF Doc Scan       BUSINESS   \n",
            "427         427                             Puffin Browser Pro  COMMUNICATION   \n",
            "\n",
            "     Rating  Reviews     Size  Installs  Type  Price Content Rating  \\\n",
            "234     4.7    11442   6963.2    100000  Paid   4.99       Everyone   \n",
            "235     4.8    10295  39936.0    100000  Paid   4.99       Everyone   \n",
            "290     4.7    11442   6963.2    100000  Paid   4.99       Everyone   \n",
            "291     4.8    10295  39936.0    100000  Paid   4.99       Everyone   \n",
            "427     4.0    18247     -1.0    100000  Paid   3.99       Everyone   \n",
            "\n",
            "            Genres    Last Updated  Current Ver Android Ver    Profit  \n",
            "234       Business  March 25, 2018        1.5.2  4.0 and up  499000.0  \n",
            "235       Business  April 11, 2017        3.4.6  3.0 and up  499000.0  \n",
            "290       Business  March 25, 2018        1.5.2  4.0 and up  499000.0  \n",
            "291       Business  April 11, 2017        3.4.6  3.0 and up  499000.0  \n",
            "427  Communication    July 5, 2018  7.5.3.20547  4.1 and up  399000.0  \n"
          ]
        }
      ]
    },
    {
      "cell_type": "markdown",
      "source": [
        "План по созданию нового столбца:\n",
        "1. Написать функцию, которая преобразует жанры строки в список.\n",
        "2. Применить функцию для преобразования типа к столбцу при помощи метода apply().\n",
        "3. Создать новый столбец, в котором будет храниться количество жанров при помощи метода apply() и встроенной функции len().\n"
      ],
      "metadata": {
        "id": "w4loaaIjSnfT"
      }
    },
    {
      "cell_type": "code",
      "source": [],
      "metadata": {
        "id": "YvtDqEDKSwub"
      },
      "execution_count": null,
      "outputs": []
    },
    {
      "cell_type": "markdown",
      "source": [
        "Чему равен максимальный доход ('Profit') среди платных приложений (Type == 'Paid')?"
      ],
      "metadata": {
        "id": "klJzI5ARTC2V"
      }
    },
    {
      "cell_type": "code",
      "source": [],
      "metadata": {
        "id": "4Mcqp3UmTGPl"
      },
      "execution_count": null,
      "outputs": []
    },
    {
      "cell_type": "markdown",
      "source": [
        "ОТВЕТ:"
      ],
      "metadata": {
        "id": "WKYtNui8TL56"
      }
    },
    {
      "cell_type": "markdown",
      "source": [
        "Какое максимальное количество жанров ('Number of genres') хранится в датасете?"
      ],
      "metadata": {
        "id": "UvQ4zxqWTGi2"
      }
    },
    {
      "cell_type": "code",
      "source": [],
      "metadata": {
        "id": "64kmvT0MTLCa"
      },
      "execution_count": null,
      "outputs": []
    },
    {
      "cell_type": "markdown",
      "source": [
        "ОТВЕТ:"
      ],
      "metadata": {
        "id": "ZOY7mq5LTOUl"
      }
    },
    {
      "cell_type": "markdown",
      "source": [
        "ЗАДАЧА\n",
        "1. Создай новый столбец, хранящий сезон, в котором было произведено последнее обновление ('Last Updated') приложения. Назови его 'Season'.\n",
        "2. Выведи на экран сезоны и их количество в датасете."
      ],
      "metadata": {
        "id": "QF8rWjNgTWj5"
      }
    },
    {
      "cell_type": "code",
      "source": [],
      "metadata": {
        "id": "r6G0ePRtTZ5T"
      },
      "execution_count": null,
      "outputs": []
    },
    {
      "cell_type": "markdown",
      "source": [
        "ЗАДАЧА.\n",
        "Создайте столбец, который содержит в себе год последнего обновления ('Last Updated')."
      ],
      "metadata": {
        "id": "DDgz1ckAUP26"
      }
    },
    {
      "cell_type": "code",
      "source": [],
      "metadata": {
        "id": "xcMVL0V9UpcK"
      },
      "execution_count": null,
      "outputs": []
    }
  ]
}